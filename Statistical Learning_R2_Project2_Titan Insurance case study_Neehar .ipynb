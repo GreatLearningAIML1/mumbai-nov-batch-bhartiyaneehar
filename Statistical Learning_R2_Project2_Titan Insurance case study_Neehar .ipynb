{
 "cells": [
  {
   "cell_type": "code",
   "execution_count": 1,
   "metadata": {},
   "outputs": [],
   "source": [
    "\n",
    "import pandas as pd\n",
    "\n",
    "df_oldScM = pd.DataFrame ([57,103,59,75,84,73,35,110,44,82,67,64,78,53,41,39,80,87,73,65,28,62,49,84,63,77,67,101,91,50])\n",
    "df_NewScM = pd.DataFrame ([62,122,54,82,84,86,32,104,38,107,84,85,99,39,34,58,73,53,66,78,41,71,38,95,81,58,75,94,100,68])\n"
   ]
  },
  {
   "cell_type": "markdown",
   "metadata": {},
   "source": [
    "# Answer 1"
   ]
  },
  {
   "cell_type": "code",
   "execution_count": 2,
   "metadata": {},
   "outputs": [
    {
     "name": "stdout",
     "output_type": "stream",
     "text": [
      "Mean of Old Scheme is: 0    68.033333\n",
      "dtype: float64\n",
      "Mean of New Scheme is: 0    72.033333\n",
      "dtype: float64\n"
     ]
    }
   ],
   "source": [
    "print('Mean of Old Scheme is:', df_oldScM.mean())\n",
    "print('Mean of New Scheme is:', df_NewScM.mean())"
   ]
  },
  {
   "cell_type": "markdown",
   "metadata": {},
   "source": [
    "#Use the five percent significance test over the data to determine the p value to check new scheme has significantly raised outputs? (8 points)\n",
    "\n",
    "#Null Hypothesis H0: <= Avg output is less than or equal to old scheme (No significant change)\n",
    "#Alt Hypothesis H1: > Avg Ouptput is greater than old scheme (There is a significant change)"
   ]
  },
  {
   "cell_type": "code",
   "execution_count": 3,
   "metadata": {},
   "outputs": [],
   "source": [
    "from scipy.stats import ttest_rel\n",
    "from statsmodels.stats.power import ttest_power"
   ]
  },
  {
   "cell_type": "markdown",
   "metadata": {},
   "source": [
    "# Answer 2"
   ]
  },
  {
   "cell_type": "code",
   "execution_count": 4,
   "metadata": {
    "scrolled": true
   },
   "outputs": [
    {
     "name": "stdout",
     "output_type": "stream",
     "text": [
      "t_statistic:  [-1.55591438] p_value:  [0.13057554]\n"
     ]
    }
   ],
   "source": [
    "t_statistic, p_value = ttest_rel(df_oldScM, df_NewScM)\n",
    "print('t_statistic: ', t_statistic,  'p_value: ', p_value)"
   ]
  },
  {
   "cell_type": "markdown",
   "metadata": {},
   "source": [
    "# Answer 3"
   ]
  },
  {
   "cell_type": "markdown",
   "metadata": {},
   "source": [
    "Since the P value is > 0.5 we cannot reject the Null hypothesis than there is no significant change between New and Old schemes\n"
   ]
  },
  {
   "cell_type": "markdown",
   "metadata": {},
   "source": [
    "# Answer 4"
   ]
  },
  {
   "cell_type": "markdown",
   "metadata": {},
   "source": [
    "Suppose it has been calculated that in order for Titan to break even, the average output must increase by £5000 in \n",
    "the scheme compared to the old scheme. If this figure is alternative hypothesis, what is:\n",
    "\n",
    "a) The probability of a type 1 error? (2 points)\n",
    "\n",
    "    b) What is the p- value of the hypothesis test if we test for a difference of $5000? (8 points)\n",
    "\n",
    "    c) Power of the test (5 points)\n",
    "\n",
    " "
   ]
  },
  {
   "cell_type": "markdown",
   "metadata": {},
   "source": [
    "H0: New Mean - Old Mean <=5000\n",
    "H1: New Mean - Old Mean > 5000"
   ]
  },
  {
   "cell_type": "code",
   "execution_count": 5,
   "metadata": {},
   "outputs": [
    {
     "name": "stdout",
     "output_type": "stream",
     "text": [
      "t_statistic:  [-3.50080736] p_value:  [0.00152121]\n"
     ]
    }
   ],
   "source": [
    "t_statistic, p_value = ttest_rel(df_oldScM, df_NewScM + 5)\n",
    "print('t_statistic: ', t_statistic,  'p_value: ', p_value)"
   ]
  },
  {
   "cell_type": "markdown",
   "metadata": {},
   "source": [
    "# Part b) Since the P value is < 0.5 reject the Null hypothesis  and there is a significant change between New -Old <=5000"
   ]
  },
  {
   "cell_type": "markdown",
   "metadata": {},
   "source": [
    "# Part a)"
   ]
  },
  {
   "cell_type": "markdown",
   "metadata": {},
   "source": [
    "# Type 1 Error is Alpha, in our case the level of significance is 0.05 so Alpha is 0.05"
   ]
  },
  {
   "cell_type": "code",
   "execution_count": 6,
   "metadata": {},
   "outputs": [],
   "source": [
    "import numpy as np"
   ]
  },
  {
   "cell_type": "code",
   "execution_count": 7,
   "metadata": {
    "scrolled": true
   },
   "outputs": [],
   "source": [
    "Power=(np.mean(df_oldScM) - np.mean(df_NewScM +5 )) / np.sqrt(((30-1)*np.var(df_oldScM)+(30-1)*np.var(df_NewScM + 5)) / 60-2)\n"
   ]
  },
  {
   "cell_type": "markdown",
   "metadata": {},
   "source": [
    "# Part c) Ans Power of the test\n",
    "\n"
   ]
  },
  {
   "cell_type": "code",
   "execution_count": 8,
   "metadata": {},
   "outputs": [
    {
     "name": "stdout",
     "output_type": "stream",
     "text": [
      "0    0.599583\n",
      "dtype: float64\n"
     ]
    }
   ],
   "source": [
    "print(ttest_power(Power, nobs=30, alpha=0.05))"
   ]
  },
  {
   "cell_type": "code",
   "execution_count": null,
   "metadata": {},
   "outputs": [],
   "source": []
  },
  {
   "cell_type": "code",
   "execution_count": null,
   "metadata": {},
   "outputs": [],
   "source": []
  }
 ],
 "metadata": {
  "kernelspec": {
   "display_name": "Python 3",
   "language": "python",
   "name": "python3"
  },
  "language_info": {
   "codemirror_mode": {
    "name": "ipython",
    "version": 3
   },
   "file_extension": ".py",
   "mimetype": "text/x-python",
   "name": "python",
   "nbconvert_exporter": "python",
   "pygments_lexer": "ipython3",
   "version": "3.6.5"
  }
 },
 "nbformat": 4,
 "nbformat_minor": 2
}
