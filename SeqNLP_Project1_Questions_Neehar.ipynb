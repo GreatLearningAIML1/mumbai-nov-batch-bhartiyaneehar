{
 "cells": [
  {
   "cell_type": "markdown",
   "metadata": {
    "colab_type": "text",
    "id": "xT7MKZuMRaCg"
   },
   "source": [
    "# Sentiment Classification\n",
    "\n",
    "\n",
    "### Generate Word Embeddings and retrieve outputs of each layer with Keras based on Classification task\n",
    "\n",
    "Word embeddings are a type of word representation that allows words with similar meaning to have a similar representation.\n",
    "\n",
    "It is a distributed representation for text that is perhaps one of the key breakthroughs for the impressive performance of deep learning methods on challenging natural language processing problems.\n",
    "\n",
    "We willl use the imdb dataset to learn word embeddings as we train our dataset. This dataset contains 25,000 movie reviews from IMDB, labeled with sentiment (positive or negative). \n",
    "\n",
    "\n",
    "\n",
    "### Dataset\n",
    "\n",
    "`from keras.datasets import imdb`\n",
    "\n",
    "Dataset of 25,000 movies reviews from IMDB, labeled by sentiment (positive/negative). Reviews have been preprocessed, and each review is encoded as a sequence of word indexes (integers). For convenience, the words are indexed by their frequency in the dataset, meaning the for that has index 1 is the most frequent word. Use the first 20 words from each review to speed up training, using a max vocab size of 10,000.\n",
    "\n",
    "As a convention, \"0\" does not stand for a specific word, but instead is used to encode any unknown word.\n",
    "\n",
    "\n",
    "### Aim\n",
    "\n",
    "1. Import test and train data  \n",
    "2. Import the labels ( train and test) \n",
    "3. Get the word index and then Create key value pair for word and word_id. (12.5 points)\n",
    "4. Build a Sequential Model using Keras for Sentiment Classification task. (10 points)\n",
    "5. Report the Accuracy of the model. (5 points)  \n",
    "6. Retrive the output of each layer in keras for a given single test sample from the trained model you built. (2.5 points)\n"
   ]
  },
  {
   "cell_type": "markdown",
   "metadata": {
    "colab_type": "text",
    "id": "Wq4RCyyPSYRp"
   },
   "source": [
    "#### Usage:"
   ]
  },
  {
   "cell_type": "markdown",
   "metadata": {},
   "source": [
    "#  Importing the Dataset and the labels"
   ]
  },
  {
   "cell_type": "code",
   "execution_count": 49,
   "metadata": {
    "colab": {},
    "colab_type": "code",
    "id": "NGCtiXUhSWss",
    "scrolled": true
   },
   "outputs": [],
   "source": [
    "from keras.datasets import imdb\n",
    "\n",
    "vocab_size = 10000 #vocab size\n",
    "\n",
    "(x_train, y_train), (x_test, y_test) = imdb.load_data(num_words=vocab_size) \n",
    "# vocab_size is no.of words to consider from the dataset, ordering based on frequency."
   ]
  },
  {
   "cell_type": "code",
   "execution_count": 50,
   "metadata": {
    "colab": {},
    "colab_type": "code",
    "id": "fCPC_WN-eCyw"
   },
   "outputs": [],
   "source": [
    "from keras.preprocessing.sequence import pad_sequences\n",
    "vocab_size = 10000 #vocab size\n",
    "maxlen = 20  #number of word used from each review"
   ]
  },
  {
   "cell_type": "markdown",
   "metadata": {},
   "source": [
    "# Padding the words to ensure all word sequences are of the same length"
   ]
  },
  {
   "cell_type": "code",
   "execution_count": 51,
   "metadata": {
    "colab": {},
    "colab_type": "code",
    "id": "h0g381XzeCyz"
   },
   "outputs": [],
   "source": [
    "#load dataset as a list of ints\n",
    "(x_train, y_train), (x_test, y_test) = imdb.load_data(num_words=vocab_size)\n",
    "#make all sequences of the same length\n",
    "x_train = pad_sequences(x_train, maxlen=maxlen)\n",
    "x_test =  pad_sequences(x_test, maxlen=maxlen)"
   ]
  },
  {
   "cell_type": "code",
   "execution_count": 52,
   "metadata": {
    "scrolled": false
   },
   "outputs": [
    {
     "data": {
      "text/plain": [
       "(25000, 20)"
      ]
     },
     "execution_count": 52,
     "metadata": {},
     "output_type": "execute_result"
    }
   ],
   "source": [
    "x_test.shape"
   ]
  },
  {
   "cell_type": "code",
   "execution_count": 53,
   "metadata": {},
   "outputs": [
    {
     "data": {
      "text/plain": [
       "(25000, 20)"
      ]
     },
     "execution_count": 53,
     "metadata": {},
     "output_type": "execute_result"
    }
   ],
   "source": [
    "x_train.shape"
   ]
  },
  {
   "cell_type": "code",
   "execution_count": 65,
   "metadata": {
    "scrolled": true
   },
   "outputs": [
    {
     "name": "stdout",
     "output_type": "stream",
     "text": [
      "Loaded dataset has 25000 in Training data and 25000 in Test data\n"
     ]
    }
   ],
   "source": [
    "print('Loaded dataset has {} in Training data and {} in Test data'.format(len(x_train), len(x_test)))\n",
    "\n"
   ]
  },
  {
   "cell_type": "code",
   "execution_count": 68,
   "metadata": {},
   "outputs": [
    {
     "name": "stdout",
     "output_type": "stream",
     "text": [
      "X_train 6 Samples\n",
      "[[  65   16   38 1334   88   12   16  283    5   16 4472  113  103   32\n",
      "    15   16 5345   19  178   32]\n",
      " [  23    4 1690   15   16    4 1355    5   28    6   52  154  462   33\n",
      "    89   78  285   16  145   95]\n",
      " [1352   13  191   79  638   89    2   14    9    8  106  607  624   35\n",
      "   534    6  227    7  129  113]\n",
      " [   7 2804    5    4  559  154  888    7  726   50   26   49 7008   15\n",
      "   566   30  579   21   64 2574]\n",
      " [  15  595   13  784   25 3171   18  165  170  143   19   14    5 7224\n",
      "     6  226  251    7   61  113]\n",
      " [  10   10 1361  173    4  749    2   16 3804    8    4  226   65   12\n",
      "    43  127   24    2   10   10]]\n"
     ]
    }
   ],
   "source": [
    "print('X_train 6 Samples')\n",
    "print(x_train[:6])\n"
   ]
  },
  {
   "cell_type": "code",
   "execution_count": 69,
   "metadata": {},
   "outputs": [
    {
     "name": "stdout",
     "output_type": "stream",
     "text": [
      "y_train 6 Samples\n",
      "[1 0 0 1 0 0]\n"
     ]
    }
   ],
   "source": [
    "print('y_train 6 Samples')\n",
    "print(y_train[:6])"
   ]
  },
  {
   "cell_type": "code",
   "execution_count": 55,
   "metadata": {},
   "outputs": [],
   "source": [
    "word_id=imdb.get_word_index()"
   ]
  },
  {
   "cell_type": "code",
   "execution_count": 56,
   "metadata": {
    "colab": {},
    "colab_type": "code",
    "id": "tZhMAgaNeCy5"
   },
   "outputs": [
    {
     "name": "stdout",
     "output_type": "stream",
     "text": [
      "---review with words---\n",
      "['i', 'i', 'slowly', 'lot', 'of', 'above', 'and', 'with', 'connect', 'in', 'of', 'script', 'their', 'that', 'out', 'end', 'his', 'and', 'i', 'i']\n",
      "---label---\n",
      "0\n"
     ]
    }
   ],
   "source": [
    "word_w = {i: word for word, i in word_id.items()}\n",
    "print('---review with words---')\n",
    "print([word_w.get(i, ' ') for i in x_train[5]])\n",
    "print('---label---')\n",
    "print(y_train[5])"
   ]
  },
  {
   "cell_type": "markdown",
   "metadata": {
    "colab_type": "text",
    "id": "dybtUgUReCy8"
   },
   "source": [
    "## Build Keras Embedding Layer Model\n",
    "We can think of the Embedding layer as a dicionary that maps a index assigned to a word to a word vector. This layer is very flexible and can be used in a few ways:\n",
    "\n",
    "* The embedding layer can be used at the start of a larger deep learning model. \n",
    "* Also we could load pre-train word embeddings into the embedding layer when we create our model.\n",
    "* Use the embedding layer to train our own word2vec models.\n",
    "\n",
    "The keras embedding layer doesn't require us to onehot encode our words, instead we have to give each word a unqiue intger number as an id. For the imdb dataset we've loaded this has already been done, but if this wasn't the case we could use sklearn [LabelEncoder](http://scikit-learn.org/stable/modules/generated/sklearn.preprocessing.LabelEncoder.html)."
   ]
  },
  {
   "cell_type": "markdown",
   "metadata": {},
   "source": [
    "# Building a Sequential Model with Embedding layer"
   ]
  },
  {
   "cell_type": "code",
   "execution_count": 57,
   "metadata": {
    "colab": {},
    "colab_type": "code",
    "id": "A5OLM4eBeCy9"
   },
   "outputs": [
    {
     "name": "stdout",
     "output_type": "stream",
     "text": [
      "_________________________________________________________________\n",
      "Layer (type)                 Output Shape              Param #   \n",
      "=================================================================\n",
      "embedding_3 (Embedding)      (None, 20, 32)            320000    \n",
      "_________________________________________________________________\n",
      "lstm_3 (LSTM)                (None, 100)               53200     \n",
      "_________________________________________________________________\n",
      "dense_7 (Dense)              (None, 64)                6464      \n",
      "_________________________________________________________________\n",
      "dense_8 (Dense)              (None, 64)                4160      \n",
      "_________________________________________________________________\n",
      "dense_9 (Dense)              (None, 1)                 65        \n",
      "=================================================================\n",
      "Total params: 383,889\n",
      "Trainable params: 383,889\n",
      "Non-trainable params: 0\n",
      "_________________________________________________________________\n",
      "None\n"
     ]
    }
   ],
   "source": [
    "from keras import Sequential\n",
    "from keras.layers import Embedding, LSTM, Dense, Dropout\n",
    "\n",
    "embedding_size=32\n",
    "\n",
    "model=Sequential()\n",
    "model.add(Embedding(vocab_size, embedding_size, input_length=maxlen))\n",
    "model.add(LSTM(100))\n",
    "# Fully connected layer\n",
    "model.add(Dense(64, activation='relu'))\n",
    "# Fully connected layer\n",
    "model.add(Dense(64, activation='relu'))\n",
    "\n",
    "model.add(Dense(1, activation='sigmoid'))\n",
    "\n",
    "print(model.summary())"
   ]
  },
  {
   "cell_type": "code",
   "execution_count": 58,
   "metadata": {
    "colab": {},
    "colab_type": "code",
    "id": "TxNDNhrseCzA"
   },
   "outputs": [],
   "source": [
    "model.compile(loss='binary_crossentropy', optimizer='adam',  metrics=['accuracy'])"
   ]
  },
  {
   "cell_type": "code",
   "execution_count": 59,
   "metadata": {},
   "outputs": [],
   "source": [
    "#load dataset as a list of ints\n",
    "(x_train, y_train), (x_test, y_test) = imdb.load_data(num_words=vocab_size)\n",
    "#make all sequences of the same length\n",
    "x_train = pad_sequences(x_train, maxlen=maxlen)\n",
    "x_test =  pad_sequences(x_test, maxlen=maxlen)\n"
   ]
  },
  {
   "cell_type": "code",
   "execution_count": 60,
   "metadata": {
    "colab": {},
    "colab_type": "code",
    "id": "L3CSVVPPeCzD",
    "scrolled": false
   },
   "outputs": [
    {
     "name": "stdout",
     "output_type": "stream",
     "text": [
      "Train on 24500 samples, validate on 500 samples\n",
      "Epoch 1/20\n",
      "24500/24500 [==============================] - 5s 224us/step - loss: 0.6392 - acc: 0.6380 - val_loss: 0.5225 - val_acc: 0.7360\n",
      "Epoch 2/20\n",
      "24500/24500 [==============================] - 4s 146us/step - loss: 0.4473 - acc: 0.7899 - val_loss: 0.4886 - val_acc: 0.7620\n",
      "Epoch 3/20\n",
      "24500/24500 [==============================] - 3s 138us/step - loss: 0.3692 - acc: 0.8409 - val_loss: 0.5028 - val_acc: 0.7700\n",
      "Epoch 4/20\n",
      "24500/24500 [==============================] - 3s 140us/step - loss: 0.3208 - acc: 0.8693 - val_loss: 0.5671 - val_acc: 0.7440\n",
      "Epoch 5/20\n",
      "24500/24500 [==============================] - 3s 139us/step - loss: 0.2795 - acc: 0.8916 - val_loss: 0.6341 - val_acc: 0.7200\n",
      "Epoch 6/20\n",
      "24500/24500 [==============================] - 3s 139us/step - loss: 0.2443 - acc: 0.9083 - val_loss: 0.6002 - val_acc: 0.7240\n",
      "Epoch 7/20\n",
      "24500/24500 [==============================] - 3s 139us/step - loss: 0.2167 - acc: 0.9218 - val_loss: 0.6813 - val_acc: 0.7120\n",
      "Epoch 8/20\n",
      "24500/24500 [==============================] - 3s 140us/step - loss: 0.1880 - acc: 0.9341 - val_loss: 0.7402 - val_acc: 0.7220\n",
      "Epoch 9/20\n",
      "24500/24500 [==============================] - 3s 140us/step - loss: 0.1678 - acc: 0.9430 - val_loss: 0.8395 - val_acc: 0.6980\n",
      "Epoch 10/20\n",
      "24500/24500 [==============================] - 3s 140us/step - loss: 0.1490 - acc: 0.9511 - val_loss: 0.9588 - val_acc: 0.6900\n",
      "Epoch 11/20\n",
      "24500/24500 [==============================] - 3s 140us/step - loss: 0.1281 - acc: 0.9579 - val_loss: 1.0170 - val_acc: 0.6940\n",
      "Epoch 12/20\n",
      "24500/24500 [==============================] - 3s 140us/step - loss: 0.1149 - acc: 0.9603 - val_loss: 1.1673 - val_acc: 0.6940\n",
      "Epoch 13/20\n",
      "24500/24500 [==============================] - 4s 145us/step - loss: 0.0994 - acc: 0.9649 - val_loss: 1.2553 - val_acc: 0.6960\n",
      "Epoch 14/20\n",
      "24500/24500 [==============================] - 3s 140us/step - loss: 0.0829 - acc: 0.9707 - val_loss: 1.3288 - val_acc: 0.6780\n",
      "Epoch 15/20\n",
      "24500/24500 [==============================] - 3s 141us/step - loss: 0.0700 - acc: 0.9749 - val_loss: 1.4670 - val_acc: 0.7020\n",
      "Epoch 16/20\n",
      "24500/24500 [==============================] - 3s 140us/step - loss: 0.0605 - acc: 0.9777 - val_loss: 1.7863 - val_acc: 0.6940\n",
      "Epoch 17/20\n",
      "24500/24500 [==============================] - 3s 140us/step - loss: 0.0525 - acc: 0.9816 - val_loss: 1.7885 - val_acc: 0.7100\n",
      "Epoch 18/20\n",
      "24500/24500 [==============================] - 3s 141us/step - loss: 0.0504 - acc: 0.9821 - val_loss: 1.9640 - val_acc: 0.6940\n",
      "Epoch 19/20\n",
      "24500/24500 [==============================] - 3s 140us/step - loss: 0.0415 - acc: 0.9857 - val_loss: 2.0515 - val_acc: 0.6800\n",
      "Epoch 20/20\n",
      "24500/24500 [==============================] - 3s 141us/step - loss: 0.0399 - acc: 0.9853 - val_loss: 2.0000 - val_acc: 0.6800\n"
     ]
    },
    {
     "data": {
      "text/plain": [
       "<keras.callbacks.History at 0x1d5f41b2be0>"
      ]
     },
     "execution_count": 60,
     "metadata": {},
     "output_type": "execute_result"
    }
   ],
   "source": [
    "batch_size = 500\n",
    "num_epochs = 20\n",
    "\n",
    "Valididation_Features, Validation_Target = x_train[:batch_size], y_train[:batch_size]\n",
    "X_train_final, y_train_final = x_train[batch_size:], y_train[batch_size:]\n",
    "\n",
    "model.fit(X_train_final, y_train_final, validation_data=(Valididation_Features, Validation_Target), batch_size=batch_size, epochs=num_epochs)"
   ]
  },
  {
   "cell_type": "markdown",
   "metadata": {},
   "source": [
    "# Testing the Accuracy of the Test and the Validation Data"
   ]
  },
  {
   "cell_type": "code",
   "execution_count": 63,
   "metadata": {
    "scrolled": true
   },
   "outputs": [
    {
     "name": "stdout",
     "output_type": "stream",
     "text": [
      "Validation accuracy: 0.6800000009536743\n"
     ]
    }
   ],
   "source": [
    "scores = model.evaluate(Valididation_Features, Validation_Target, verbose=0)\n",
    "print('Validation accuracy:', scores[1])"
   ]
  },
  {
   "cell_type": "markdown",
   "metadata": {},
   "source": [
    "# We are able to achieve an accuracy of 68% on the Validation Data"
   ]
  },
  {
   "cell_type": "code",
   "execution_count": 62,
   "metadata": {},
   "outputs": [
    {
     "name": "stdout",
     "output_type": "stream",
     "text": [
      "Test accuracy: 0.70208\n"
     ]
    }
   ],
   "source": [
    "scores = model.evaluate(x_test, y_test, verbose=0)\n",
    "print('Test accuracy:', scores[1])"
   ]
  },
  {
   "cell_type": "markdown",
   "metadata": {},
   "source": [
    "# We are able to achieve an accuracy of 70% on the Test Data"
   ]
  },
  {
   "cell_type": "markdown",
   "metadata": {
    "colab_type": "text",
    "id": "Igq8Qm8GeCzG"
   },
   "source": [
    "## Retrive the output of each layer in keras for a given single test sample from the trained model you built"
   ]
  },
  {
   "cell_type": "code",
   "execution_count": 46,
   "metadata": {
    "colab": {},
    "colab_type": "code",
    "id": "0AqOnLa2eCzH",
    "scrolled": false
   },
   "outputs": [],
   "source": [
    "from keras import backend as Ks\n",
    "import numpy as np\n",
    "inp = model.input                                           # input placeholder\n",
    "outputs = [layer.output for layer in model.layers]          # all layer outputs\n",
    "evalution_func = Ks.function([inp, Ks.learning_phase()], outputs )   # evaluation function"
   ]
  },
  {
   "cell_type": "markdown",
   "metadata": {},
   "source": [
    "# Printing the output of every layer"
   ]
  },
  {
   "cell_type": "code",
   "execution_count": 47,
   "metadata": {
    "scrolled": false
   },
   "outputs": [
    {
     "name": "stdout",
     "output_type": "stream",
     "text": [
      "[array([[[ 0.08339524,  0.06326357,  0.03041614,  0.0147679 ,\n",
      "          0.00340238,  0.07200875, -0.0015922 , -0.06254016,\n",
      "          0.00143166,  0.10034624,  0.06708504, -0.05592422,\n",
      "          0.03770265, -0.02154157,  0.03784594,  0.06294331,\n",
      "         -0.01458008, -0.01182852, -0.04454797,  0.01405974,\n",
      "          0.0192377 , -0.01103234,  0.05640777,  0.0394287 ,\n",
      "         -0.01846388,  0.05262274,  0.02952977, -0.00300695,\n",
      "         -0.01784075,  0.08953592,  0.0512347 , -0.05203152],\n",
      "        [ 0.08339524,  0.06326357,  0.03041614,  0.0147679 ,\n",
      "          0.00340238,  0.07200875, -0.0015922 , -0.06254016,\n",
      "          0.00143166,  0.10034624,  0.06708504, -0.05592422,\n",
      "          0.03770265, -0.02154157,  0.03784594,  0.06294331,\n",
      "         -0.01458008, -0.01182852, -0.04454797,  0.01405974,\n",
      "          0.0192377 , -0.01103234,  0.05640777,  0.0394287 ,\n",
      "         -0.01846388,  0.05262274,  0.02952977, -0.00300695,\n",
      "         -0.01784075,  0.08953592,  0.0512347 , -0.05203152],\n",
      "        [ 0.08339524,  0.06326357,  0.03041614,  0.0147679 ,\n",
      "          0.00340238,  0.07200875, -0.0015922 , -0.06254016,\n",
      "          0.00143166,  0.10034624,  0.06708504, -0.05592422,\n",
      "          0.03770265, -0.02154157,  0.03784594,  0.06294331,\n",
      "         -0.01458008, -0.01182852, -0.04454797,  0.01405974,\n",
      "          0.0192377 , -0.01103234,  0.05640777,  0.0394287 ,\n",
      "         -0.01846388,  0.05262274,  0.02952977, -0.00300695,\n",
      "         -0.01784075,  0.08953592,  0.0512347 , -0.05203152],\n",
      "        [ 0.08339524,  0.06326357,  0.03041614,  0.0147679 ,\n",
      "          0.00340238,  0.07200875, -0.0015922 , -0.06254016,\n",
      "          0.00143166,  0.10034624,  0.06708504, -0.05592422,\n",
      "          0.03770265, -0.02154157,  0.03784594,  0.06294331,\n",
      "         -0.01458008, -0.01182852, -0.04454797,  0.01405974,\n",
      "          0.0192377 , -0.01103234,  0.05640777,  0.0394287 ,\n",
      "         -0.01846388,  0.05262274,  0.02952977, -0.00300695,\n",
      "         -0.01784075,  0.08953592,  0.0512347 , -0.05203152],\n",
      "        [ 0.08339524,  0.06326357,  0.03041614,  0.0147679 ,\n",
      "          0.00340238,  0.07200875, -0.0015922 , -0.06254016,\n",
      "          0.00143166,  0.10034624,  0.06708504, -0.05592422,\n",
      "          0.03770265, -0.02154157,  0.03784594,  0.06294331,\n",
      "         -0.01458008, -0.01182852, -0.04454797,  0.01405974,\n",
      "          0.0192377 , -0.01103234,  0.05640777,  0.0394287 ,\n",
      "         -0.01846388,  0.05262274,  0.02952977, -0.00300695,\n",
      "         -0.01784075,  0.08953592,  0.0512347 , -0.05203152],\n",
      "        [ 0.08339524,  0.06326357,  0.03041614,  0.0147679 ,\n",
      "          0.00340238,  0.07200875, -0.0015922 , -0.06254016,\n",
      "          0.00143166,  0.10034624,  0.06708504, -0.05592422,\n",
      "          0.03770265, -0.02154157,  0.03784594,  0.06294331,\n",
      "         -0.01458008, -0.01182852, -0.04454797,  0.01405974,\n",
      "          0.0192377 , -0.01103234,  0.05640777,  0.0394287 ,\n",
      "         -0.01846388,  0.05262274,  0.02952977, -0.00300695,\n",
      "         -0.01784075,  0.08953592,  0.0512347 , -0.05203152],\n",
      "        [ 0.08339524,  0.06326357,  0.03041614,  0.0147679 ,\n",
      "          0.00340238,  0.07200875, -0.0015922 , -0.06254016,\n",
      "          0.00143166,  0.10034624,  0.06708504, -0.05592422,\n",
      "          0.03770265, -0.02154157,  0.03784594,  0.06294331,\n",
      "         -0.01458008, -0.01182852, -0.04454797,  0.01405974,\n",
      "          0.0192377 , -0.01103234,  0.05640777,  0.0394287 ,\n",
      "         -0.01846388,  0.05262274,  0.02952977, -0.00300695,\n",
      "         -0.01784075,  0.08953592,  0.0512347 , -0.05203152],\n",
      "        [ 0.08339524,  0.06326357,  0.03041614,  0.0147679 ,\n",
      "          0.00340238,  0.07200875, -0.0015922 , -0.06254016,\n",
      "          0.00143166,  0.10034624,  0.06708504, -0.05592422,\n",
      "          0.03770265, -0.02154157,  0.03784594,  0.06294331,\n",
      "         -0.01458008, -0.01182852, -0.04454797,  0.01405974,\n",
      "          0.0192377 , -0.01103234,  0.05640777,  0.0394287 ,\n",
      "         -0.01846388,  0.05262274,  0.02952977, -0.00300695,\n",
      "         -0.01784075,  0.08953592,  0.0512347 , -0.05203152],\n",
      "        [ 0.08339524,  0.06326357,  0.03041614,  0.0147679 ,\n",
      "          0.00340238,  0.07200875, -0.0015922 , -0.06254016,\n",
      "          0.00143166,  0.10034624,  0.06708504, -0.05592422,\n",
      "          0.03770265, -0.02154157,  0.03784594,  0.06294331,\n",
      "         -0.01458008, -0.01182852, -0.04454797,  0.01405974,\n",
      "          0.0192377 , -0.01103234,  0.05640777,  0.0394287 ,\n",
      "         -0.01846388,  0.05262274,  0.02952977, -0.00300695,\n",
      "         -0.01784075,  0.08953592,  0.0512347 , -0.05203152],\n",
      "        [ 0.08339524,  0.06326357,  0.03041614,  0.0147679 ,\n",
      "          0.00340238,  0.07200875, -0.0015922 , -0.06254016,\n",
      "          0.00143166,  0.10034624,  0.06708504, -0.05592422,\n",
      "          0.03770265, -0.02154157,  0.03784594,  0.06294331,\n",
      "         -0.01458008, -0.01182852, -0.04454797,  0.01405974,\n",
      "          0.0192377 , -0.01103234,  0.05640777,  0.0394287 ,\n",
      "         -0.01846388,  0.05262274,  0.02952977, -0.00300695,\n",
      "         -0.01784075,  0.08953592,  0.0512347 , -0.05203152],\n",
      "        [ 0.08339524,  0.06326357,  0.03041614,  0.0147679 ,\n",
      "          0.00340238,  0.07200875, -0.0015922 , -0.06254016,\n",
      "          0.00143166,  0.10034624,  0.06708504, -0.05592422,\n",
      "          0.03770265, -0.02154157,  0.03784594,  0.06294331,\n",
      "         -0.01458008, -0.01182852, -0.04454797,  0.01405974,\n",
      "          0.0192377 , -0.01103234,  0.05640777,  0.0394287 ,\n",
      "         -0.01846388,  0.05262274,  0.02952977, -0.00300695,\n",
      "         -0.01784075,  0.08953592,  0.0512347 , -0.05203152],\n",
      "        [ 0.08339524,  0.06326357,  0.03041614,  0.0147679 ,\n",
      "          0.00340238,  0.07200875, -0.0015922 , -0.06254016,\n",
      "          0.00143166,  0.10034624,  0.06708504, -0.05592422,\n",
      "          0.03770265, -0.02154157,  0.03784594,  0.06294331,\n",
      "         -0.01458008, -0.01182852, -0.04454797,  0.01405974,\n",
      "          0.0192377 , -0.01103234,  0.05640777,  0.0394287 ,\n",
      "         -0.01846388,  0.05262274,  0.02952977, -0.00300695,\n",
      "         -0.01784075,  0.08953592,  0.0512347 , -0.05203152],\n",
      "        [ 0.08339524,  0.06326357,  0.03041614,  0.0147679 ,\n",
      "          0.00340238,  0.07200875, -0.0015922 , -0.06254016,\n",
      "          0.00143166,  0.10034624,  0.06708504, -0.05592422,\n",
      "          0.03770265, -0.02154157,  0.03784594,  0.06294331,\n",
      "         -0.01458008, -0.01182852, -0.04454797,  0.01405974,\n",
      "          0.0192377 , -0.01103234,  0.05640777,  0.0394287 ,\n",
      "         -0.01846388,  0.05262274,  0.02952977, -0.00300695,\n",
      "         -0.01784075,  0.08953592,  0.0512347 , -0.05203152],\n",
      "        [ 0.08339524,  0.06326357,  0.03041614,  0.0147679 ,\n",
      "          0.00340238,  0.07200875, -0.0015922 , -0.06254016,\n",
      "          0.00143166,  0.10034624,  0.06708504, -0.05592422,\n",
      "          0.03770265, -0.02154157,  0.03784594,  0.06294331,\n",
      "         -0.01458008, -0.01182852, -0.04454797,  0.01405974,\n",
      "          0.0192377 , -0.01103234,  0.05640777,  0.0394287 ,\n",
      "         -0.01846388,  0.05262274,  0.02952977, -0.00300695,\n",
      "         -0.01784075,  0.08953592,  0.0512347 , -0.05203152],\n",
      "        [ 0.08339524,  0.06326357,  0.03041614,  0.0147679 ,\n",
      "          0.00340238,  0.07200875, -0.0015922 , -0.06254016,\n",
      "          0.00143166,  0.10034624,  0.06708504, -0.05592422,\n",
      "          0.03770265, -0.02154157,  0.03784594,  0.06294331,\n",
      "         -0.01458008, -0.01182852, -0.04454797,  0.01405974,\n",
      "          0.0192377 , -0.01103234,  0.05640777,  0.0394287 ,\n",
      "         -0.01846388,  0.05262274,  0.02952977, -0.00300695,\n",
      "         -0.01784075,  0.08953592,  0.0512347 , -0.05203152],\n",
      "        [ 0.08339524,  0.06326357,  0.03041614,  0.0147679 ,\n",
      "          0.00340238,  0.07200875, -0.0015922 , -0.06254016,\n",
      "          0.00143166,  0.10034624,  0.06708504, -0.05592422,\n",
      "          0.03770265, -0.02154157,  0.03784594,  0.06294331,\n",
      "         -0.01458008, -0.01182852, -0.04454797,  0.01405974,\n",
      "          0.0192377 , -0.01103234,  0.05640777,  0.0394287 ,\n",
      "         -0.01846388,  0.05262274,  0.02952977, -0.00300695,\n",
      "         -0.01784075,  0.08953592,  0.0512347 , -0.05203152],\n",
      "        [ 0.08339524,  0.06326357,  0.03041614,  0.0147679 ,\n",
      "          0.00340238,  0.07200875, -0.0015922 , -0.06254016,\n",
      "          0.00143166,  0.10034624,  0.06708504, -0.05592422,\n",
      "          0.03770265, -0.02154157,  0.03784594,  0.06294331,\n",
      "         -0.01458008, -0.01182852, -0.04454797,  0.01405974,\n",
      "          0.0192377 , -0.01103234,  0.05640777,  0.0394287 ,\n",
      "         -0.01846388,  0.05262274,  0.02952977, -0.00300695,\n",
      "         -0.01784075,  0.08953592,  0.0512347 , -0.05203152],\n",
      "        [ 0.08339524,  0.06326357,  0.03041614,  0.0147679 ,\n",
      "          0.00340238,  0.07200875, -0.0015922 , -0.06254016,\n",
      "          0.00143166,  0.10034624,  0.06708504, -0.05592422,\n",
      "          0.03770265, -0.02154157,  0.03784594,  0.06294331,\n",
      "         -0.01458008, -0.01182852, -0.04454797,  0.01405974,\n",
      "          0.0192377 , -0.01103234,  0.05640777,  0.0394287 ,\n",
      "         -0.01846388,  0.05262274,  0.02952977, -0.00300695,\n",
      "         -0.01784075,  0.08953592,  0.0512347 , -0.05203152],\n",
      "        [ 0.08339524,  0.06326357,  0.03041614,  0.0147679 ,\n",
      "          0.00340238,  0.07200875, -0.0015922 , -0.06254016,\n",
      "          0.00143166,  0.10034624,  0.06708504, -0.05592422,\n",
      "          0.03770265, -0.02154157,  0.03784594,  0.06294331,\n",
      "         -0.01458008, -0.01182852, -0.04454797,  0.01405974,\n",
      "          0.0192377 , -0.01103234,  0.05640777,  0.0394287 ,\n",
      "         -0.01846388,  0.05262274,  0.02952977, -0.00300695,\n",
      "         -0.01784075,  0.08953592,  0.0512347 , -0.05203152],\n",
      "        [ 0.08339524,  0.06326357,  0.03041614,  0.0147679 ,\n",
      "          0.00340238,  0.07200875, -0.0015922 , -0.06254016,\n",
      "          0.00143166,  0.10034624,  0.06708504, -0.05592422,\n",
      "          0.03770265, -0.02154157,  0.03784594,  0.06294331,\n",
      "         -0.01458008, -0.01182852, -0.04454797,  0.01405974,\n",
      "          0.0192377 , -0.01103234,  0.05640777,  0.0394287 ,\n",
      "         -0.01846388,  0.05262274,  0.02952977, -0.00300695,\n",
      "         -0.01784075,  0.08953592,  0.0512347 , -0.05203152]]],\n",
      "      dtype=float32), array([[ 1.18130883e-02,  6.11282550e-02,  3.20602246e-02,\n",
      "        -2.60717534e-02, -1.62661538e-01,  1.87917575e-01,\n",
      "         8.71635508e-03,  2.79872060e-01,  8.83847382e-03,\n",
      "         3.36712375e-02, -4.33603585e-01,  2.94352412e-01,\n",
      "        -1.78975552e-01,  6.05811598e-03, -4.63436469e-02,\n",
      "         3.16135623e-02,  1.77850291e-01, -2.18462534e-02,\n",
      "        -5.47140464e-02,  3.70846502e-02, -5.78372329e-02,\n",
      "         1.43405609e-02, -1.80230793e-02, -1.79033026e-01,\n",
      "         1.77201003e-01, -6.19941987e-02,  1.38510671e-02,\n",
      "         5.69740497e-02,  2.29903892e-01,  2.34837923e-02,\n",
      "        -5.93767986e-02, -2.18474446e-03, -1.19874440e-02,\n",
      "        -2.80366279e-02, -1.29647916e-02, -7.01774806e-02,\n",
      "         1.00138642e-01, -3.08308184e-01, -4.88888845e-02,\n",
      "         1.13687860e-02,  3.88813555e-01, -4.72184598e-01,\n",
      "         1.19453296e-02,  4.03107405e-02, -1.84227511e-01,\n",
      "        -7.52878096e-03,  3.53697151e-01, -2.64245290e-02,\n",
      "         3.50240129e-03,  1.21309713e-01,  1.83801837e-02,\n",
      "        -2.89317081e-03, -1.15273528e-01, -1.82060570e-01,\n",
      "        -1.36904884e-03, -4.06381845e-01, -4.96905483e-02,\n",
      "        -5.60295815e-03,  3.17393281e-02,  5.68130851e-01,\n",
      "         4.67035681e-01, -6.40731826e-02,  8.26613307e-02,\n",
      "        -4.38771814e-01, -1.27693091e-03,  1.98034756e-02,\n",
      "        -3.86793370e-04,  3.88017595e-01,  9.57665071e-02,\n",
      "        -1.75658111e-02,  5.00495434e-02, -8.58082622e-02,\n",
      "        -1.48361381e-02,  3.44850242e-01,  2.78677535e-03,\n",
      "        -5.42375386e-01,  1.47422440e-02,  5.95952123e-02,\n",
      "        -1.55001760e-01, -3.90790850e-02, -1.55498803e-01,\n",
      "         6.44551963e-02, -7.56391790e-04,  3.75154614e-02,\n",
      "         4.42515165e-02, -5.12011126e-02,  7.79616982e-02,\n",
      "        -1.12971805e-01,  4.98959094e-01, -2.99328029e-01,\n",
      "         1.32027362e-02, -2.04208821e-01, -5.17331064e-02,\n",
      "         1.84884612e-02, -2.25050971e-02, -2.16012020e-02,\n",
      "        -6.03351789e-03, -1.85148001e-01, -8.08376819e-02,\n",
      "         2.09692232e-02]], dtype=float32), array([[ 0.75195384, -0.        , -0.        ,  1.1535887 , -0.        ,\n",
      "        -0.        , -0.        , -0.        , -0.        , -0.        ,\n",
      "         1.6639836 , -0.        , -0.        ,  1.1177163 ,  0.26187629,\n",
      "        -0.        , -0.        , -0.        ,  0.33880678,  1.3605071 ,\n",
      "         0.5408887 , -0.        , -0.        ,  0.00512375, -0.        ,\n",
      "         1.4931961 ,  0.9912693 , -0.        ,  1.0363927 ,  0.03938116,\n",
      "         0.86663574,  0.0111609 ,  1.4256254 ,  0.25889212, -0.        ,\n",
      "         1.0234405 ,  0.02060003,  1.354498  , -0.        , -0.        ,\n",
      "        -0.        , -0.        , -0.        , -0.        ,  1.3898722 ,\n",
      "         0.44929072,  0.1813939 , -0.        , -0.        , -0.        ,\n",
      "        -0.        , -0.        , -0.        ,  0.90083975,  1.6641539 ,\n",
      "         1.5559311 , -0.        , -0.        , -0.        ,  1.6500623 ,\n",
      "         1.1328015 ,  1.0307832 ,  1.0245328 ,  0.9065351 ]],\n",
      "      dtype=float32), array([[-0.       ,  0.2057595, -0.       , -0.       , -0.       ,\n",
      "         3.970989 , -0.       , -0.       , -0.       , -0.       ,\n",
      "        -0.       , -0.       , -0.       , -0.       , -0.       ,\n",
      "         5.0879683,  3.7874048,  4.2269926,  0.9457441, -0.       ,\n",
      "        -0.       , -0.       ,  3.8387656, -0.       , -0.       ,\n",
      "         4.3849635, -0.       ,  3.7222667,  3.4919302, -0.       ,\n",
      "         3.9683354,  2.6533175, -0.       , -0.       , -0.       ,\n",
      "        -0.       ,  3.0627255, -0.       ,  5.258765 , -0.       ,\n",
      "         2.3330085, -0.       ,  4.258781 ,  4.4465795,  2.2835763,\n",
      "         1.7661146, -0.       ,  4.055205 , -0.       ,  5.194069 ,\n",
      "        -0.       ,  2.2993712, -0.       , -0.       , -0.       ,\n",
      "        -0.       ,  3.8859408, -0.       ,  5.0541663, -0.       ,\n",
      "        -0.       , -0.       ,  3.4157655, -0.       ]], dtype=float32), array([[2.4991432e-13]], dtype=float32)]\n"
     ]
    }
   ],
   "source": [
    "# Testing\n",
    "test = np.random.random(maxlen)[np.newaxis,...]\n",
    "layer_outs = evalution_func([test, 1.])\n",
    "print(layer_outs)"
   ]
  },
  {
   "cell_type": "markdown",
   "metadata": {},
   "source": [
    "# Source for reference"
   ]
  },
  {
   "cell_type": "markdown",
   "metadata": {
    "colab": {},
    "colab_type": "code",
    "id": "-dUDSg7VeCzM"
   },
   "source": [
    "https://towardsdatascience.com/a-beginners-guide-on-sentiment-analysis-with-rnn-9e100627c02e "
   ]
  },
  {
   "cell_type": "code",
   "execution_count": null,
   "metadata": {
    "colab": {},
    "colab_type": "code",
    "id": "Tskt_1npeCzP"
   },
   "outputs": [],
   "source": []
  }
 ],
 "metadata": {
  "accelerator": "GPU",
  "colab": {
   "collapsed_sections": [],
   "name": "SeqNLP_Project1_Questions.ipynb",
   "provenance": [],
   "version": "0.3.2"
  },
  "kernelspec": {
   "display_name": "Python 3",
   "language": "python",
   "name": "python3"
  },
  "language_info": {
   "codemirror_mode": {
    "name": "ipython",
    "version": 3
   },
   "file_extension": ".py",
   "mimetype": "text/x-python",
   "name": "python",
   "nbconvert_exporter": "python",
   "pygments_lexer": "ipython3",
   "version": "3.7.3"
  }
 },
 "nbformat": 4,
 "nbformat_minor": 1
}
