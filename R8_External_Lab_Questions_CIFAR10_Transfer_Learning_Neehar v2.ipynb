{
 "cells": [
  {
   "cell_type": "markdown",
   "metadata": {
    "colab_type": "text",
    "id": "QGIsF1ADyJ58"
   },
   "source": [
    "# Transfer Learning CIFAR10"
   ]
  },
  {
   "cell_type": "markdown",
   "metadata": {
    "colab_type": "text",
    "id": "E-n6tVFayGBe"
   },
   "source": [
    "* Train a simple convnet on the CIFAR dataset the first 5 output classes [0..4].\n",
    "* Freeze convolutional layers and fine-tune dense layers for the last 5 ouput classes [5..9].\n"
   ]
  },
  {
   "cell_type": "markdown",
   "metadata": {
    "colab_type": "text",
    "id": "Cq8ejXHJyGYq"
   },
   "source": [
    "### 1. Import CIFAR10 data and create 2 datasets with one dataset having classes from 0 to 4 and other having classes from 5 to 9 "
   ]
  },
  {
   "cell_type": "code",
   "execution_count": 98,
   "metadata": {
    "colab": {},
    "colab_type": "code",
    "id": "uWYbxnBayFUP"
   },
   "outputs": [],
   "source": [
    "import keras\n",
    "from keras.datasets import cifar10"
   ]
  },
  {
   "cell_type": "code",
   "execution_count": 99,
   "metadata": {},
   "outputs": [],
   "source": [
    "(x_train, y_train), (x_test, y_test) = cifar10.load_data()"
   ]
  },
  {
   "cell_type": "code",
   "execution_count": 100,
   "metadata": {},
   "outputs": [
    {
     "data": {
      "text/plain": [
       "(array([0, 1, 2, 3, 4, 5, 6, 7, 8, 9], dtype=uint8),\n",
       " array([0, 1, 2, 3, 4, 5, 6, 7, 8, 9]))"
      ]
     },
     "execution_count": 100,
     "metadata": {},
     "output_type": "execute_result"
    }
   ],
   "source": [
    "import numpy as np\n",
    "np.unique(y_train),np.unique(y_test)"
   ]
  },
  {
   "cell_type": "code",
   "execution_count": 101,
   "metadata": {
    "scrolled": true
   },
   "outputs": [
    {
     "name": "stdout",
     "output_type": "stream",
     "text": [
      "x_train shape: (50000, 32, 32, 3)\n",
      "x_test shape: (10000, 32, 32, 3)\n",
      "y_train shape: (50000, 1)\n",
      "y_test shape: (10000, 1)\n"
     ]
    }
   ],
   "source": [
    "print('x_train shape:', x_train.shape)\n",
    "print('x_test shape:', x_test.shape)\n",
    "print('y_train shape:', y_train.shape)\n",
    "print('y_test shape:', y_test.shape)\n"
   ]
  },
  {
   "cell_type": "code",
   "execution_count": 102,
   "metadata": {},
   "outputs": [],
   "source": [
    "y_train=y_train.reshape(y_train.shape[0])\n",
    "y_test=y_test.reshape(y_test.shape[0])"
   ]
  },
  {
   "cell_type": "code",
   "execution_count": 103,
   "metadata": {},
   "outputs": [],
   "source": [
    "x_train=x_train.reshape(x_train.shape[0],32,32,-1)\n",
    "x_test=x_test.reshape(x_test.shape[0],32,32,-1)"
   ]
  },
  {
   "cell_type": "code",
   "execution_count": 104,
   "metadata": {},
   "outputs": [
    {
     "name": "stdout",
     "output_type": "stream",
     "text": [
      "x_train shape: (50000, 32, 32, 3)\n",
      "x_test shape: (10000, 32, 32, 3)\n",
      "y_train shape: (50000,)\n",
      "y_test shape: (10000,)\n"
     ]
    }
   ],
   "source": [
    "print('x_train shape:', x_train.shape)\n",
    "print('x_test shape:', x_test.shape)\n",
    "print('y_train shape:', y_train.shape)\n",
    "print('y_test shape:', y_test.shape)\n"
   ]
  },
  {
   "cell_type": "code",
   "execution_count": 105,
   "metadata": {},
   "outputs": [],
   "source": [
    "#x_train_5_9=x_train[y_train>=5]"
   ]
  },
  {
   "cell_type": "code",
   "execution_count": 106,
   "metadata": {
    "scrolled": true
   },
   "outputs": [],
   "source": [
    "#x_train_5_9"
   ]
  },
  {
   "cell_type": "code",
   "execution_count": 107,
   "metadata": {},
   "outputs": [
    {
     "data": {
      "text/plain": [
       "array([6, 9, 9, ..., 9, 1, 1], dtype=uint8)"
      ]
     },
     "execution_count": 107,
     "metadata": {},
     "output_type": "execute_result"
    }
   ],
   "source": [
    "y_train"
   ]
  },
  {
   "cell_type": "code",
   "execution_count": 108,
   "metadata": {},
   "outputs": [],
   "source": [
    "y_train_0_4=y_train[y_train<5]"
   ]
  },
  {
   "cell_type": "code",
   "execution_count": 109,
   "metadata": {},
   "outputs": [
    {
     "data": {
      "text/plain": [
       "array([4, 1, 1, ..., 2, 1, 1], dtype=uint8)"
      ]
     },
     "execution_count": 109,
     "metadata": {},
     "output_type": "execute_result"
    }
   ],
   "source": [
    "y_train_0_4"
   ]
  },
  {
   "cell_type": "code",
   "execution_count": 110,
   "metadata": {},
   "outputs": [
    {
     "data": {
      "text/plain": [
       "array([3, 8, 8, ..., 5, 1, 7])"
      ]
     },
     "execution_count": 110,
     "metadata": {},
     "output_type": "execute_result"
    }
   ],
   "source": [
    "y_test"
   ]
  },
  {
   "cell_type": "code",
   "execution_count": 111,
   "metadata": {},
   "outputs": [
    {
     "data": {
      "text/plain": [
       "(50000,)"
      ]
     },
     "execution_count": 111,
     "metadata": {},
     "output_type": "execute_result"
    }
   ],
   "source": [
    "y_train.shape"
   ]
  },
  {
   "cell_type": "code",
   "execution_count": 112,
   "metadata": {
    "scrolled": true
   },
   "outputs": [
    {
     "data": {
      "text/plain": [
       "[array([ True, False, False, ..., False,  True, False])]"
      ]
     },
     "execution_count": 112,
     "metadata": {},
     "output_type": "execute_result"
    }
   ],
   "source": [
    "[y_test <5]"
   ]
  },
  {
   "cell_type": "code",
   "execution_count": 113,
   "metadata": {},
   "outputs": [],
   "source": [
    "x_train_0_4=x_train[y_train<5]\n",
    "x_test_0_4=x_test[y_test<5]\n",
    "y_train_0_4=y_train[y_train<5]\n",
    "y_test_0_4=y_test[y_test<5]\n",
    "x_train_5_9=x_train[y_train>=5]\n",
    "x_test_5_9=x_test[y_test>=5]\n",
    "y_train_5_9=y_train[y_train>=5]-5\n",
    "y_test_5_9=y_test[y_test>=5]-5"
   ]
  },
  {
   "cell_type": "code",
   "execution_count": 114,
   "metadata": {},
   "outputs": [
    {
     "data": {
      "text/plain": [
       "(5000, 32, 32, 3)"
      ]
     },
     "execution_count": 114,
     "metadata": {},
     "output_type": "execute_result"
    }
   ],
   "source": [
    "x_test_5_9.shape"
   ]
  },
  {
   "cell_type": "code",
   "execution_count": 115,
   "metadata": {},
   "outputs": [
    {
     "data": {
      "text/plain": [
       "(5000,)"
      ]
     },
     "execution_count": 115,
     "metadata": {},
     "output_type": "execute_result"
    }
   ],
   "source": [
    "y_test_5_9.shape"
   ]
  },
  {
   "cell_type": "code",
   "execution_count": 116,
   "metadata": {},
   "outputs": [],
   "source": [
    "#Prep the Data\n",
    "x_train_0_4 = x_train_0_4.astype('float32')\n",
    "x_test_0_4 = x_test_0_4.astype('float32')\n",
    "x_train_5_9 = x_train_5_9.astype('float32')\n",
    "x_test_5_9 = x_test_5_9.astype('float32')\n",
    "\n",
    "x_train_0_4= x_train_0_4 / 255 #Done for normalization of data, \n",
    "x_test_0_4 = x_test_0_4/255\n",
    "x_train_5_9 = x_train_5_9 / 255 #Done for normalization of data, \n",
    "x_test_5_9 = x_test_5_9 /255"
   ]
  },
  {
   "cell_type": "code",
   "execution_count": 117,
   "metadata": {},
   "outputs": [
    {
     "data": {
      "text/plain": [
       "(5000, 32, 32, 3)"
      ]
     },
     "execution_count": 117,
     "metadata": {},
     "output_type": "execute_result"
    }
   ],
   "source": [
    "x_test_5_9.shape"
   ]
  },
  {
   "cell_type": "markdown",
   "metadata": {
    "colab_type": "text",
    "id": "xtCKmQh4yXhT"
   },
   "source": [
    "### 2. Use One-hot encoding to divide y_train and y_test into required no of output classes"
   ]
  },
  {
   "cell_type": "code",
   "execution_count": 118,
   "metadata": {},
   "outputs": [],
   "source": [
    "from keras.utils import np_utils\n",
    "y_train_0_4 = np_utils.to_categorical(y_train_0_4, 5)\n",
    "y_test_0_4 = np_utils.to_categorical(y_test_0_4, 5)\n",
    "y_train_5_9 = np_utils.to_categorical(y_train_5_9, 5)\n",
    "y_test_5_9 = np_utils.to_categorical(y_test_5_9, 5)"
   ]
  },
  {
   "cell_type": "code",
   "execution_count": 119,
   "metadata": {
    "scrolled": false
   },
   "outputs": [
    {
     "data": {
      "text/plain": [
       "(array([[0., 0., 0., 0., 1.],\n",
       "        [0., 1., 0., 0., 0.],\n",
       "        [0., 1., 0., 0., 0.],\n",
       "        ...,\n",
       "        [0., 0., 1., 0., 0.],\n",
       "        [0., 1., 0., 0., 0.],\n",
       "        [0., 1., 0., 0., 0.]], dtype=float32), array([[0., 0., 0., 1., 0.],\n",
       "        [1., 0., 0., 0., 0.],\n",
       "        [0., 1., 0., 0., 0.],\n",
       "        ...,\n",
       "        [0., 0., 0., 1., 0.],\n",
       "        [0., 0., 0., 1., 0.],\n",
       "        [0., 1., 0., 0., 0.]], dtype=float32), array([[0., 1., 0., 0., 0.],\n",
       "        [0., 0., 0., 0., 1.],\n",
       "        [0., 0., 0., 0., 1.],\n",
       "        ...,\n",
       "        [1., 0., 0., 0., 0.],\n",
       "        [0., 1., 0., 0., 0.],\n",
       "        [0., 0., 0., 0., 1.]], dtype=float32), array([[0., 0., 0., 1., 0.],\n",
       "        [0., 0., 0., 1., 0.],\n",
       "        [0., 1., 0., 0., 0.],\n",
       "        ...,\n",
       "        [0., 0., 0., 1., 0.],\n",
       "        [1., 0., 0., 0., 0.],\n",
       "        [0., 0., 1., 0., 0.]], dtype=float32))"
      ]
     },
     "execution_count": 119,
     "metadata": {},
     "output_type": "execute_result"
    }
   ],
   "source": [
    "y_train_0_4,y_test_0_4,y_train_5_9,y_test_5_9"
   ]
  },
  {
   "cell_type": "markdown",
   "metadata": {
    "colab_type": "text",
    "id": "cuOiKWfeybAl"
   },
   "source": [
    "### 3. Build a sequential neural network model which can classify the classes 0 to 4 of CIFAR10 dataset with at least 80% accuracy on test data"
   ]
  },
  {
   "cell_type": "code",
   "execution_count": 129,
   "metadata": {},
   "outputs": [],
   "source": [
    "# Importing the required Keras modules containing model and layers\n",
    "import keras\n",
    "from keras.models import Sequential\n",
    "from keras.layers import Dense, Conv2D, Dropout, Flatten, MaxPooling2D,Activation,BatchNormalization\n",
    "from keras.layers import Flatten, Reshape\n",
    "from keras.layers import Convolution2D, MaxPooling2D\n",
    "from keras.utils import np_utils\n",
    "import tensorflow as tf"
   ]
  },
  {
   "cell_type": "markdown",
   "metadata": {},
   "source": [
    "# Creating a Sequential Model and adding the layers\n"
   ]
  },
  {
   "cell_type": "code",
   "execution_count": 130,
   "metadata": {},
   "outputs": [
    {
     "name": "stderr",
     "output_type": "stream",
     "text": [
      "C:\\Users\\neeha\\Anaconda3\\lib\\site-packages\\ipykernel_launcher.py:6: UserWarning: Update your `Conv2D` call to the Keras 2 API: `Conv2D(32, (3, 3), input_shape=(32, 32, 3...)`\n",
      "  \n",
      "C:\\Users\\neeha\\Anaconda3\\lib\\site-packages\\ipykernel_launcher.py:10: UserWarning: Update your `Conv2D` call to the Keras 2 API: `Conv2D(32, (3, 3))`\n",
      "  # Remove the CWD from sys.path while we load stuff.\n"
     ]
    }
   ],
   "source": [
    "\n",
    "    # Define model\n",
    "model2 = Sequential()\n",
    "\n",
    "    # 1st Conv Layer\n",
    "model2.add(Convolution2D(32, 3, 3, input_shape=(32, 32, 3))) \n",
    "model2.add(Activation('relu'))\n",
    "\n",
    "    # 2nd Conv Layer\n",
    "model2.add(Convolution2D(32, 3, 3))\n",
    "model2.add(Activation('relu'))\n",
    "# Max Pooling\n",
    "model2.add(MaxPooling2D(pool_size=(2,2)))\n",
    "    \n",
    "    # Dropout\n",
    "model2.add(Dropout(0.25))\n",
    "\n",
    "\n",
    "    # Fully Connected Layer\n",
    "model2.add(Flatten())\n",
    "model2.add(Dense(128))\n",
    "model2.add(Activation('relu'))\n",
    "model2.add(Dense(1024, activation='relu'))\n",
    "model2.add(BatchNormalization())\n",
    "model2.add(Dropout(0.5))\n",
    "model2.add(Dense(512, activation='relu'))\n",
    "model2.add(BatchNormalization())\n",
    "model2.add(Dropout(0.5))\n",
    "    # Prediction Layer\n",
    "model2.add(Dense(5))\n",
    "model2.add(Activation('softmax'))\n",
    "opt = keras.optimizers.rmsprop(lr=0.0001, decay=1e-6)\n",
    "\n",
    "    # Loss and Optimizer\n",
    "model2.compile(loss='categorical_crossentropy', optimizer=opt, metrics=['accuracy'])\n"
   ]
  },
  {
   "cell_type": "code",
   "execution_count": 131,
   "metadata": {
    "scrolled": false
   },
   "outputs": [
    {
     "name": "stderr",
     "output_type": "stream",
     "text": [
      "C:\\Users\\neeha\\Anaconda3\\lib\\site-packages\\ipykernel_launcher.py:3: UserWarning: The `nb_epoch` argument in `fit` has been renamed `epochs`.\n",
      "  This is separate from the ipykernel package so we can avoid doing imports until\n"
     ]
    },
    {
     "name": "stdout",
     "output_type": "stream",
     "text": [
      "Train on 25000 samples, validate on 5000 samples\n",
      "Epoch 1/20\n",
      "25000/25000 [==============================] - 25s 1ms/step - loss: 2.0523 - acc: 0.3487 - val_loss: 1.3707 - val_acc: 0.5032\n",
      "Epoch 2/20\n",
      "25000/25000 [==============================] - 23s 906us/step - loss: 1.6543 - acc: 0.4432 - val_loss: 1.2245 - val_acc: 0.5126\n",
      "Epoch 3/20\n",
      "25000/25000 [==============================] - 23s 902us/step - loss: 1.4295 - acc: 0.5038 - val_loss: 1.2755 - val_acc: 0.5336\n",
      "Epoch 4/20\n",
      "25000/25000 [==============================] - 23s 910us/step - loss: 1.3055 - acc: 0.5346 - val_loss: 1.0620 - val_acc: 0.5718\n",
      "Epoch 5/20\n",
      "25000/25000 [==============================] - 23s 902us/step - loss: 1.1947 - acc: 0.5634 - val_loss: 1.0111 - val_acc: 0.6072\n",
      "Epoch 6/20\n",
      "25000/25000 [==============================] - 23s 908us/step - loss: 1.1198 - acc: 0.5896 - val_loss: 0.9566 - val_acc: 0.6156\n",
      "Epoch 7/20\n",
      "25000/25000 [==============================] - 23s 914us/step - loss: 1.0655 - acc: 0.6083 - val_loss: 0.9508 - val_acc: 0.6152\n",
      "Epoch 8/20\n",
      "25000/25000 [==============================] - 23s 913us/step - loss: 1.0039 - acc: 0.6313 - val_loss: 0.8757 - val_acc: 0.6640\n",
      "Epoch 9/20\n",
      "25000/25000 [==============================] - 23s 908us/step - loss: 0.9641 - acc: 0.6429 - val_loss: 0.8389 - val_acc: 0.6848\n",
      "Epoch 10/20\n",
      "25000/25000 [==============================] - 23s 911us/step - loss: 0.9189 - acc: 0.6578 - val_loss: 0.9642 - val_acc: 0.6316\n",
      "Epoch 11/20\n",
      "25000/25000 [==============================] - 23s 918us/step - loss: 0.8771 - acc: 0.6713 - val_loss: 0.8388 - val_acc: 0.6784\n",
      "Epoch 12/20\n",
      "25000/25000 [==============================] - 23s 922us/step - loss: 0.8480 - acc: 0.6828 - val_loss: 0.7761 - val_acc: 0.6964\n",
      "Epoch 13/20\n",
      "25000/25000 [==============================] - 25s 988us/step - loss: 0.8152 - acc: 0.6958 - val_loss: 0.7826 - val_acc: 0.7040\n",
      "Epoch 14/20\n",
      "25000/25000 [==============================] - 23s 906us/step - loss: 0.7797 - acc: 0.7082 - val_loss: 0.7423 - val_acc: 0.7230\n",
      "Epoch 15/20\n",
      "25000/25000 [==============================] - 24s 943us/step - loss: 0.7470 - acc: 0.7174 - val_loss: 0.7676 - val_acc: 0.7116\n",
      "Epoch 16/20\n",
      "25000/25000 [==============================] - 25s 1ms/step - loss: 0.7243 - acc: 0.7298 - val_loss: 0.7373 - val_acc: 0.7244\n",
      "Epoch 17/20\n",
      "25000/25000 [==============================] - 24s 963us/step - loss: 0.7003 - acc: 0.7386 - val_loss: 0.8236 - val_acc: 0.6940\n",
      "Epoch 18/20\n",
      "25000/25000 [==============================] - 23s 916us/step - loss: 0.6692 - acc: 0.7488 - val_loss: 0.7139 - val_acc: 0.7352\n",
      "Epoch 19/20\n",
      "25000/25000 [==============================] - 24s 963us/step - loss: 0.6459 - acc: 0.7585 - val_loss: 0.7417 - val_acc: 0.7234\n",
      "Epoch 20/20\n",
      "25000/25000 [==============================] - 23s 914us/step - loss: 0.6234 - acc: 0.7664 - val_loss: 0.7200 - val_acc: 0.7324\n"
     ]
    },
    {
     "data": {
      "text/plain": [
       "<keras.callbacks.History at 0x1cda3789400>"
      ]
     },
     "execution_count": 131,
     "metadata": {},
     "output_type": "execute_result"
    }
   ],
   "source": [
    "# Train the model2 \n",
    "model2.fit(x_train_0_4, y_train_0_4, batch_size=500, nb_epoch=20, \n",
    "              validation_data=(x_test_0_4, y_test_0_4))"
   ]
  },
  {
   "cell_type": "code",
   "execution_count": 132,
   "metadata": {
    "scrolled": false
   },
   "outputs": [
    {
     "name": "stdout",
     "output_type": "stream",
     "text": [
      "25000/25000 [==============================] - 12s 466us/step\n",
      "Train loss for 0-4: 0.493346595249176\n",
      "Train accuracy 0-4: 0.81064\n"
     ]
    }
   ],
   "source": [
    "#Testing the model on train set\n",
    "score = model2.evaluate(x_train_0_4, y_train_0_4)\n",
    "print('Train loss for 0-4:', score[0])\n",
    "print('Train accuracy 0-4:', score[1])"
   ]
  },
  {
   "cell_type": "code",
   "execution_count": 133,
   "metadata": {},
   "outputs": [
    {
     "name": "stdout",
     "output_type": "stream",
     "text": [
      "5000/5000 [==============================] - 2s 412us/step\n",
      "Test loss 0-4: 0.7199946382522583\n",
      "Test accuracy 0-4: 0.7324\n"
     ]
    }
   ],
   "source": [
    "#Testing the model on train set\n",
    "score = model2.evaluate(x_test_0_4, y_test_0_4)\n",
    "print('Test loss 0-4:', score[0])\n",
    "print('Test accuracy 0-4:', score[1])"
   ]
  },
  {
   "cell_type": "markdown",
   "metadata": {
    "colab_type": "text",
    "id": "woTfNst_ynRG"
   },
   "source": [
    "### 4. In the model which was built above (for classification of classes 0-4 in CIFAR10), make only the dense layers to be trainable and conv layers to be non-trainable"
   ]
  },
  {
   "cell_type": "code",
   "execution_count": 134,
   "metadata": {
    "colab": {},
    "colab_type": "code",
    "id": "o_VCDB3Byb1a"
   },
   "outputs": [
    {
     "name": "stdout",
     "output_type": "stream",
     "text": [
      "\u001b[34mconv2d_13\u001b[0m\n",
      "\u001b[31mFalse\u001b[0m\n",
      "\u001b[34mactivation_23\u001b[0m\n",
      "\u001b[31mFalse\u001b[0m\n",
      "\u001b[34mconv2d_14\u001b[0m\n",
      "\u001b[31mFalse\u001b[0m\n",
      "\u001b[34mactivation_24\u001b[0m\n",
      "\u001b[31mFalse\u001b[0m\n",
      "\u001b[34mmax_pooling2d_8\u001b[0m\n",
      "\u001b[31mFalse\u001b[0m\n",
      "\u001b[34mdropout_16\u001b[0m\n",
      "\u001b[31mFalse\u001b[0m\n",
      "\u001b[34mflatten_6\u001b[0m\n",
      "\u001b[31mFalse\u001b[0m\n",
      "\u001b[34mdense_21\u001b[0m\n",
      "\u001b[31mTrue\u001b[0m\n",
      "\u001b[34mactivation_25\u001b[0m\n",
      "\u001b[31mFalse\u001b[0m\n",
      "\u001b[34mdense_22\u001b[0m\n",
      "\u001b[31mTrue\u001b[0m\n",
      "\u001b[34mbatch_normalization_11\u001b[0m\n",
      "\u001b[31mFalse\u001b[0m\n",
      "\u001b[34mdropout_17\u001b[0m\n",
      "\u001b[31mFalse\u001b[0m\n",
      "\u001b[34mdense_23\u001b[0m\n",
      "\u001b[31mTrue\u001b[0m\n",
      "\u001b[34mbatch_normalization_12\u001b[0m\n",
      "\u001b[31mFalse\u001b[0m\n",
      "\u001b[34mdropout_18\u001b[0m\n",
      "\u001b[31mFalse\u001b[0m\n",
      "\u001b[34mdense_24\u001b[0m\n",
      "\u001b[31mTrue\u001b[0m\n",
      "\u001b[34mactivation_26\u001b[0m\n",
      "\u001b[31mFalse\u001b[0m\n"
     ]
    }
   ],
   "source": [
    "#Freezing layers in the model which don't have 'dense' in their name\n",
    "for layer in model2.layers:\n",
    "  if('dense' not in layer.name): #prefix detection to freeze layers which does not have dense\n",
    "    #Freezing a layer\n",
    "    layer.trainable = False\n",
    "\n",
    "#Module to print colourful statements\n",
    "from termcolor import colored\n",
    "\n",
    "#Check which layers have been frozen \n",
    "for layer in model2.layers:\n",
    "  print (colored(layer.name, 'blue'))\n",
    "  print (colored(layer.trainable, 'red'))"
   ]
  },
  {
   "cell_type": "markdown",
   "metadata": {
    "colab_type": "text",
    "id": "1-uUPqWpyeyX"
   },
   "source": [
    "### 5. Utilize the the model trained on CIFAR 10 (classes 0 to 4) to classify the classes 5 to 9 of CIFAR 10  (Use Transfer Learning) <br>\n",
    "Achieve an accuracy of more than 85% on test data"
   ]
  },
  {
   "cell_type": "code",
   "execution_count": 139,
   "metadata": {
    "scrolled": false
   },
   "outputs": [
    {
     "name": "stderr",
     "output_type": "stream",
     "text": [
      "C:\\Users\\neeha\\Anaconda3\\lib\\site-packages\\ipykernel_launcher.py:4: UserWarning: The `nb_epoch` argument in `fit` has been renamed `epochs`.\n",
      "  after removing the cwd from sys.path.\n"
     ]
    },
    {
     "name": "stdout",
     "output_type": "stream",
     "text": [
      "Train on 25000 samples, validate on 5000 samples\n",
      "Epoch 1/50\n",
      "25000/25000 [==============================] - 16s 637us/step - loss: 0.1710 - acc: 0.9398 - val_loss: 0.8770 - val_acc: 0.7690\n",
      "Epoch 2/50\n",
      "25000/25000 [==============================] - 14s 564us/step - loss: 0.1518 - acc: 0.9442 - val_loss: 1.0168 - val_acc: 0.7494\n",
      "Epoch 3/50\n",
      "25000/25000 [==============================] - 14s 563us/step - loss: 0.1490 - acc: 0.9463 - val_loss: 0.8900 - val_acc: 0.7732\n",
      "Epoch 4/50\n",
      "25000/25000 [==============================] - 14s 558us/step - loss: 0.1414 - acc: 0.9480 - val_loss: 0.9840 - val_acc: 0.7614\n",
      "Epoch 5/50\n",
      "25000/25000 [==============================] - 14s 562us/step - loss: 0.1376 - acc: 0.9502 - val_loss: 0.8965 - val_acc: 0.7768\n",
      "Epoch 6/50\n",
      "25000/25000 [==============================] - 14s 560us/step - loss: 0.1255 - acc: 0.9554 - val_loss: 1.0243 - val_acc: 0.7594\n",
      "Epoch 7/50\n",
      "25000/25000 [==============================] - 14s 558us/step - loss: 0.1212 - acc: 0.9553 - val_loss: 1.0556 - val_acc: 0.7592\n",
      "Epoch 8/50\n",
      "25000/25000 [==============================] - 14s 561us/step - loss: 0.1146 - acc: 0.9593 - val_loss: 1.0379 - val_acc: 0.7630\n",
      "Epoch 9/50\n",
      "25000/25000 [==============================] - 14s 562us/step - loss: 0.1121 - acc: 0.9588 - val_loss: 1.0269 - val_acc: 0.7676\n",
      "Epoch 10/50\n",
      "25000/25000 [==============================] - 14s 555us/step - loss: 0.1028 - acc: 0.9628 - val_loss: 1.0460 - val_acc: 0.7678\n",
      "Epoch 11/50\n",
      "25000/25000 [==============================] - 14s 564us/step - loss: 0.1019 - acc: 0.9631 - val_loss: 1.0883 - val_acc: 0.7686\n",
      "Epoch 12/50\n",
      "25000/25000 [==============================] - 14s 556us/step - loss: 0.0956 - acc: 0.9652 - val_loss: 1.0630 - val_acc: 0.7722\n",
      "Epoch 13/50\n",
      "25000/25000 [==============================] - 14s 559us/step - loss: 0.0915 - acc: 0.9670 - val_loss: 1.1530 - val_acc: 0.7644\n",
      "Epoch 14/50\n",
      "25000/25000 [==============================] - 15s 582us/step - loss: 0.0863 - acc: 0.9687 - val_loss: 1.0553 - val_acc: 0.7762\n",
      "Epoch 15/50\n",
      "25000/25000 [==============================] - 14s 561us/step - loss: 0.0825 - acc: 0.9700 - val_loss: 1.1526 - val_acc: 0.7678\n",
      "Epoch 16/50\n",
      "25000/25000 [==============================] - 14s 561us/step - loss: 0.0798 - acc: 0.9720 - val_loss: 1.0748 - val_acc: 0.7844\n",
      "Epoch 17/50\n",
      "25000/25000 [==============================] - 14s 564us/step - loss: 0.0750 - acc: 0.9716 - val_loss: 1.1673 - val_acc: 0.7798\n",
      "Epoch 18/50\n",
      "25000/25000 [==============================] - 14s 553us/step - loss: 0.0702 - acc: 0.9744 - val_loss: 1.1399 - val_acc: 0.7724\n",
      "Epoch 19/50\n",
      "25000/25000 [==============================] - 14s 561us/step - loss: 0.0666 - acc: 0.9763 - val_loss: 1.0413 - val_acc: 0.7910\n",
      "Epoch 20/50\n",
      "25000/25000 [==============================] - 14s 563us/step - loss: 0.0699 - acc: 0.9755 - val_loss: 1.1187 - val_acc: 0.7874\n",
      "Epoch 21/50\n",
      "25000/25000 [==============================] - 14s 565us/step - loss: 0.0634 - acc: 0.9771 - val_loss: 1.1477 - val_acc: 0.7882\n",
      "Epoch 22/50\n",
      "25000/25000 [==============================] - 14s 565us/step - loss: 0.0610 - acc: 0.9788 - val_loss: 1.0974 - val_acc: 0.7940\n",
      "Epoch 23/50\n",
      "25000/25000 [==============================] - 14s 562us/step - loss: 0.0577 - acc: 0.9801 - val_loss: 1.1597 - val_acc: 0.7896\n",
      "Epoch 24/50\n",
      "25000/25000 [==============================] - 14s 553us/step - loss: 0.0589 - acc: 0.9799 - val_loss: 1.2838 - val_acc: 0.7700\n",
      "Epoch 25/50\n",
      "25000/25000 [==============================] - 14s 558us/step - loss: 0.0551 - acc: 0.9793 - val_loss: 1.2159 - val_acc: 0.7836\n",
      "Epoch 26/50\n",
      "25000/25000 [==============================] - 14s 559us/step - loss: 0.0540 - acc: 0.9815 - val_loss: 1.2365 - val_acc: 0.7872\n",
      "Epoch 27/50\n",
      "25000/25000 [==============================] - 14s 563us/step - loss: 0.0525 - acc: 0.9818 - val_loss: 1.3520 - val_acc: 0.7802\n",
      "Epoch 28/50\n",
      "25000/25000 [==============================] - 14s 556us/step - loss: 0.0485 - acc: 0.9830 - val_loss: 1.2671 - val_acc: 0.7848\n",
      "Epoch 29/50\n",
      "25000/25000 [==============================] - 14s 563us/step - loss: 0.0481 - acc: 0.9830 - val_loss: 1.2681 - val_acc: 0.7894\n",
      "Epoch 30/50\n",
      "25000/25000 [==============================] - 14s 560us/step - loss: 0.0472 - acc: 0.9827 - val_loss: 1.2527 - val_acc: 0.7910\n",
      "Epoch 31/50\n",
      "25000/25000 [==============================] - 15s 582us/step - loss: 0.0463 - acc: 0.9842 - val_loss: 1.2981 - val_acc: 0.7918\n",
      "Epoch 32/50\n",
      "25000/25000 [==============================] - 15s 592us/step - loss: 0.0461 - acc: 0.9834 - val_loss: 1.4388 - val_acc: 0.7754\n",
      "Epoch 33/50\n",
      "25000/25000 [==============================] - 14s 576us/step - loss: 0.0391 - acc: 0.9862 - val_loss: 1.3374 - val_acc: 0.7836\n",
      "Epoch 34/50\n",
      "25000/25000 [==============================] - 14s 573us/step - loss: 0.0400 - acc: 0.9858 - val_loss: 1.4336 - val_acc: 0.7818\n",
      "Epoch 35/50\n",
      "25000/25000 [==============================] - 14s 567us/step - loss: 0.0405 - acc: 0.9850 - val_loss: 1.4412 - val_acc: 0.7748\n",
      "Epoch 36/50\n",
      "25000/25000 [==============================] - 14s 566us/step - loss: 0.0380 - acc: 0.9868 - val_loss: 1.3946 - val_acc: 0.7862\n",
      "Epoch 37/50\n",
      "25000/25000 [==============================] - 14s 566us/step - loss: 0.0381 - acc: 0.9872 - val_loss: 1.3085 - val_acc: 0.7908\n",
      "Epoch 38/50\n",
      "25000/25000 [==============================] - 14s 570us/step - loss: 0.0382 - acc: 0.9864 - val_loss: 1.4651 - val_acc: 0.7866\n",
      "Epoch 39/50\n",
      "25000/25000 [==============================] - 14s 562us/step - loss: 0.0384 - acc: 0.9857 - val_loss: 1.4943 - val_acc: 0.7782\n",
      "Epoch 40/50\n",
      "25000/25000 [==============================] - 14s 562us/step - loss: 0.0342 - acc: 0.9877 - val_loss: 1.2394 - val_acc: 0.8052\n",
      "Epoch 41/50\n",
      "25000/25000 [==============================] - 14s 554us/step - loss: 0.0346 - acc: 0.9871 - val_loss: 1.3667 - val_acc: 0.7948\n",
      "Epoch 42/50\n",
      "25000/25000 [==============================] - 14s 563us/step - loss: 0.0351 - acc: 0.9874 - val_loss: 1.3127 - val_acc: 0.8046\n",
      "Epoch 43/50\n",
      "25000/25000 [==============================] - 14s 568us/step - loss: 0.0312 - acc: 0.9888 - val_loss: 1.3355 - val_acc: 0.8024\n",
      "Epoch 44/50\n",
      "25000/25000 [==============================] - 14s 561us/step - loss: 0.0329 - acc: 0.9884 - val_loss: 1.4877 - val_acc: 0.7908\n",
      "Epoch 45/50\n",
      "25000/25000 [==============================] - 14s 560us/step - loss: 0.0319 - acc: 0.9890 - val_loss: 1.4489 - val_acc: 0.7934\n",
      "Epoch 46/50\n",
      "25000/25000 [==============================] - 14s 559us/step - loss: 0.0314 - acc: 0.9890 - val_loss: 1.5574 - val_acc: 0.7794\n",
      "Epoch 47/50\n",
      "25000/25000 [==============================] - 14s 555us/step - loss: 0.0314 - acc: 0.9892 - val_loss: 1.6080 - val_acc: 0.7850\n",
      "Epoch 48/50\n",
      "25000/25000 [==============================] - 14s 561us/step - loss: 0.0289 - acc: 0.9894 - val_loss: 1.3248 - val_acc: 0.8118\n",
      "Epoch 49/50\n",
      "25000/25000 [==============================] - 14s 567us/step - loss: 0.0296 - acc: 0.9901 - val_loss: 1.3819 - val_acc: 0.8056\n",
      "Epoch 50/50\n",
      "25000/25000 [==============================] - 14s 567us/step - loss: 0.0262 - acc: 0.9908 - val_loss: 1.3835 - val_acc: 0.8062\n"
     ]
    },
    {
     "data": {
      "text/plain": [
       "<keras.callbacks.History at 0x1cda3789550>"
      ]
     },
     "execution_count": 139,
     "metadata": {},
     "output_type": "execute_result"
    }
   ],
   "source": [
    "model2.compile(loss='categorical_crossentropy', optimizer=opt, metrics=['accuracy'])\n",
    "\n",
    "model2.fit(x_train_5_9, y_train_5_9, batch_size=500, nb_epoch=50, \n",
    "              validation_data=(x_test_5_9, y_test_5_9))"
   ]
  },
  {
   "cell_type": "code",
   "execution_count": 140,
   "metadata": {},
   "outputs": [
    {
     "name": "stdout",
     "output_type": "stream",
     "text": [
      "_________________________________________________________________\n",
      "Layer (type)                 Output Shape              Param #   \n",
      "=================================================================\n",
      "conv2d_13 (Conv2D)           (None, 30, 30, 32)        896       \n",
      "_________________________________________________________________\n",
      "activation_23 (Activation)   (None, 30, 30, 32)        0         \n",
      "_________________________________________________________________\n",
      "conv2d_14 (Conv2D)           (None, 28, 28, 32)        9248      \n",
      "_________________________________________________________________\n",
      "activation_24 (Activation)   (None, 28, 28, 32)        0         \n",
      "_________________________________________________________________\n",
      "max_pooling2d_8 (MaxPooling2 (None, 14, 14, 32)        0         \n",
      "_________________________________________________________________\n",
      "dropout_16 (Dropout)         (None, 14, 14, 32)        0         \n",
      "_________________________________________________________________\n",
      "flatten_6 (Flatten)          (None, 6272)              0         \n",
      "_________________________________________________________________\n",
      "dense_21 (Dense)             (None, 128)               802944    \n",
      "_________________________________________________________________\n",
      "activation_25 (Activation)   (None, 128)               0         \n",
      "_________________________________________________________________\n",
      "dense_22 (Dense)             (None, 1024)              132096    \n",
      "_________________________________________________________________\n",
      "batch_normalization_11 (Batc (None, 1024)              4096      \n",
      "_________________________________________________________________\n",
      "dropout_17 (Dropout)         (None, 1024)              0         \n",
      "_________________________________________________________________\n",
      "dense_23 (Dense)             (None, 512)               524800    \n",
      "_________________________________________________________________\n",
      "batch_normalization_12 (Batc (None, 512)               2048      \n",
      "_________________________________________________________________\n",
      "dropout_18 (Dropout)         (None, 512)               0         \n",
      "_________________________________________________________________\n",
      "dense_24 (Dense)             (None, 5)                 2565      \n",
      "_________________________________________________________________\n",
      "activation_26 (Activation)   (None, 5)                 0         \n",
      "=================================================================\n",
      "Total params: 1,478,693\n",
      "Trainable params: 1,462,405\n",
      "Non-trainable params: 16,288\n",
      "_________________________________________________________________\n"
     ]
    }
   ],
   "source": [
    "model2.summary()"
   ]
  },
  {
   "cell_type": "code",
   "execution_count": 141,
   "metadata": {},
   "outputs": [
    {
     "name": "stdout",
     "output_type": "stream",
     "text": [
      "25000/25000 [==============================] - 11s 423us/step\n",
      "Train loss for 0-4: 0.041335463415710254\n",
      "Train accuracy 0-4: 0.9842\n"
     ]
    }
   ],
   "source": [
    "#Testing the model on train set\n",
    "score = model2.evaluate(x_train_5_9, y_train_5_9)\n",
    "print('Train loss for 0-4:', score[0])\n",
    "print('Train accuracy 0-4:', score[1])"
   ]
  },
  {
   "cell_type": "code",
   "execution_count": 142,
   "metadata": {},
   "outputs": [
    {
     "name": "stdout",
     "output_type": "stream",
     "text": [
      "5000/5000 [==============================] - 2s 435us/step\n",
      "Test loss 0-4: 1.383478640732169\n",
      "Test accuracy 0-4: 0.8062\n"
     ]
    }
   ],
   "source": [
    "#Testing the model on train set\n",
    "score = model2.evaluate(x_test_5_9, y_test_5_9)\n",
    "print('Test loss 0-4:', score[0])\n",
    "print('Test accuracy 0-4:', score[1])"
   ]
  },
  {
   "cell_type": "code",
   "execution_count": 30,
   "metadata": {},
   "outputs": [
    {
     "data": {
      "text/plain": [
       "(25000, 32, 32, 3)"
      ]
     },
     "execution_count": 30,
     "metadata": {},
     "output_type": "execute_result"
    }
   ],
   "source": [
    "x_train_5_9.shape"
   ]
  },
  {
   "cell_type": "code",
   "execution_count": 31,
   "metadata": {},
   "outputs": [
    {
     "data": {
      "text/plain": [
       "(25000, 5)"
      ]
     },
     "execution_count": 31,
     "metadata": {},
     "output_type": "execute_result"
    }
   ],
   "source": [
    "y_train_5_9.shape"
   ]
  },
  {
   "cell_type": "code",
   "execution_count": 32,
   "metadata": {
    "scrolled": true
   },
   "outputs": [
    {
     "data": {
      "text/plain": [
       "(5000, 32, 32, 3)"
      ]
     },
     "execution_count": 32,
     "metadata": {},
     "output_type": "execute_result"
    }
   ],
   "source": [
    "x_test_5_9.shape"
   ]
  },
  {
   "cell_type": "code",
   "execution_count": 33,
   "metadata": {},
   "outputs": [
    {
     "data": {
      "text/plain": [
       "(5000, 5)"
      ]
     },
     "execution_count": 33,
     "metadata": {},
     "output_type": "execute_result"
    }
   ],
   "source": [
    "y_test_5_9.shape"
   ]
  },
  {
   "cell_type": "markdown",
   "metadata": {
    "colab_type": "text",
    "id": "0zDuRecXzEtr"
   },
   "source": [
    "# Text classification using TF-IDF"
   ]
  },
  {
   "cell_type": "markdown",
   "metadata": {
    "colab_type": "text",
    "id": "xMPlEJhHzb6P"
   },
   "source": [
    "### 6. Load the dataset from sklearn.datasets"
   ]
  },
  {
   "cell_type": "code",
   "execution_count": 72,
   "metadata": {
    "colab": {},
    "colab_type": "code",
    "id": "Fe-B59u3zHNb"
   },
   "outputs": [],
   "source": [
    "from sklearn.datasets import fetch_20newsgroups"
   ]
  },
  {
   "cell_type": "code",
   "execution_count": 73,
   "metadata": {
    "colab": {},
    "colab_type": "code",
    "id": "PRrMemVQzbHU"
   },
   "outputs": [],
   "source": [
    "categories = ['alt.atheism', 'soc.religion.christian', 'comp.graphics', 'sci.med']"
   ]
  },
  {
   "cell_type": "markdown",
   "metadata": {
    "colab_type": "text",
    "id": "-sZX0UbJzmg5"
   },
   "source": [
    "### 7. Training data"
   ]
  },
  {
   "cell_type": "code",
   "execution_count": 74,
   "metadata": {
    "colab": {},
    "colab_type": "code",
    "id": "CITr_5aXziJ2"
   },
   "outputs": [],
   "source": [
    "twenty_train = fetch_20newsgroups(subset='train', categories=categories, shuffle=True, random_state=42)"
   ]
  },
  {
   "cell_type": "markdown",
   "metadata": {
    "colab_type": "text",
    "id": "xcESc5QXzr6p"
   },
   "source": [
    "### 8. Test data"
   ]
  },
  {
   "cell_type": "code",
   "execution_count": 75,
   "metadata": {
    "colab": {},
    "colab_type": "code",
    "id": "ysInblUMzpvl"
   },
   "outputs": [],
   "source": [
    "twenty_test = fetch_20newsgroups(subset='test', categories=categories, shuffle=True, random_state=42)"
   ]
  },
  {
   "cell_type": "markdown",
   "metadata": {
    "colab_type": "text",
    "id": "DriL2yZ50DQq"
   },
   "source": [
    "###  a.  You can access the values for the target variable using .target attribute \n",
    "###  b. You can access the name of the class in the target variable with .target_names\n"
   ]
  },
  {
   "cell_type": "code",
   "execution_count": 76,
   "metadata": {
    "colab": {},
    "colab_type": "code",
    "id": "vlUuai99z1hX"
   },
   "outputs": [
    {
     "data": {
      "text/plain": [
       "array([1, 1, 3, ..., 2, 2, 2], dtype=int64)"
      ]
     },
     "execution_count": 76,
     "metadata": {},
     "output_type": "execute_result"
    }
   ],
   "source": [
    "twenty_train.target"
   ]
  },
  {
   "cell_type": "code",
   "execution_count": 77,
   "metadata": {
    "colab": {},
    "colab_type": "code",
    "id": "VEKzaDfSz5E-"
   },
   "outputs": [
    {
     "data": {
      "text/plain": [
       "['alt.atheism', 'comp.graphics', 'sci.med', 'soc.religion.christian']"
      ]
     },
     "execution_count": 77,
     "metadata": {},
     "output_type": "execute_result"
    }
   ],
   "source": [
    "twenty_train.target_names"
   ]
  },
  {
   "cell_type": "code",
   "execution_count": 78,
   "metadata": {
    "colab": {},
    "colab_type": "code",
    "id": "clBMKHzC0_N1",
    "scrolled": true
   },
   "outputs": [
    {
     "data": {
      "text/plain": [
       "['From: sd345@city.ac.uk (Michael Collier)\\nSubject: Converting images to HP LaserJet III?\\nNntp-Posting-Host: hampton\\nOrganization: The City University\\nLines: 14\\n\\nDoes anyone know of a good way (standard PC application/PD utility) to\\nconvert tif/img/tga files into LaserJet III format.  We would also like to\\ndo the same, converting to HPGL (HP plotter) files.\\n\\nPlease email any response.\\n\\nIs this the correct group?\\n\\nThanks in advance.  Michael.\\n-- \\nMichael Collier (Programmer)                 The Computer Unit,\\nEmail: M.P.Collier@uk.ac.city                The City University,\\nTel: 071 477-8000 x3769                      London,\\nFax: 071 477-8565                            EC1V 0HB.\\n',\n",
       " \"From: ani@ms.uky.edu (Aniruddha B. Deglurkar)\\nSubject: help: Splitting a trimming region along a mesh \\nOrganization: University Of Kentucky, Dept. of Math Sciences\\nLines: 28\\n\\n\\n\\n\\tHi,\\n\\n\\tI have a problem, I hope some of the 'gurus' can help me solve.\\n\\n\\tBackground of the problem:\\n\\tI have a rectangular mesh in the uv domain, i.e  the mesh is a \\n\\tmapping of a 3d Bezier patch into 2d. The area in this domain\\n\\twhich is inside a trimming loop had to be rendered. The trimming\\n\\tloop is a set of 2d Bezier curve segments.\\n\\tFor the sake of notation: the mesh is made up of cells.\\n\\n\\tMy problem is this :\\n\\tThe trimming area has to be split up into individual smaller\\n\\tcells bounded by the trimming curve segments. If a cell\\n\\tis wholly inside the area...then it is output as a whole ,\\n\\telse it is trivially rejected. \\n\\n\\tDoes any body know how thiss can be done, or is there any algo. \\n\\tsomewhere for doing this.\\n\\n\\tAny help would be appreciated.\\n\\n\\tThanks, \\n\\tAni.\\n-- \\nTo get irritated is human, to stay cool, divine.\\n\",\n",
       " \"From: djohnson@cs.ucsd.edu (Darin Johnson)\\nSubject: Re: harrassed at work, could use some prayers\\nOrganization: =CSE Dept., U.C. San Diego\\nLines: 63\\n\\n(Well, I'll email also, but this may apply to other people, so\\nI'll post also.)\\n\\n>I've been working at this company for eight years in various\\n>engineering jobs.  I'm female.  Yesterday I counted and realized that\\n>on seven different occasions I've been sexually harrassed at this\\n>company.\\n\\n>I dreaded coming back to work today.  What if my boss comes in to ask\\n>me some kind of question...\\n\\nYour boss should be the person bring these problems to.  If he/she\\ndoes not seem to take any action, keep going up higher and higher.\\nSexual harrassment does not need to be tolerated, and it can be an\\nenormous emotional support to discuss this with someone and know that\\nthey are trying to do something about it.  If you feel you can not\\ndiscuss this with your boss, perhaps your company has a personnel\\ndepartment that can work for you while preserving your privacy.  Most\\ncompanies will want to deal with this problem because constant anxiety\\ndoes seriously affect how effectively employees do their jobs.\\n\\nIt is unclear from your letter if you have done this or not.  It is\\nnot inconceivable that management remains ignorant of employee\\nproblems/strife even after eight years (it's a miracle if they do\\nnotice).  Perhaps your manager did not bring to the attention of\\nhigher ups?  If the company indeed does seem to want to ignore the\\nentire problem, there may be a state agency willing to fight with\\nyou.  (check with a lawyer, a women's resource center, etc to find out)\\n\\nYou may also want to discuss this with your paster, priest, husband,\\netc.  That is, someone you know will not be judgemental and that is\\nsupportive, comforting, etc.  This will bring a lot of healing.\\n\\n>So I returned at 11:25, only to find that ever single\\n>person had already left for lunch.  They left at 11:15 or so.  No one\\n>could be bothered to call me at the other building, even though my\\n>number was posted.\\n\\nThis happens to a lot of people.  Honest.  I believe it may seem\\nto be due to gross insensitivity because of the feelings you are\\ngoing through.  People in offices tend to be more insensitive while\\nworking than they normally are (maybe it's the hustle or stress or...)\\nI've had this happen to me a lot, often because they didn't realize\\nmy car was broken, etc.  Then they will come back and wonder why I\\ndidn't want to go (this would tend to make me stop being angry at\\nbeing ignored and make me laugh).  Once, we went off without our\\nboss, who was paying for the lunch :-)\\n\\n>For this\\n>reason I hope good Mr. Moderator allows me this latest indulgence.\\n\\nWell, if you can't turn to the computer for support, what would\\nwe do?  (signs of the computer age :-)\\n\\nIn closing, please don't let the hateful actions of a single person\\nharm you.  They are doing it because they are still the playground\\nbully and enjoy seeing the hurt they cause.  And you should not\\naccept the opinions of an imbecile that you are worthless - much\\nwiser people hold you in great esteem.\\n-- \\nDarin Johnson\\ndjohnson@ucsd.edu\\n  - Luxury!  In MY day, we had to make do with 5 bytes of swap...\\n\",\n",
       " 'From: s0612596@let.rug.nl (M.M. Zwart)\\nSubject: catholic church poland\\nOrganization: Faculteit der Letteren, Rijksuniversiteit Groningen, NL\\nLines: 10\\n\\nHello,\\n\\nI\\'m writing a paper on the role of the catholic church in Poland after 1989. \\nCan anyone tell me more about this, or fill me in on recent books/articles(\\nin english, german or french). Most important for me is the role of the \\nchurch concerning the abortion-law, religious education at schools,\\nbirth-control and the relation church-state(government). Thanx,\\n\\n                                                 Masja,\\n\"M.M.Zwart\"<s0612596@let.rug.nl>\\n',\n",
       " 'From: stanly@grok11.columbiasc.ncr.com (stanly)\\nSubject: Re: Elder Brother\\nOrganization: NCR Corp., Columbia SC\\nLines: 15\\n\\nIn article <Apr.8.00.57.41.1993.28246@athos.rutgers.edu> REXLEX@fnal.gov writes:\\n>In article <Apr.7.01.56.56.1993.22824@athos.rutgers.edu> shrum@hpfcso.fc.hp.com\\n>Matt. 22:9-14 \\'Go therefore to the main highways, and as many as you find\\n>there, invite to the wedding feast.\\'...\\n\\n>hmmmmmm.  Sounds like your theology and Christ\\'s are at odds. Which one am I \\n>to believe?\\n\\nIn this parable, Jesus tells the parable of the wedding feast. \"The kingdom\\nof heaven is like unto a certain king which made a marriage for his son\".\\nSo the wedding clothes were customary,  and \"given\" to those who \"chose\" to\\nattend.  This man \"refused\" to wear the clothes.  The wedding clothes are\\nequalivant to the \"clothes of righteousness\".  When Jesus died for our sins,\\nthose \"clothes\" were then provided.  Like that man, it is our decision to\\nput the clothes on.\\n']"
      ]
     },
     "execution_count": 78,
     "metadata": {},
     "output_type": "execute_result"
    }
   ],
   "source": [
    "twenty_train.data[0:5]"
   ]
  },
  {
   "cell_type": "markdown",
   "metadata": {
    "colab_type": "text",
    "id": "hTz4EaN_1WGc"
   },
   "source": [
    "### 9.  Now with dependent and independent data available for both train and test datasets, using TfidfVectorizer fit and transform the training data and test data and get the tfidf features for both"
   ]
  },
  {
   "cell_type": "code",
   "execution_count": 79,
   "metadata": {
    "colab": {},
    "colab_type": "code",
    "id": "H5G477f81C0Z"
   },
   "outputs": [],
   "source": [
    "from sklearn.feature_extraction.text import CountVectorizer, TfidfVectorizer\n",
    "\n",
    "# use CountVectorizer to create document-term matrices from X_train and X_test\n",
    "vect = CountVectorizer()"
   ]
  },
  {
   "cell_type": "code",
   "execution_count": 82,
   "metadata": {},
   "outputs": [],
   "source": [
    "X_train = vect.fit_transform(twenty_train.data)\n",
    "y_train = twenty_train.target"
   ]
  },
  {
   "cell_type": "code",
   "execution_count": 83,
   "metadata": {},
   "outputs": [],
   "source": [
    "X_test = vect.transform(twenty_test.data)\n",
    "y_test = twenty_test.target"
   ]
  },
  {
   "cell_type": "code",
   "execution_count": 62,
   "metadata": {},
   "outputs": [
    {
     "name": "stdout",
     "output_type": "stream",
     "text": [
      "['data', 'descr', 'filenames', 'target', 'target_names']\n"
     ]
    }
   ],
   "source": [
    "# all 100 features\n",
    "print( vect.get_feature_names())"
   ]
  },
  {
   "cell_type": "code",
   "execution_count": 94,
   "metadata": {},
   "outputs": [
    {
     "data": {
      "text/plain": [
       "array([2, 1, 1, ..., 1, 2, 1], dtype=int64)"
      ]
     },
     "execution_count": 94,
     "metadata": {},
     "output_type": "execute_result"
    }
   ],
   "source": [
    "X_train.data"
   ]
  },
  {
   "cell_type": "markdown",
   "metadata": {
    "colab_type": "text",
    "id": "tp_fDINJ1t4L"
   },
   "source": [
    "### 10. Use logisticRegression with tfidf features as input and targets as output and train the model and report the train and test accuracy score"
   ]
  },
  {
   "cell_type": "code",
   "execution_count": 64,
   "metadata": {
    "colab": {},
    "colab_type": "code",
    "id": "THlN2b5d1yQp"
   },
   "outputs": [],
   "source": [
    "from sklearn.linear_model import LogisticRegression"
   ]
  },
  {
   "cell_type": "code",
   "execution_count": 65,
   "metadata": {},
   "outputs": [],
   "source": [
    "LR= LogisticRegression()"
   ]
  },
  {
   "cell_type": "code",
   "execution_count": 89,
   "metadata": {},
   "outputs": [
    {
     "name": "stderr",
     "output_type": "stream",
     "text": [
      "C:\\Users\\neeha\\Anaconda3\\lib\\site-packages\\sklearn\\linear_model\\logistic.py:433: FutureWarning: Default solver will be changed to 'lbfgs' in 0.22. Specify a solver to silence this warning.\n",
      "  FutureWarning)\n",
      "C:\\Users\\neeha\\Anaconda3\\lib\\site-packages\\sklearn\\linear_model\\logistic.py:460: FutureWarning: Default multi_class will be changed to 'auto' in 0.22. Specify the multi_class option to silence this warning.\n",
      "  \"this warning.\", FutureWarning)\n"
     ]
    },
    {
     "data": {
      "text/plain": [
       "LogisticRegression(C=1.0, class_weight=None, dual=False, fit_intercept=True,\n",
       "          intercept_scaling=1, max_iter=100, multi_class='warn',\n",
       "          n_jobs=None, penalty='l2', random_state=None, solver='warn',\n",
       "          tol=0.0001, verbose=0, warm_start=False)"
      ]
     },
     "execution_count": 89,
     "metadata": {},
     "output_type": "execute_result"
    }
   ],
   "source": [
    "LR.fit(X_train,y_train )"
   ]
  },
  {
   "cell_type": "code",
   "execution_count": 90,
   "metadata": {},
   "outputs": [],
   "source": [
    "y_pred_class_LR = LR.predict(X_test)\n"
   ]
  },
  {
   "cell_type": "code",
   "execution_count": 91,
   "metadata": {},
   "outputs": [],
   "source": [
    "from sklearn.metrics import accuracy_score"
   ]
  },
  {
   "cell_type": "code",
   "execution_count": 92,
   "metadata": {},
   "outputs": [
    {
     "data": {
      "text/plain": [
       "0.9007989347536618"
      ]
     },
     "execution_count": 92,
     "metadata": {},
     "output_type": "execute_result"
    }
   ],
   "source": [
    "accuracy_score(y_test,y_pred_class_LR)"
   ]
  },
  {
   "cell_type": "code",
   "execution_count": 93,
   "metadata": {},
   "outputs": [
    {
     "name": "stdout",
     "output_type": "stream",
     "text": [
      "              precision    recall  f1-score   support\n",
      "\n",
      "           0       0.93      0.81      0.86       319\n",
      "           1       0.88      0.96      0.92       389\n",
      "           2       0.93      0.84      0.88       396\n",
      "           3       0.88      0.98      0.93       398\n",
      "\n",
      "   micro avg       0.90      0.90      0.90      1502\n",
      "   macro avg       0.90      0.90      0.90      1502\n",
      "weighted avg       0.90      0.90      0.90      1502\n",
      "\n"
     ]
    }
   ],
   "source": [
    "from sklearn.metrics import classification_report\n",
    "print(classification_report(y_test,y_pred_class_LR))"
   ]
  },
  {
   "cell_type": "code",
   "execution_count": null,
   "metadata": {},
   "outputs": [],
   "source": []
  }
 ],
 "metadata": {
  "colab": {
   "collapsed_sections": [],
   "name": "R8_External_Lab_Questions.ipynb",
   "provenance": [],
   "version": "0.3.2"
  },
  "kernelspec": {
   "display_name": "Python 3",
   "language": "python",
   "name": "python3"
  },
  "language_info": {
   "codemirror_mode": {
    "name": "ipython",
    "version": 3
   },
   "file_extension": ".py",
   "mimetype": "text/x-python",
   "name": "python",
   "nbconvert_exporter": "python",
   "pygments_lexer": "ipython3",
   "version": "3.7.3"
  }
 },
 "nbformat": 4,
 "nbformat_minor": 1
}
