{
 "cells": [
  {
   "cell_type": "markdown",
   "metadata": {},
   "source": [
    "Link to the Kaggle project site:\n",
    "\n",
    "https://www.kaggle.com/barelydedicated/bank-customer-churn-modeling (Links to an external site.)Links to an external site.\n",
    "\n",
    "Given a Bank customer, can we build a classifier which can determine whether they will leave or not using Neural networks?\n",
    "\n",
    " bank.csv View in a new window\n",
    "\n",
    "The points distribution for this case is as follows:\n",
    "\n",
    "Read the dataset\n",
    "<b>\n",
    "\n",
    "1) Drop the columns which are unique for all users like IDs (2.5 points)\n",
    "    \n",
    "2) Distinguish the feature and target set (2.5 points)</br>\n",
    "\n",
    "\n",
    "3) Divide the data set into Train and test sets\n",
    "\n",
    "4) Normalize the train and test data (2.5 points)\n",
    "\n",
    "5) Initialize & build the model (10 points)\n",
    "\n",
    "6) Optimize the model (5 points)\n",
    "\n",
    "7) Predict the results using 0.5 as a threshold (5 points)\n",
    "\n",
    "8) Print the Accuracy score and confusion matrix (2.5 points)</b>"
   ]
  },
  {
   "cell_type": "code",
   "execution_count": 97,
   "metadata": {},
   "outputs": [],
   "source": [
    "import pandas as pd\n",
    "import numpy as np\n",
    "import seaborn as sns\n",
    "import matplotlib.pyplot as plt\n",
    "%matplotlib inline\n",
    "import warnings\n",
    "warnings.filterwarnings('ignore')"
   ]
  },
  {
   "cell_type": "code",
   "execution_count": 98,
   "metadata": {},
   "outputs": [],
   "source": [
    "df=pd.read_csv(\"bank.csv\")"
   ]
  },
  {
   "cell_type": "code",
   "execution_count": 99,
   "metadata": {
    "scrolled": true
   },
   "outputs": [
    {
     "data": {
      "text/html": [
       "<div>\n",
       "<style scoped>\n",
       "    .dataframe tbody tr th:only-of-type {\n",
       "        vertical-align: middle;\n",
       "    }\n",
       "\n",
       "    .dataframe tbody tr th {\n",
       "        vertical-align: top;\n",
       "    }\n",
       "\n",
       "    .dataframe thead th {\n",
       "        text-align: right;\n",
       "    }\n",
       "</style>\n",
       "<table border=\"1\" class=\"dataframe\">\n",
       "  <thead>\n",
       "    <tr style=\"text-align: right;\">\n",
       "      <th></th>\n",
       "      <th>RowNumber</th>\n",
       "      <th>CustomerId</th>\n",
       "      <th>Surname</th>\n",
       "      <th>CreditScore</th>\n",
       "      <th>Geography</th>\n",
       "      <th>Gender</th>\n",
       "      <th>Age</th>\n",
       "      <th>Tenure</th>\n",
       "      <th>Balance</th>\n",
       "      <th>NumOfProducts</th>\n",
       "      <th>HasCrCard</th>\n",
       "      <th>IsActiveMember</th>\n",
       "      <th>EstimatedSalary</th>\n",
       "      <th>Exited</th>\n",
       "    </tr>\n",
       "  </thead>\n",
       "  <tbody>\n",
       "    <tr>\n",
       "      <th>0</th>\n",
       "      <td>1</td>\n",
       "      <td>15634602</td>\n",
       "      <td>Hargrave</td>\n",
       "      <td>619</td>\n",
       "      <td>France</td>\n",
       "      <td>Female</td>\n",
       "      <td>42</td>\n",
       "      <td>2</td>\n",
       "      <td>0.00</td>\n",
       "      <td>1</td>\n",
       "      <td>1</td>\n",
       "      <td>1</td>\n",
       "      <td>101348.88</td>\n",
       "      <td>1</td>\n",
       "    </tr>\n",
       "    <tr>\n",
       "      <th>1</th>\n",
       "      <td>2</td>\n",
       "      <td>15647311</td>\n",
       "      <td>Hill</td>\n",
       "      <td>608</td>\n",
       "      <td>Spain</td>\n",
       "      <td>Female</td>\n",
       "      <td>41</td>\n",
       "      <td>1</td>\n",
       "      <td>83807.86</td>\n",
       "      <td>1</td>\n",
       "      <td>0</td>\n",
       "      <td>1</td>\n",
       "      <td>112542.58</td>\n",
       "      <td>0</td>\n",
       "    </tr>\n",
       "    <tr>\n",
       "      <th>2</th>\n",
       "      <td>3</td>\n",
       "      <td>15619304</td>\n",
       "      <td>Onio</td>\n",
       "      <td>502</td>\n",
       "      <td>France</td>\n",
       "      <td>Female</td>\n",
       "      <td>42</td>\n",
       "      <td>8</td>\n",
       "      <td>159660.80</td>\n",
       "      <td>3</td>\n",
       "      <td>1</td>\n",
       "      <td>0</td>\n",
       "      <td>113931.57</td>\n",
       "      <td>1</td>\n",
       "    </tr>\n",
       "    <tr>\n",
       "      <th>3</th>\n",
       "      <td>4</td>\n",
       "      <td>15701354</td>\n",
       "      <td>Boni</td>\n",
       "      <td>699</td>\n",
       "      <td>France</td>\n",
       "      <td>Female</td>\n",
       "      <td>39</td>\n",
       "      <td>1</td>\n",
       "      <td>0.00</td>\n",
       "      <td>2</td>\n",
       "      <td>0</td>\n",
       "      <td>0</td>\n",
       "      <td>93826.63</td>\n",
       "      <td>0</td>\n",
       "    </tr>\n",
       "    <tr>\n",
       "      <th>4</th>\n",
       "      <td>5</td>\n",
       "      <td>15737888</td>\n",
       "      <td>Mitchell</td>\n",
       "      <td>850</td>\n",
       "      <td>Spain</td>\n",
       "      <td>Female</td>\n",
       "      <td>43</td>\n",
       "      <td>2</td>\n",
       "      <td>125510.82</td>\n",
       "      <td>1</td>\n",
       "      <td>1</td>\n",
       "      <td>1</td>\n",
       "      <td>79084.10</td>\n",
       "      <td>0</td>\n",
       "    </tr>\n",
       "  </tbody>\n",
       "</table>\n",
       "</div>"
      ],
      "text/plain": [
       "   RowNumber  CustomerId   Surname  CreditScore Geography  Gender  Age  \\\n",
       "0          1    15634602  Hargrave          619    France  Female   42   \n",
       "1          2    15647311      Hill          608     Spain  Female   41   \n",
       "2          3    15619304      Onio          502    France  Female   42   \n",
       "3          4    15701354      Boni          699    France  Female   39   \n",
       "4          5    15737888  Mitchell          850     Spain  Female   43   \n",
       "\n",
       "   Tenure    Balance  NumOfProducts  HasCrCard  IsActiveMember  \\\n",
       "0       2       0.00              1          1               1   \n",
       "1       1   83807.86              1          0               1   \n",
       "2       8  159660.80              3          1               0   \n",
       "3       1       0.00              2          0               0   \n",
       "4       2  125510.82              1          1               1   \n",
       "\n",
       "   EstimatedSalary  Exited  \n",
       "0        101348.88       1  \n",
       "1        112542.58       0  \n",
       "2        113931.57       1  \n",
       "3         93826.63       0  \n",
       "4         79084.10       0  "
      ]
     },
     "execution_count": 99,
     "metadata": {},
     "output_type": "execute_result"
    }
   ],
   "source": [
    "df.head(5)"
   ]
  },
  {
   "cell_type": "markdown",
   "metadata": {},
   "source": [
    "## Step 1--> Drop the columns which are unique for all users like IDs "
   ]
  },
  {
   "cell_type": "code",
   "execution_count": 100,
   "metadata": {},
   "outputs": [],
   "source": [
    "df=df.drop(['RowNumber','CustomerId','Surname'], axis=1)"
   ]
  },
  {
   "cell_type": "code",
   "execution_count": 101,
   "metadata": {
    "scrolled": true
   },
   "outputs": [
    {
     "name": "stdout",
     "output_type": "stream",
     "text": [
      "<class 'pandas.core.frame.DataFrame'>\n",
      "RangeIndex: 10000 entries, 0 to 9999\n",
      "Data columns (total 11 columns):\n",
      "CreditScore        10000 non-null int64\n",
      "Geography          10000 non-null object\n",
      "Gender             10000 non-null object\n",
      "Age                10000 non-null int64\n",
      "Tenure             10000 non-null int64\n",
      "Balance            10000 non-null float64\n",
      "NumOfProducts      10000 non-null int64\n",
      "HasCrCard          10000 non-null int64\n",
      "IsActiveMember     10000 non-null int64\n",
      "EstimatedSalary    10000 non-null float64\n",
      "Exited             10000 non-null int64\n",
      "dtypes: float64(2), int64(7), object(2)\n",
      "memory usage: 859.5+ KB\n"
     ]
    }
   ],
   "source": [
    "df.info()"
   ]
  },
  {
   "cell_type": "code",
   "execution_count": 102,
   "metadata": {},
   "outputs": [
    {
     "data": {
      "text/plain": [
       "Index(['CreditScore', 'Geography', 'Gender', 'Age', 'Tenure', 'Balance',\n",
       "       'NumOfProducts', 'HasCrCard', 'IsActiveMember', 'EstimatedSalary',\n",
       "       'Exited'],\n",
       "      dtype='object')"
      ]
     },
     "execution_count": 102,
     "metadata": {},
     "output_type": "execute_result"
    }
   ],
   "source": [
    "df.columns"
   ]
  },
  {
   "cell_type": "markdown",
   "metadata": {},
   "source": [
    "## Step 2--> Distinguish the feature and target set"
   ]
  },
  {
   "cell_type": "code",
   "execution_count": 103,
   "metadata": {},
   "outputs": [],
   "source": [
    "X=df[['CreditScore', 'Geography', 'Gender', 'Age', 'Tenure', 'Balance',\n",
    "       'NumOfProducts', 'HasCrCard', 'IsActiveMember', 'EstimatedSalary']]"
   ]
  },
  {
   "cell_type": "code",
   "execution_count": 104,
   "metadata": {},
   "outputs": [],
   "source": [
    "y=df[['Exited']]"
   ]
  },
  {
   "cell_type": "code",
   "execution_count": 105,
   "metadata": {},
   "outputs": [
    {
     "name": "stdout",
     "output_type": "stream",
     "text": [
      "<class 'pandas.core.frame.DataFrame'>\n",
      "RangeIndex: 10000 entries, 0 to 9999\n",
      "Data columns (total 10 columns):\n",
      "CreditScore        10000 non-null int64\n",
      "Geography          10000 non-null object\n",
      "Gender             10000 non-null object\n",
      "Age                10000 non-null int64\n",
      "Tenure             10000 non-null int64\n",
      "Balance            10000 non-null float64\n",
      "NumOfProducts      10000 non-null int64\n",
      "HasCrCard          10000 non-null int64\n",
      "IsActiveMember     10000 non-null int64\n",
      "EstimatedSalary    10000 non-null float64\n",
      "dtypes: float64(2), int64(6), object(2)\n",
      "memory usage: 781.3+ KB\n"
     ]
    }
   ],
   "source": [
    "X.info()"
   ]
  },
  {
   "cell_type": "code",
   "execution_count": 106,
   "metadata": {
    "scrolled": true
   },
   "outputs": [
    {
     "name": "stdout",
     "output_type": "stream",
     "text": [
      "<class 'pandas.core.frame.DataFrame'>\n",
      "RangeIndex: 10000 entries, 0 to 9999\n",
      "Data columns (total 1 columns):\n",
      "Exited    10000 non-null int64\n",
      "dtypes: int64(1)\n",
      "memory usage: 78.2 KB\n"
     ]
    }
   ],
   "source": [
    "y.info()"
   ]
  },
  {
   "cell_type": "markdown",
   "metadata": {},
   "source": [
    "## Before we divide the data into Test and Train lets take care of the Categorical variables"
   ]
  },
  {
   "cell_type": "code",
   "execution_count": 107,
   "metadata": {},
   "outputs": [],
   "source": [
    "from pandas import get_dummies"
   ]
  },
  {
   "cell_type": "code",
   "execution_count": 108,
   "metadata": {},
   "outputs": [],
   "source": [
    "X=get_dummies(X,columns=['Geography','Gender'],dtype='int64')"
   ]
  },
  {
   "cell_type": "code",
   "execution_count": 109,
   "metadata": {
    "scrolled": true
   },
   "outputs": [
    {
     "data": {
      "text/html": [
       "<div>\n",
       "<style scoped>\n",
       "    .dataframe tbody tr th:only-of-type {\n",
       "        vertical-align: middle;\n",
       "    }\n",
       "\n",
       "    .dataframe tbody tr th {\n",
       "        vertical-align: top;\n",
       "    }\n",
       "\n",
       "    .dataframe thead th {\n",
       "        text-align: right;\n",
       "    }\n",
       "</style>\n",
       "<table border=\"1\" class=\"dataframe\">\n",
       "  <thead>\n",
       "    <tr style=\"text-align: right;\">\n",
       "      <th></th>\n",
       "      <th>CreditScore</th>\n",
       "      <th>Age</th>\n",
       "      <th>Tenure</th>\n",
       "      <th>Balance</th>\n",
       "      <th>NumOfProducts</th>\n",
       "      <th>HasCrCard</th>\n",
       "      <th>IsActiveMember</th>\n",
       "      <th>EstimatedSalary</th>\n",
       "      <th>Geography_France</th>\n",
       "      <th>Geography_Germany</th>\n",
       "      <th>Geography_Spain</th>\n",
       "      <th>Gender_Female</th>\n",
       "      <th>Gender_Male</th>\n",
       "    </tr>\n",
       "  </thead>\n",
       "  <tbody>\n",
       "    <tr>\n",
       "      <th>0</th>\n",
       "      <td>619</td>\n",
       "      <td>42</td>\n",
       "      <td>2</td>\n",
       "      <td>0.00</td>\n",
       "      <td>1</td>\n",
       "      <td>1</td>\n",
       "      <td>1</td>\n",
       "      <td>101348.88</td>\n",
       "      <td>1</td>\n",
       "      <td>0</td>\n",
       "      <td>0</td>\n",
       "      <td>1</td>\n",
       "      <td>0</td>\n",
       "    </tr>\n",
       "    <tr>\n",
       "      <th>1</th>\n",
       "      <td>608</td>\n",
       "      <td>41</td>\n",
       "      <td>1</td>\n",
       "      <td>83807.86</td>\n",
       "      <td>1</td>\n",
       "      <td>0</td>\n",
       "      <td>1</td>\n",
       "      <td>112542.58</td>\n",
       "      <td>0</td>\n",
       "      <td>0</td>\n",
       "      <td>1</td>\n",
       "      <td>1</td>\n",
       "      <td>0</td>\n",
       "    </tr>\n",
       "    <tr>\n",
       "      <th>2</th>\n",
       "      <td>502</td>\n",
       "      <td>42</td>\n",
       "      <td>8</td>\n",
       "      <td>159660.80</td>\n",
       "      <td>3</td>\n",
       "      <td>1</td>\n",
       "      <td>0</td>\n",
       "      <td>113931.57</td>\n",
       "      <td>1</td>\n",
       "      <td>0</td>\n",
       "      <td>0</td>\n",
       "      <td>1</td>\n",
       "      <td>0</td>\n",
       "    </tr>\n",
       "    <tr>\n",
       "      <th>3</th>\n",
       "      <td>699</td>\n",
       "      <td>39</td>\n",
       "      <td>1</td>\n",
       "      <td>0.00</td>\n",
       "      <td>2</td>\n",
       "      <td>0</td>\n",
       "      <td>0</td>\n",
       "      <td>93826.63</td>\n",
       "      <td>1</td>\n",
       "      <td>0</td>\n",
       "      <td>0</td>\n",
       "      <td>1</td>\n",
       "      <td>0</td>\n",
       "    </tr>\n",
       "    <tr>\n",
       "      <th>4</th>\n",
       "      <td>850</td>\n",
       "      <td>43</td>\n",
       "      <td>2</td>\n",
       "      <td>125510.82</td>\n",
       "      <td>1</td>\n",
       "      <td>1</td>\n",
       "      <td>1</td>\n",
       "      <td>79084.10</td>\n",
       "      <td>0</td>\n",
       "      <td>0</td>\n",
       "      <td>1</td>\n",
       "      <td>1</td>\n",
       "      <td>0</td>\n",
       "    </tr>\n",
       "  </tbody>\n",
       "</table>\n",
       "</div>"
      ],
      "text/plain": [
       "   CreditScore  Age  Tenure    Balance  NumOfProducts  HasCrCard  \\\n",
       "0          619   42       2       0.00              1          1   \n",
       "1          608   41       1   83807.86              1          0   \n",
       "2          502   42       8  159660.80              3          1   \n",
       "3          699   39       1       0.00              2          0   \n",
       "4          850   43       2  125510.82              1          1   \n",
       "\n",
       "   IsActiveMember  EstimatedSalary  Geography_France  Geography_Germany  \\\n",
       "0               1        101348.88                 1                  0   \n",
       "1               1        112542.58                 0                  0   \n",
       "2               0        113931.57                 1                  0   \n",
       "3               0         93826.63                 1                  0   \n",
       "4               1         79084.10                 0                  0   \n",
       "\n",
       "   Geography_Spain  Gender_Female  Gender_Male  \n",
       "0                0              1            0  \n",
       "1                1              1            0  \n",
       "2                0              1            0  \n",
       "3                0              1            0  \n",
       "4                1              1            0  "
      ]
     },
     "execution_count": 109,
     "metadata": {},
     "output_type": "execute_result"
    }
   ],
   "source": [
    "X.head()"
   ]
  },
  {
   "cell_type": "markdown",
   "metadata": {},
   "source": [
    "## To Avoid the dummy variable trap we will delete one Column from Geography and Gender"
   ]
  },
  {
   "cell_type": "code",
   "execution_count": 110,
   "metadata": {},
   "outputs": [],
   "source": [
    "X=X.drop(['Geography_Spain','Gender_Female'], axis=1)"
   ]
  },
  {
   "cell_type": "code",
   "execution_count": 111,
   "metadata": {
    "scrolled": true
   },
   "outputs": [
    {
     "data": {
      "text/html": [
       "<div>\n",
       "<style scoped>\n",
       "    .dataframe tbody tr th:only-of-type {\n",
       "        vertical-align: middle;\n",
       "    }\n",
       "\n",
       "    .dataframe tbody tr th {\n",
       "        vertical-align: top;\n",
       "    }\n",
       "\n",
       "    .dataframe thead th {\n",
       "        text-align: right;\n",
       "    }\n",
       "</style>\n",
       "<table border=\"1\" class=\"dataframe\">\n",
       "  <thead>\n",
       "    <tr style=\"text-align: right;\">\n",
       "      <th></th>\n",
       "      <th>CreditScore</th>\n",
       "      <th>Age</th>\n",
       "      <th>Tenure</th>\n",
       "      <th>Balance</th>\n",
       "      <th>NumOfProducts</th>\n",
       "      <th>HasCrCard</th>\n",
       "      <th>IsActiveMember</th>\n",
       "      <th>EstimatedSalary</th>\n",
       "      <th>Geography_France</th>\n",
       "      <th>Geography_Germany</th>\n",
       "      <th>Gender_Male</th>\n",
       "    </tr>\n",
       "  </thead>\n",
       "  <tbody>\n",
       "    <tr>\n",
       "      <th>0</th>\n",
       "      <td>619</td>\n",
       "      <td>42</td>\n",
       "      <td>2</td>\n",
       "      <td>0.00</td>\n",
       "      <td>1</td>\n",
       "      <td>1</td>\n",
       "      <td>1</td>\n",
       "      <td>101348.88</td>\n",
       "      <td>1</td>\n",
       "      <td>0</td>\n",
       "      <td>0</td>\n",
       "    </tr>\n",
       "    <tr>\n",
       "      <th>1</th>\n",
       "      <td>608</td>\n",
       "      <td>41</td>\n",
       "      <td>1</td>\n",
       "      <td>83807.86</td>\n",
       "      <td>1</td>\n",
       "      <td>0</td>\n",
       "      <td>1</td>\n",
       "      <td>112542.58</td>\n",
       "      <td>0</td>\n",
       "      <td>0</td>\n",
       "      <td>0</td>\n",
       "    </tr>\n",
       "  </tbody>\n",
       "</table>\n",
       "</div>"
      ],
      "text/plain": [
       "   CreditScore  Age  Tenure   Balance  NumOfProducts  HasCrCard  \\\n",
       "0          619   42       2      0.00              1          1   \n",
       "1          608   41       1  83807.86              1          0   \n",
       "\n",
       "   IsActiveMember  EstimatedSalary  Geography_France  Geography_Germany  \\\n",
       "0               1        101348.88                 1                  0   \n",
       "1               1        112542.58                 0                  0   \n",
       "\n",
       "   Gender_Male  \n",
       "0            0  \n",
       "1            0  "
      ]
     },
     "execution_count": 111,
     "metadata": {},
     "output_type": "execute_result"
    }
   ],
   "source": [
    "X.head(2)"
   ]
  },
  {
   "cell_type": "code",
   "execution_count": 112,
   "metadata": {},
   "outputs": [],
   "source": [
    "X.rename(columns={'Geography_France':'France',\n",
    "                          'Geography_Germany':'Other_countries',\n",
    "                          'Gender_Male':'Gender'}, \n",
    "                 inplace=True)"
   ]
  },
  {
   "cell_type": "code",
   "execution_count": 113,
   "metadata": {},
   "outputs": [
    {
     "data": {
      "text/plain": [
       "Index(['CreditScore', 'Age', 'Tenure', 'Balance', 'NumOfProducts', 'HasCrCard',\n",
       "       'IsActiveMember', 'EstimatedSalary', 'France', 'Other_countries',\n",
       "       'Gender'],\n",
       "      dtype='object')"
      ]
     },
     "execution_count": 113,
     "metadata": {},
     "output_type": "execute_result"
    }
   ],
   "source": [
    "X.columns"
   ]
  },
  {
   "cell_type": "code",
   "execution_count": 114,
   "metadata": {
    "scrolled": true
   },
   "outputs": [
    {
     "name": "stdout",
     "output_type": "stream",
     "text": [
      "<class 'pandas.core.frame.DataFrame'>\n",
      "RangeIndex: 10000 entries, 0 to 9999\n",
      "Data columns (total 11 columns):\n",
      "CreditScore        10000 non-null int64\n",
      "Age                10000 non-null int64\n",
      "Tenure             10000 non-null int64\n",
      "Balance            10000 non-null float64\n",
      "NumOfProducts      10000 non-null int64\n",
      "HasCrCard          10000 non-null int64\n",
      "IsActiveMember     10000 non-null int64\n",
      "EstimatedSalary    10000 non-null float64\n",
      "France             10000 non-null int64\n",
      "Other_countries    10000 non-null int64\n",
      "Gender             10000 non-null int64\n",
      "dtypes: float64(2), int64(9)\n",
      "memory usage: 859.5 KB\n"
     ]
    }
   ],
   "source": [
    "X.info()"
   ]
  },
  {
   "cell_type": "markdown",
   "metadata": {},
   "source": [
    "## Lets Check if there is high correlation between independent variables"
   ]
  },
  {
   "cell_type": "code",
   "execution_count": 115,
   "metadata": {},
   "outputs": [
    {
     "data": {
      "text/plain": [
       "<matplotlib.axes._subplots.AxesSubplot at 0x1eb0a5a7a58>"
      ]
     },
     "execution_count": 115,
     "metadata": {},
     "output_type": "execute_result"
    },
    {
     "data": {
      "image/png": "[encoded data removed]",
      "text/plain": [
       "<Figure size 864x864 with 2 Axes>"
      ]
     },
     "metadata": {
      "needs_background": "light"
     },
     "output_type": "display_data"
    }
   ],
   "source": [
    "plt.subplots(figsize=(12,12))\n",
    "sns.heatmap(X.corr(), annot=True, vmin=-1, vmax=1, cmap='seismic')"
   ]
  },
  {
   "cell_type": "markdown",
   "metadata": {},
   "source": [
    "##  Independent variables do not seem to have very high correlation except for Countries, as it has a very high negative relation\n",
    "## as if its france it cannot be any other country and so on"
   ]
  },
  {
   "cell_type": "markdown",
   "metadata": {},
   "source": [
    "## As we can see X is non-Null we do not have to worry about null/na values"
   ]
  },
  {
   "cell_type": "markdown",
   "metadata": {},
   "source": [
    "## Step 3--> Divide the data set into Train and test sets"
   ]
  },
  {
   "cell_type": "code",
   "execution_count": 116,
   "metadata": {},
   "outputs": [],
   "source": [
    "from sklearn.model_selection import train_test_split\n",
    "X_train, X_test, y_train, y_test = train_test_split(X, y, test_size = 0.3, random_state = 42)"
   ]
  },
  {
   "cell_type": "code",
   "execution_count": 117,
   "metadata": {},
   "outputs": [
    {
     "data": {
      "text/plain": [
       "(7000, 11)"
      ]
     },
     "execution_count": 117,
     "metadata": {},
     "output_type": "execute_result"
    }
   ],
   "source": [
    "X_train.shape"
   ]
  },
  {
   "cell_type": "code",
   "execution_count": 118,
   "metadata": {},
   "outputs": [
    {
     "data": {
      "text/plain": [
       "(3000, 11)"
      ]
     },
     "execution_count": 118,
     "metadata": {},
     "output_type": "execute_result"
    }
   ],
   "source": [
    "X_test.shape"
   ]
  },
  {
   "cell_type": "code",
   "execution_count": 119,
   "metadata": {},
   "outputs": [
    {
     "data": {
      "text/plain": [
       "(7000, 1)"
      ]
     },
     "execution_count": 119,
     "metadata": {},
     "output_type": "execute_result"
    }
   ],
   "source": [
    "y_train.shape"
   ]
  },
  {
   "cell_type": "code",
   "execution_count": 120,
   "metadata": {
    "scrolled": true
   },
   "outputs": [
    {
     "data": {
      "text/plain": [
       "(3000, 1)"
      ]
     },
     "execution_count": 120,
     "metadata": {},
     "output_type": "execute_result"
    }
   ],
   "source": [
    "y_test.shape"
   ]
  },
  {
   "cell_type": "markdown",
   "metadata": {},
   "source": [
    "## Step 4--> Normalize the train and test data"
   ]
  },
  {
   "cell_type": "code",
   "execution_count": 121,
   "metadata": {},
   "outputs": [],
   "source": [
    "from sklearn.preprocessing import StandardScaler\n",
    "sc = StandardScaler()\n",
    "X_train_scaled = sc.fit_transform(X_train)\n",
    "X_test_scaled = sc.transform(X_test)"
   ]
  },
  {
   "cell_type": "code",
   "execution_count": 122,
   "metadata": {},
   "outputs": [],
   "source": [
    "X_train_scaled=pd.DataFrame(X_train_scaled)"
   ]
  },
  {
   "cell_type": "code",
   "execution_count": 123,
   "metadata": {},
   "outputs": [],
   "source": [
    "X_test_scaled=pd.DataFrame(X_test_scaled)"
   ]
  },
  {
   "cell_type": "code",
   "execution_count": 124,
   "metadata": {},
   "outputs": [
    {
     "data": {
      "text/plain": [
       "(3000, 11)"
      ]
     },
     "execution_count": 124,
     "metadata": {},
     "output_type": "execute_result"
    }
   ],
   "source": [
    "X_test_scaled.shape"
   ]
  },
  {
   "cell_type": "code",
   "execution_count": 125,
   "metadata": {},
   "outputs": [
    {
     "data": {
      "text/plain": [
       "(3000, 11)"
      ]
     },
     "execution_count": 125,
     "metadata": {},
     "output_type": "execute_result"
    }
   ],
   "source": [
    "X_test_scaled.shape"
   ]
  },
  {
   "cell_type": "markdown",
   "metadata": {},
   "source": [
    "## Step 5--> Initialize & build the model "
   ]
  },
  {
   "cell_type": "code",
   "execution_count": 126,
   "metadata": {},
   "outputs": [],
   "source": [
    "# Importing the Keras libraries and packages\n",
    "import keras\n",
    "from keras.models import Sequential\n",
    "from keras.layers import Dense\n",
    "\n",
    "# Initialising the ANN\n",
    "classifier = Sequential()\n",
    "\n",
    "# Adding the input layer and the first hidden layer\n",
    "classifier.add(Dense(output_dim = 6, init = 'uniform', activation = 'relu', input_dim = 11))\n",
    "\n",
    "# Adding the second hidden layer\n",
    "classifier.add(Dense(output_dim = 6, init = 'uniform', activation = 'relu'))\n",
    "\n",
    "# Adding the output layer\n",
    "classifier.add(Dense(output_dim = 1, init = 'uniform', activation = 'sigmoid'))\n",
    "\n"
   ]
  },
  {
   "cell_type": "code",
   "execution_count": 128,
   "metadata": {
    "scrolled": false
   },
   "outputs": [
    {
     "name": "stdout",
     "output_type": "stream",
     "text": [
      "Epoch 1/100\n",
      "7000/7000 [==============================] - 3s 383us/step - loss: 0.3425 - acc: 0.8564\n",
      "Epoch 2/100\n",
      "7000/7000 [==============================] - 1s 138us/step - loss: 0.3398 - acc: 0.8581\n",
      "Epoch 3/100\n",
      "7000/7000 [==============================] - 1s 137us/step - loss: 0.3417 - acc: 0.8579\n",
      "Epoch 4/100\n",
      "7000/7000 [==============================] - 1s 142us/step - loss: 0.3402 - acc: 0.8596\n",
      "Epoch 5/100\n",
      "7000/7000 [==============================] - 1s 136us/step - loss: 0.3415 - acc: 0.8573\n",
      "Epoch 6/100\n",
      "7000/7000 [==============================] - 1s 139us/step - loss: 0.3414 - acc: 0.8570\n",
      "Epoch 7/100\n",
      "7000/7000 [==============================] - 1s 157us/step - loss: 0.3410 - acc: 0.8581\n",
      "Epoch 8/100\n",
      "7000/7000 [==============================] - 1s 144us/step - loss: 0.3408 - acc: 0.8586\n",
      "Epoch 9/100\n",
      "7000/7000 [==============================] - 1s 136us/step - loss: 0.3400 - acc: 0.8589\n",
      "Epoch 10/100\n",
      "7000/7000 [==============================] - 1s 135us/step - loss: 0.3409 - acc: 0.8564\n",
      "Epoch 11/100\n",
      "7000/7000 [==============================] - 1s 141us/step - loss: 0.3409 - acc: 0.8586\n",
      "Epoch 12/100\n",
      "7000/7000 [==============================] - 1s 138us/step - loss: 0.3396 - acc: 0.8564\n",
      "Epoch 13/100\n",
      "7000/7000 [==============================] - 1s 142us/step - loss: 0.3410 - acc: 0.8593\n",
      "Epoch 14/100\n",
      "7000/7000 [==============================] - 1s 139us/step - loss: 0.3408 - acc: 0.8561\n",
      "Epoch 15/100\n",
      "7000/7000 [==============================] - 1s 139us/step - loss: 0.3411 - acc: 0.8570\n",
      "Epoch 16/100\n",
      "7000/7000 [==============================] - 1s 138us/step - loss: 0.3406 - acc: 0.8594\n",
      "Epoch 17/100\n",
      "7000/7000 [==============================] - 1s 137us/step - loss: 0.3410 - acc: 0.8576\n",
      "Epoch 18/100\n",
      "7000/7000 [==============================] - 1s 137us/step - loss: 0.3408 - acc: 0.8569\n",
      "Epoch 19/100\n",
      "7000/7000 [==============================] - 1s 138us/step - loss: 0.3403 - acc: 0.8566\n",
      "Epoch 20/100\n",
      "7000/7000 [==============================] - 1s 139us/step - loss: 0.3408 - acc: 0.8590\n",
      "Epoch 21/100\n",
      "7000/7000 [==============================] - 1s 138us/step - loss: 0.3405 - acc: 0.8591\n",
      "Epoch 22/100\n",
      "7000/7000 [==============================] - 1s 138us/step - loss: 0.3402 - acc: 0.8604\n",
      "Epoch 23/100\n",
      "7000/7000 [==============================] - 1s 145us/step - loss: 0.3408 - acc: 0.8561\n",
      "Epoch 24/100\n",
      "7000/7000 [==============================] - 1s 148us/step - loss: 0.3400 - acc: 0.8579\n",
      "Epoch 25/100\n",
      "7000/7000 [==============================] - 1s 137us/step - loss: 0.3405 - acc: 0.8604\n",
      "Epoch 26/100\n",
      "7000/7000 [==============================] - 1s 133us/step - loss: 0.3399 - acc: 0.8584\n",
      "Epoch 27/100\n",
      "7000/7000 [==============================] - 1s 131us/step - loss: 0.3389 - acc: 0.8594\n",
      "Epoch 28/100\n",
      "7000/7000 [==============================] - 1s 132us/step - loss: 0.3390 - acc: 0.8586\n",
      "Epoch 29/100\n",
      "7000/7000 [==============================] - 1s 137us/step - loss: 0.3400 - acc: 0.8590\n",
      "Epoch 30/100\n",
      "7000/7000 [==============================] - 1s 136us/step - loss: 0.3405 - acc: 0.8566\n",
      "Epoch 31/100\n",
      "7000/7000 [==============================] - 1s 135us/step - loss: 0.3401 - acc: 0.8593\n",
      "Epoch 32/100\n",
      "7000/7000 [==============================] - 1s 136us/step - loss: 0.3393 - acc: 0.8579\n",
      "Epoch 33/100\n",
      "7000/7000 [==============================] - 1s 136us/step - loss: 0.3375 - acc: 0.8614\n",
      "Epoch 34/100\n",
      "7000/7000 [==============================] - 1s 136us/step - loss: 0.3398 - acc: 0.8606\n",
      "Epoch 35/100\n",
      "7000/7000 [==============================] - 1s 140us/step - loss: 0.3410 - acc: 0.8599\n",
      "Epoch 36/100\n",
      "7000/7000 [==============================] - 1s 138us/step - loss: 0.3400 - acc: 0.8599\n",
      "Epoch 37/100\n",
      "7000/7000 [==============================] - 1s 139us/step - loss: 0.3394 - acc: 0.8587\n",
      "Epoch 38/100\n",
      "7000/7000 [==============================] - 1s 138us/step - loss: 0.3402 - acc: 0.8603\n",
      "Epoch 39/100\n",
      "7000/7000 [==============================] - 1s 137us/step - loss: 0.3384 - acc: 0.8611\n",
      "Epoch 40/100\n",
      "7000/7000 [==============================] - 1s 153us/step - loss: 0.3398 - acc: 0.8571\n",
      "Epoch 41/100\n",
      "7000/7000 [==============================] - 1s 134us/step - loss: 0.3398 - acc: 0.8587\n",
      "Epoch 42/100\n",
      "7000/7000 [==============================] - 1s 129us/step - loss: 0.3394 - acc: 0.8580\n",
      "Epoch 43/100\n",
      "7000/7000 [==============================] - 1s 125us/step - loss: 0.3385 - acc: 0.8573\n",
      "Epoch 44/100\n",
      "7000/7000 [==============================] - 1s 130us/step - loss: 0.3401 - acc: 0.8557\n",
      "Epoch 45/100\n",
      "7000/7000 [==============================] - 1s 127us/step - loss: 0.3397 - acc: 0.8589\n",
      "Epoch 46/100\n",
      "7000/7000 [==============================] - 1s 126us/step - loss: 0.3397 - acc: 0.8584\n",
      "Epoch 47/100\n",
      "7000/7000 [==============================] - 1s 129us/step - loss: 0.3389 - acc: 0.8591\n",
      "Epoch 48/100\n",
      "7000/7000 [==============================] - 1s 133us/step - loss: 0.3396 - acc: 0.8593\n",
      "Epoch 49/100\n",
      "7000/7000 [==============================] - 1s 131us/step - loss: 0.3384 - acc: 0.8594\n",
      "Epoch 50/100\n",
      "7000/7000 [==============================] - 1s 130us/step - loss: 0.3380 - acc: 0.8616\n",
      "Epoch 51/100\n",
      "7000/7000 [==============================] - 1s 134us/step - loss: 0.3392 - acc: 0.8583\n",
      "Epoch 52/100\n",
      "7000/7000 [==============================] - 1s 137us/step - loss: 0.3384 - acc: 0.8573\n",
      "Epoch 53/100\n",
      "7000/7000 [==============================] - 1s 132us/step - loss: 0.3394 - acc: 0.8571\n",
      "Epoch 54/100\n",
      "7000/7000 [==============================] - 1s 134us/step - loss: 0.3378 - acc: 0.8593\n",
      "Epoch 55/100\n",
      "7000/7000 [==============================] - 1s 134us/step - loss: 0.3391 - acc: 0.8591\n",
      "Epoch 56/100\n",
      "7000/7000 [==============================] - 1s 139us/step - loss: 0.3384 - acc: 0.8597 0s - loss: 0.3388 - acc: 0.8\n",
      "Epoch 57/100\n",
      "7000/7000 [==============================] - 1s 140us/step - loss: 0.3400 - acc: 0.8589\n",
      "Epoch 58/100\n",
      "7000/7000 [==============================] - 1s 135us/step - loss: 0.3386 - acc: 0.8604\n",
      "Epoch 59/100\n",
      "7000/7000 [==============================] - 1s 128us/step - loss: 0.3394 - acc: 0.8590\n",
      "Epoch 60/100\n",
      "7000/7000 [==============================] - 1s 128us/step - loss: 0.3388 - acc: 0.8599\n",
      "Epoch 61/100\n",
      "7000/7000 [==============================] - 1s 133us/step - loss: 0.3384 - acc: 0.8604\n",
      "Epoch 62/100\n",
      "7000/7000 [==============================] - 1s 131us/step - loss: 0.3378 - acc: 0.8600\n",
      "Epoch 63/100\n",
      "7000/7000 [==============================] - 1s 140us/step - loss: 0.3373 - acc: 0.8589\n",
      "Epoch 64/100\n",
      "7000/7000 [==============================] - 1s 138us/step - loss: 0.3385 - acc: 0.8576\n",
      "Epoch 65/100\n",
      "7000/7000 [==============================] - 1s 126us/step - loss: 0.3371 - acc: 0.8599\n",
      "Epoch 66/100\n",
      "7000/7000 [==============================] - 1s 128us/step - loss: 0.3393 - acc: 0.8583\n",
      "Epoch 67/100\n",
      "7000/7000 [==============================] - 1s 129us/step - loss: 0.3384 - acc: 0.8584\n",
      "Epoch 68/100\n",
      "7000/7000 [==============================] - 1s 133us/step - loss: 0.3381 - acc: 0.8606\n",
      "Epoch 69/100\n",
      "7000/7000 [==============================] - 1s 134us/step - loss: 0.3384 - acc: 0.8574\n",
      "Epoch 70/100\n",
      "7000/7000 [==============================] - 1s 135us/step - loss: 0.3376 - acc: 0.8587\n",
      "Epoch 71/100\n",
      "7000/7000 [==============================] - 1s 136us/step - loss: 0.3382 - acc: 0.8584\n",
      "Epoch 72/100\n",
      "7000/7000 [==============================] - 1s 135us/step - loss: 0.3372 - acc: 0.8611\n",
      "Epoch 73/100\n",
      "7000/7000 [==============================] - 1s 134us/step - loss: 0.3380 - acc: 0.8606\n",
      "Epoch 74/100\n",
      "7000/7000 [==============================] - 1s 135us/step - loss: 0.3376 - acc: 0.8586\n",
      "Epoch 75/100\n",
      "7000/7000 [==============================] - 1s 136us/step - loss: 0.3386 - acc: 0.8586\n",
      "Epoch 76/100\n",
      "7000/7000 [==============================] - 1s 127us/step - loss: 0.3384 - acc: 0.8581\n",
      "Epoch 77/100\n",
      "7000/7000 [==============================] - 1s 124us/step - loss: 0.3388 - acc: 0.8561\n",
      "Epoch 78/100\n",
      "7000/7000 [==============================] - 1s 124us/step - loss: 0.3377 - acc: 0.8609\n",
      "Epoch 79/100\n",
      "7000/7000 [==============================] - 1s 127us/step - loss: 0.3382 - acc: 0.8606\n",
      "Epoch 80/100\n",
      "7000/7000 [==============================] - 1s 123us/step - loss: 0.3385 - acc: 0.8593\n",
      "Epoch 81/100\n"
     ]
    },
    {
     "name": "stdout",
     "output_type": "stream",
     "text": [
      "7000/7000 [==============================] - 1s 136us/step - loss: 0.3385 - acc: 0.8581\n",
      "Epoch 82/100\n",
      "7000/7000 [==============================] - 1s 141us/step - loss: 0.3387 - acc: 0.8577\n",
      "Epoch 83/100\n",
      "7000/7000 [==============================] - 1s 140us/step - loss: 0.3379 - acc: 0.8591\n",
      "Epoch 84/100\n",
      "7000/7000 [==============================] - 1s 136us/step - loss: 0.3380 - acc: 0.8561\n",
      "Epoch 85/100\n",
      "7000/7000 [==============================] - 1s 132us/step - loss: 0.3374 - acc: 0.8587\n",
      "Epoch 86/100\n",
      "7000/7000 [==============================] - 1s 137us/step - loss: 0.3378 - acc: 0.8590\n",
      "Epoch 87/100\n",
      "7000/7000 [==============================] - 1s 136us/step - loss: 0.3379 - acc: 0.8581\n",
      "Epoch 88/100\n",
      "7000/7000 [==============================] - 1s 140us/step - loss: 0.3385 - acc: 0.8579\n",
      "Epoch 89/100\n",
      "7000/7000 [==============================] - 1s 134us/step - loss: 0.3380 - acc: 0.8569\n",
      "Epoch 90/100\n",
      "7000/7000 [==============================] - 1s 133us/step - loss: 0.3378 - acc: 0.8600\n",
      "Epoch 91/100\n",
      "7000/7000 [==============================] - 1s 146us/step - loss: 0.3378 - acc: 0.8580\n",
      "Epoch 92/100\n",
      "7000/7000 [==============================] - 1s 151us/step - loss: 0.3383 - acc: 0.8590\n",
      "Epoch 93/100\n",
      "7000/7000 [==============================] - 1s 134us/step - loss: 0.3382 - acc: 0.8576\n",
      "Epoch 94/100\n",
      "7000/7000 [==============================] - 1s 136us/step - loss: 0.3381 - acc: 0.8594\n",
      "Epoch 95/100\n",
      "7000/7000 [==============================] - 1s 137us/step - loss: 0.3378 - acc: 0.8583\n",
      "Epoch 96/100\n",
      "7000/7000 [==============================] - 1s 136us/step - loss: 0.3376 - acc: 0.8596\n",
      "Epoch 97/100\n",
      "7000/7000 [==============================] - 1s 137us/step - loss: 0.3373 - acc: 0.8600\n",
      "Epoch 98/100\n",
      "7000/7000 [==============================] - 1s 135us/step - loss: 0.3376 - acc: 0.8600\n",
      "Epoch 99/100\n",
      "7000/7000 [==============================] - 1s 138us/step - loss: 0.3395 - acc: 0.8573\n",
      "Epoch 100/100\n",
      "7000/7000 [==============================] - 1s 136us/step - loss: 0.3381 - acc: 0.8591\n"
     ]
    },
    {
     "data": {
      "text/plain": [
       "<keras.callbacks.History at 0x1eb1e506cf8>"
      ]
     },
     "execution_count": 128,
     "metadata": {},
     "output_type": "execute_result"
    }
   ],
   "source": [
    "# Compiling the ANN\n",
    "classifier.compile(optimizer = 'adam', loss = 'binary_crossentropy', metrics = ['accuracy'])\n",
    "\n",
    "# Fitting the ANN to the Training set\n",
    "classifier.fit(X_train_scaled, y_train, batch_size = 10, nb_epoch = 100)\n"
   ]
  },
  {
   "cell_type": "code",
   "execution_count": 129,
   "metadata": {},
   "outputs": [
    {
     "data": {
      "text/plain": [
       "array([[False],\n",
       "       [False],\n",
       "       [False],\n",
       "       ...,\n",
       "       [False],\n",
       "       [False],\n",
       "       [False]])"
      ]
     },
     "execution_count": 129,
     "metadata": {},
     "output_type": "execute_result"
    }
   ],
   "source": [
    "y_pred = classifier.predict(X_test_scaled)\n",
    "y_pred = (y_pred > 0.5)\n",
    "y_pred"
   ]
  },
  {
   "cell_type": "code",
   "execution_count": 130,
   "metadata": {},
   "outputs": [],
   "source": [
    "# Making the Confusion Matrix\n",
    "from sklearn.metrics import confusion_matrix,accuracy_score\n",
    "cm_1 = confusion_matrix(y_test, y_pred)"
   ]
  },
  {
   "cell_type": "code",
   "execution_count": 131,
   "metadata": {},
   "outputs": [
    {
     "data": {
      "text/plain": [
       "array([[2315,  101],\n",
       "       [ 302,  282]], dtype=int64)"
      ]
     },
     "execution_count": 131,
     "metadata": {},
     "output_type": "execute_result"
    }
   ],
   "source": [
    "cm_1"
   ]
  },
  {
   "cell_type": "code",
   "execution_count": 132,
   "metadata": {},
   "outputs": [
    {
     "data": {
      "text/plain": [
       "0.8656666666666667"
      ]
     },
     "execution_count": 132,
     "metadata": {},
     "output_type": "execute_result"
    }
   ],
   "source": [
    "accuracy_score(y_test,y_pred)"
   ]
  },
  {
   "cell_type": "markdown",
   "metadata": {},
   "source": [
    "# We can see we are able to get an 86.56 % accuracy with 2 hidden layers having 6 output _dims"
   ]
  },
  {
   "cell_type": "markdown",
   "metadata": {},
   "source": [
    "## Step 6 --> Optimize the model"
   ]
  },
  {
   "cell_type": "code",
   "execution_count": 133,
   "metadata": {},
   "outputs": [],
   "source": [
    "from keras import optimizers\n",
    "\n",
    "sgd = optimizers.SGD(lr=0.02)\n"
   ]
  },
  {
   "cell_type": "code",
   "execution_count": 134,
   "metadata": {
    "scrolled": false
   },
   "outputs": [
    {
     "name": "stdout",
     "output_type": "stream",
     "text": [
      "Epoch 1/150\n",
      "7000/7000 [==============================] - 2s 249us/step - loss: 0.5673 - acc: 0.7911\n",
      "Epoch 2/150\n",
      "7000/7000 [==============================] - 1s 134us/step - loss: 0.5146 - acc: 0.7924\n",
      "Epoch 3/150\n",
      "7000/7000 [==============================] - 1s 132us/step - loss: 0.5112 - acc: 0.7924\n",
      "Epoch 4/150\n",
      "7000/7000 [==============================] - ETA: 0s - loss: 0.5107 - acc: 0.792 - 1s 133us/step - loss: 0.5108 - acc: 0.7924\n",
      "Epoch 5/150\n",
      "7000/7000 [==============================] - 1s 131us/step - loss: 0.5108 - acc: 0.7924\n",
      "Epoch 6/150\n",
      "7000/7000 [==============================] - 1s 135us/step - loss: 0.5107 - acc: 0.7924\n",
      "Epoch 7/150\n",
      "7000/7000 [==============================] - 1s 135us/step - loss: 0.5108 - acc: 0.7924\n",
      "Epoch 8/150\n",
      "7000/7000 [==============================] - 1s 135us/step - loss: 0.5107 - acc: 0.7924\n",
      "Epoch 9/150\n",
      "7000/7000 [==============================] - 1s 139us/step - loss: 0.5108 - acc: 0.7924\n",
      "Epoch 10/150\n",
      "7000/7000 [==============================] - 1s 143us/step - loss: 0.5107 - acc: 0.7924\n",
      "Epoch 11/150\n",
      "7000/7000 [==============================] - 1s 132us/step - loss: 0.5107 - acc: 0.7924\n",
      "Epoch 12/150\n",
      "7000/7000 [==============================] - 1s 133us/step - loss: 0.5108 - acc: 0.7924\n",
      "Epoch 13/150\n",
      "7000/7000 [==============================] - 1s 132us/step - loss: 0.5107 - acc: 0.7924\n",
      "Epoch 14/150\n",
      "7000/7000 [==============================] - 1s 132us/step - loss: 0.5107 - acc: 0.7924\n",
      "Epoch 15/150\n",
      "7000/7000 [==============================] - 1s 133us/step - loss: 0.5107 - acc: 0.7924\n",
      "Epoch 16/150\n",
      "7000/7000 [==============================] - 1s 134us/step - loss: 0.5107 - acc: 0.7924\n",
      "Epoch 17/150\n",
      "7000/7000 [==============================] - 1s 130us/step - loss: 0.5106 - acc: 0.7924\n",
      "Epoch 18/150\n",
      "7000/7000 [==============================] - 1s 131us/step - loss: 0.5106 - acc: 0.7924\n",
      "Epoch 19/150\n",
      "7000/7000 [==============================] - 1s 128us/step - loss: 0.5105 - acc: 0.7924\n",
      "Epoch 20/150\n",
      "7000/7000 [==============================] - 1s 129us/step - loss: 0.5103 - acc: 0.7924\n",
      "Epoch 21/150\n",
      "7000/7000 [==============================] - 1s 124us/step - loss: 0.5101 - acc: 0.7924\n",
      "Epoch 22/150\n",
      "7000/7000 [==============================] - 1s 124us/step - loss: 0.5098 - acc: 0.7924\n",
      "Epoch 23/150\n",
      "7000/7000 [==============================] - 1s 123us/step - loss: 0.5093 - acc: 0.7924\n",
      "Epoch 24/150\n",
      "7000/7000 [==============================] - 1s 123us/step - loss: 0.5084 - acc: 0.7924\n",
      "Epoch 25/150\n",
      "7000/7000 [==============================] - 1s 123us/step - loss: 0.5067 - acc: 0.7924\n",
      "Epoch 26/150\n",
      "7000/7000 [==============================] - 1s 122us/step - loss: 0.5032 - acc: 0.7924\n",
      "Epoch 27/150\n",
      "7000/7000 [==============================] - 1s 133us/step - loss: 0.4960 - acc: 0.7924\n",
      "Epoch 28/150\n",
      "7000/7000 [==============================] - 1s 130us/step - loss: 0.4815 - acc: 0.7924\n",
      "Epoch 29/150\n",
      "7000/7000 [==============================] - 1s 128us/step - loss: 0.4584 - acc: 0.7924\n",
      "Epoch 30/150\n",
      "7000/7000 [==============================] - 1s 128us/step - loss: 0.4357 - acc: 0.7927\n",
      "Epoch 31/150\n",
      "7000/7000 [==============================] - 1s 127us/step - loss: 0.4214 - acc: 0.7986\n",
      "Epoch 32/150\n",
      "7000/7000 [==============================] - 1s 128us/step - loss: 0.4094 - acc: 0.8160 0s - loss: 0.3998 - \n",
      "Epoch 33/150\n",
      "7000/7000 [==============================] - 1s 128us/step - loss: 0.3950 - acc: 0.8274\n",
      "Epoch 34/150\n",
      "7000/7000 [==============================] - 1s 128us/step - loss: 0.3797 - acc: 0.8404\n",
      "Epoch 35/150\n",
      "7000/7000 [==============================] - 1s 128us/step - loss: 0.3685 - acc: 0.8420\n",
      "Epoch 36/150\n",
      "7000/7000 [==============================] - 1s 127us/step - loss: 0.3612 - acc: 0.8489\n",
      "Epoch 37/150\n",
      "7000/7000 [==============================] - 1s 130us/step - loss: 0.3560 - acc: 0.8500\n",
      "Epoch 38/150\n",
      "7000/7000 [==============================] - 1s 132us/step - loss: 0.3527 - acc: 0.8501\n",
      "Epoch 39/150\n",
      "7000/7000 [==============================] - 1s 131us/step - loss: 0.3504 - acc: 0.8544\n",
      "Epoch 40/150\n",
      "7000/7000 [==============================] - 1s 134us/step - loss: 0.3484 - acc: 0.8543\n",
      "Epoch 41/150\n",
      "7000/7000 [==============================] - 1s 127us/step - loss: 0.3487 - acc: 0.8559\n",
      "Epoch 42/150\n",
      "7000/7000 [==============================] - 1s 127us/step - loss: 0.3480 - acc: 0.8544\n",
      "Epoch 43/150\n",
      "7000/7000 [==============================] - 1s 126us/step - loss: 0.3468 - acc: 0.8560\n",
      "Epoch 44/150\n",
      "7000/7000 [==============================] - 1s 127us/step - loss: 0.3474 - acc: 0.8551\n",
      "Epoch 45/150\n",
      "7000/7000 [==============================] - 1s 138us/step - loss: 0.3468 - acc: 0.8553\n",
      "Epoch 46/150\n",
      "7000/7000 [==============================] - 1s 127us/step - loss: 0.3462 - acc: 0.8543\n",
      "Epoch 47/150\n",
      "7000/7000 [==============================] - 1s 127us/step - loss: 0.3467 - acc: 0.8560\n",
      "Epoch 48/150\n",
      "7000/7000 [==============================] - 1s 125us/step - loss: 0.3462 - acc: 0.8550\n",
      "Epoch 49/150\n",
      "7000/7000 [==============================] - 1s 127us/step - loss: 0.3465 - acc: 0.8573\n",
      "Epoch 50/150\n",
      "7000/7000 [==============================] - 1s 130us/step - loss: 0.3461 - acc: 0.8530\n",
      "Epoch 51/150\n",
      "7000/7000 [==============================] - 1s 124us/step - loss: 0.3457 - acc: 0.8564\n",
      "Epoch 52/150\n",
      "7000/7000 [==============================] - 1s 134us/step - loss: 0.3464 - acc: 0.8556\n",
      "Epoch 53/150\n",
      "7000/7000 [==============================] - 1s 130us/step - loss: 0.3460 - acc: 0.8570\n",
      "Epoch 54/150\n",
      "7000/7000 [==============================] - 1s 128us/step - loss: 0.3462 - acc: 0.8566\n",
      "Epoch 55/150\n",
      "7000/7000 [==============================] - 1s 127us/step - loss: 0.3455 - acc: 0.8547\n",
      "Epoch 56/150\n",
      "7000/7000 [==============================] - 1s 124us/step - loss: 0.3455 - acc: 0.8570\n",
      "Epoch 57/150\n",
      "7000/7000 [==============================] - 1s 127us/step - loss: 0.3450 - acc: 0.8567\n",
      "Epoch 58/150\n",
      "7000/7000 [==============================] - 1s 125us/step - loss: 0.3454 - acc: 0.8550\n",
      "Epoch 59/150\n",
      "7000/7000 [==============================] - 1s 127us/step - loss: 0.3445 - acc: 0.8539\n",
      "Epoch 60/150\n",
      "7000/7000 [==============================] - 1s 127us/step - loss: 0.3455 - acc: 0.8554\n",
      "Epoch 61/150\n",
      "7000/7000 [==============================] - 1s 128us/step - loss: 0.3453 - acc: 0.8570\n",
      "Epoch 62/150\n",
      "7000/7000 [==============================] - 1s 128us/step - loss: 0.3455 - acc: 0.8576\n",
      "Epoch 63/150\n",
      "7000/7000 [==============================] - 1s 140us/step - loss: 0.3437 - acc: 0.8573\n",
      "Epoch 64/150\n",
      "7000/7000 [==============================] - 1s 127us/step - loss: 0.3452 - acc: 0.8570\n",
      "Epoch 65/150\n",
      "7000/7000 [==============================] - 1s 126us/step - loss: 0.3441 - acc: 0.8580\n",
      "Epoch 66/150\n",
      "7000/7000 [==============================] - 1s 126us/step - loss: 0.3440 - acc: 0.8570\n",
      "Epoch 67/150\n",
      "7000/7000 [==============================] - 1s 124us/step - loss: 0.3441 - acc: 0.8559\n",
      "Epoch 68/150\n",
      "7000/7000 [==============================] - 1s 123us/step - loss: 0.3445 - acc: 0.8570\n",
      "Epoch 69/150\n",
      "7000/7000 [==============================] - 1s 125us/step - loss: 0.3445 - acc: 0.8569\n",
      "Epoch 70/150\n",
      "7000/7000 [==============================] - 1s 123us/step - loss: 0.3443 - acc: 0.8586\n",
      "Epoch 71/150\n",
      "7000/7000 [==============================] - 1s 124us/step - loss: 0.3447 - acc: 0.8561\n",
      "Epoch 72/150\n",
      "7000/7000 [==============================] - 1s 125us/step - loss: 0.3443 - acc: 0.8563\n",
      "Epoch 73/150\n",
      "7000/7000 [==============================] - 1s 123us/step - loss: 0.3434 - acc: 0.8573\n",
      "Epoch 74/150\n",
      "7000/7000 [==============================] - 1s 121us/step - loss: 0.3443 - acc: 0.8597\n",
      "Epoch 75/150\n",
      "7000/7000 [==============================] - 1s 127us/step - loss: 0.3436 - acc: 0.8594\n",
      "Epoch 76/150\n",
      "7000/7000 [==============================] - 1s 122us/step - loss: 0.3440 - acc: 0.8577\n",
      "Epoch 77/150\n",
      "7000/7000 [==============================] - 1s 124us/step - loss: 0.3437 - acc: 0.8586\n",
      "Epoch 78/150\n",
      "7000/7000 [==============================] - 1s 122us/step - loss: 0.3442 - acc: 0.8576\n",
      "Epoch 79/150\n",
      "7000/7000 [==============================] - 1s 121us/step - loss: 0.3426 - acc: 0.8566\n",
      "Epoch 80/150\n",
      "7000/7000 [==============================] - 1s 122us/step - loss: 0.3426 - acc: 0.8579\n",
      "Epoch 81/150\n"
     ]
    },
    {
     "name": "stdout",
     "output_type": "stream",
     "text": [
      "7000/7000 [==============================] - 1s 144us/step - loss: 0.3430 - acc: 0.8601\n",
      "Epoch 82/150\n",
      "7000/7000 [==============================] - 1s 138us/step - loss: 0.3429 - acc: 0.8571\n",
      "Epoch 83/150\n",
      "7000/7000 [==============================] - 1s 134us/step - loss: 0.3421 - acc: 0.8570\n",
      "Epoch 84/150\n",
      "7000/7000 [==============================] - 1s 136us/step - loss: 0.3422 - acc: 0.8586\n",
      "Epoch 85/150\n",
      "7000/7000 [==============================] - 1s 139us/step - loss: 0.3416 - acc: 0.8580\n",
      "Epoch 86/150\n",
      "7000/7000 [==============================] - 1s 131us/step - loss: 0.3422 - acc: 0.8624\n",
      "Epoch 87/150\n",
      "7000/7000 [==============================] - 1s 134us/step - loss: 0.3430 - acc: 0.8589\n",
      "Epoch 88/150\n",
      "7000/7000 [==============================] - 1s 132us/step - loss: 0.3420 - acc: 0.8576\n",
      "Epoch 89/150\n",
      "7000/7000 [==============================] - 1s 131us/step - loss: 0.3417 - acc: 0.8573\n",
      "Epoch 90/150\n",
      "7000/7000 [==============================] - 1s 130us/step - loss: 0.3419 - acc: 0.8596\n",
      "Epoch 91/150\n",
      "7000/7000 [==============================] - 1s 131us/step - loss: 0.3420 - acc: 0.8571\n",
      "Epoch 92/150\n",
      "7000/7000 [==============================] - 1s 130us/step - loss: 0.3418 - acc: 0.8590\n",
      "Epoch 93/150\n",
      "7000/7000 [==============================] - 1s 130us/step - loss: 0.3405 - acc: 0.8601\n",
      "Epoch 94/150\n",
      "7000/7000 [==============================] - 1s 131us/step - loss: 0.3412 - acc: 0.8589\n",
      "Epoch 95/150\n",
      "7000/7000 [==============================] - 1s 131us/step - loss: 0.3410 - acc: 0.8597\n",
      "Epoch 96/150\n",
      "7000/7000 [==============================] - 1s 130us/step - loss: 0.3412 - acc: 0.8597\n",
      "Epoch 97/150\n",
      "7000/7000 [==============================] - 1s 131us/step - loss: 0.3410 - acc: 0.8567\n",
      "Epoch 98/150\n",
      "7000/7000 [==============================] - 1s 140us/step - loss: 0.3415 - acc: 0.8589\n",
      "Epoch 99/150\n",
      "7000/7000 [==============================] - 1s 137us/step - loss: 0.3408 - acc: 0.8577\n",
      "Epoch 100/150\n",
      "7000/7000 [==============================] - 1s 129us/step - loss: 0.3412 - acc: 0.8596\n",
      "Epoch 101/150\n",
      "7000/7000 [==============================] - 1s 130us/step - loss: 0.3410 - acc: 0.8591\n",
      "Epoch 102/150\n",
      "7000/7000 [==============================] - 1s 131us/step - loss: 0.3404 - acc: 0.8604\n",
      "Epoch 103/150\n",
      "7000/7000 [==============================] - 1s 130us/step - loss: 0.3414 - acc: 0.8564\n",
      "Epoch 104/150\n",
      "7000/7000 [==============================] - 1s 128us/step - loss: 0.3404 - acc: 0.8584\n",
      "Epoch 105/150\n",
      "7000/7000 [==============================] - 1s 128us/step - loss: 0.3400 - acc: 0.8589\n",
      "Epoch 106/150\n",
      "7000/7000 [==============================] - 1s 129us/step - loss: 0.3406 - acc: 0.8593\n",
      "Epoch 107/150\n",
      "7000/7000 [==============================] - 1s 130us/step - loss: 0.3402 - acc: 0.8569\n",
      "Epoch 108/150\n",
      "7000/7000 [==============================] - 1s 130us/step - loss: 0.3407 - acc: 0.8577\n",
      "Epoch 109/150\n",
      "7000/7000 [==============================] - 1s 129us/step - loss: 0.3406 - acc: 0.8587\n",
      "Epoch 110/150\n",
      "7000/7000 [==============================] - 1s 130us/step - loss: 0.3402 - acc: 0.8603\n",
      "Epoch 111/150\n",
      "7000/7000 [==============================] - 1s 130us/step - loss: 0.3402 - acc: 0.8586\n",
      "Epoch 112/150\n",
      "7000/7000 [==============================] - 1s 127us/step - loss: 0.3405 - acc: 0.8614\n",
      "Epoch 113/150\n",
      "7000/7000 [==============================] - 1s 129us/step - loss: 0.3409 - acc: 0.8590\n",
      "Epoch 114/150\n",
      "7000/7000 [==============================] - 1s 129us/step - loss: 0.3405 - acc: 0.8586\n",
      "Epoch 115/150\n",
      "7000/7000 [==============================] - 1s 132us/step - loss: 0.3406 - acc: 0.8597\n",
      "Epoch 116/150\n",
      "7000/7000 [==============================] - 1s 143us/step - loss: 0.3397 - acc: 0.8603\n",
      "Epoch 117/150\n",
      "7000/7000 [==============================] - 1s 130us/step - loss: 0.3404 - acc: 0.8584\n",
      "Epoch 118/150\n",
      "7000/7000 [==============================] - 1s 128us/step - loss: 0.3397 - acc: 0.8597\n",
      "Epoch 119/150\n",
      "7000/7000 [==============================] - 1s 130us/step - loss: 0.3408 - acc: 0.8576\n",
      "Epoch 120/150\n",
      "7000/7000 [==============================] - 1s 128us/step - loss: 0.3402 - acc: 0.8594\n",
      "Epoch 121/150\n",
      "7000/7000 [==============================] - 1s 128us/step - loss: 0.3405 - acc: 0.8580\n",
      "Epoch 122/150\n",
      "7000/7000 [==============================] - 1s 129us/step - loss: 0.3398 - acc: 0.8624\n",
      "Epoch 123/150\n",
      "7000/7000 [==============================] - 1s 130us/step - loss: 0.3390 - acc: 0.8594 0s - loss: 0.332\n",
      "Epoch 124/150\n",
      "7000/7000 [==============================] - 1s 127us/step - loss: 0.3401 - acc: 0.8596\n",
      "Epoch 125/150\n",
      "7000/7000 [==============================] - 1s 128us/step - loss: 0.3401 - acc: 0.8599\n",
      "Epoch 126/150\n",
      "7000/7000 [==============================] - 1s 128us/step - loss: 0.3398 - acc: 0.8599\n",
      "Epoch 127/150\n",
      "7000/7000 [==============================] - 1s 129us/step - loss: 0.3395 - acc: 0.8601\n",
      "Epoch 128/150\n",
      "7000/7000 [==============================] - 1s 126us/step - loss: 0.3389 - acc: 0.8599\n",
      "Epoch 129/150\n",
      "7000/7000 [==============================] - 1s 127us/step - loss: 0.3390 - acc: 0.8581\n",
      "Epoch 130/150\n",
      "7000/7000 [==============================] - 1s 128us/step - loss: 0.3386 - acc: 0.8613\n",
      "Epoch 131/150\n",
      "7000/7000 [==============================] - 1s 127us/step - loss: 0.3391 - acc: 0.8577\n",
      "Epoch 132/150\n",
      "7000/7000 [==============================] - 1s 128us/step - loss: 0.3391 - acc: 0.8596\n",
      "Epoch 133/150\n",
      "7000/7000 [==============================] - 1s 133us/step - loss: 0.3386 - acc: 0.8590\n",
      "Epoch 134/150\n",
      "7000/7000 [==============================] - 1s 145us/step - loss: 0.3390 - acc: 0.8571\n",
      "Epoch 135/150\n",
      "7000/7000 [==============================] - 1s 125us/step - loss: 0.3391 - acc: 0.8580\n",
      "Epoch 136/150\n",
      "7000/7000 [==============================] - 1s 126us/step - loss: 0.3390 - acc: 0.8571\n",
      "Epoch 137/150\n",
      "7000/7000 [==============================] - 1s 125us/step - loss: 0.3387 - acc: 0.8587\n",
      "Epoch 138/150\n",
      "7000/7000 [==============================] - 1s 127us/step - loss: 0.3389 - acc: 0.8580\n",
      "Epoch 139/150\n",
      "7000/7000 [==============================] - 1s 125us/step - loss: 0.3385 - acc: 0.8591\n",
      "Epoch 140/150\n",
      "7000/7000 [==============================] - 1s 128us/step - loss: 0.3386 - acc: 0.8566\n",
      "Epoch 141/150\n",
      "7000/7000 [==============================] - 1s 126us/step - loss: 0.3386 - acc: 0.8604\n",
      "Epoch 142/150\n",
      "7000/7000 [==============================] - 1s 125us/step - loss: 0.3388 - acc: 0.8600\n",
      "Epoch 143/150\n",
      "7000/7000 [==============================] - 1s 126us/step - loss: 0.3377 - acc: 0.8583\n",
      "Epoch 144/150\n",
      "7000/7000 [==============================] - 1s 126us/step - loss: 0.3384 - acc: 0.8564\n",
      "Epoch 145/150\n",
      "7000/7000 [==============================] - 1s 126us/step - loss: 0.3381 - acc: 0.8590\n",
      "Epoch 146/150\n",
      "7000/7000 [==============================] - 1s 125us/step - loss: 0.3378 - acc: 0.8581\n",
      "Epoch 147/150\n",
      "7000/7000 [==============================] - 1s 123us/step - loss: 0.3378 - acc: 0.8601\n",
      "Epoch 148/150\n",
      "7000/7000 [==============================] - 1s 124us/step - loss: 0.3381 - acc: 0.8591\n",
      "Epoch 149/150\n",
      "7000/7000 [==============================] - 1s 124us/step - loss: 0.3384 - acc: 0.8580\n",
      "Epoch 150/150\n",
      "7000/7000 [==============================] - 1s 123us/step - loss: 0.3385 - acc: 0.8576\n"
     ]
    },
    {
     "data": {
      "text/plain": [
       "<keras.callbacks.History at 0x1eb1eaf6940>"
      ]
     },
     "execution_count": 134,
     "metadata": {},
     "output_type": "execute_result"
    }
   ],
   "source": [
    "# Initialising the ANN\n",
    "classifier2 = Sequential()\n",
    "\n",
    "# Adding the input layer and the first hidden layer\n",
    "classifier2.add(Dense(output_dim = 6, init = 'uniform', activation = 'relu', input_dim = 11))\n",
    "\n",
    "# Adding the second hidden layer\n",
    "classifier2.add(Dense(output_dim = 6, init = 'uniform', activation = 'relu'))\n",
    "\n",
    "# Adding the output layer\n",
    "classifier2.add(Dense(output_dim = 1, init = 'uniform', activation = 'sigmoid'))\n",
    "\n",
    "# Compiling the ANN\n",
    "classifier2.compile(optimizer = 'sgd', loss = 'binary_crossentropy', metrics = ['accuracy'])\n",
    "\n",
    "# Fitting the ANN to the Training set\n",
    "classifier2.fit(X_train_scaled, y_train, batch_size = 10, nb_epoch = 150)\n"
   ]
  },
  {
   "cell_type": "code",
   "execution_count": 135,
   "metadata": {},
   "outputs": [
    {
     "data": {
      "text/plain": [
       "array([[False],\n",
       "       [False],\n",
       "       [False],\n",
       "       ...,\n",
       "       [False],\n",
       "       [False],\n",
       "       [False]])"
      ]
     },
     "execution_count": 135,
     "metadata": {},
     "output_type": "execute_result"
    }
   ],
   "source": [
    "y_pred = classifier2.predict(X_test_scaled)\n",
    "y_pred = (y_pred > 0.5)\n",
    "y_pred"
   ]
  },
  {
   "cell_type": "code",
   "execution_count": 136,
   "metadata": {},
   "outputs": [
    {
     "data": {
      "text/plain": [
       "array([[2323,   93],\n",
       "       [ 307,  277]], dtype=int64)"
      ]
     },
     "execution_count": 136,
     "metadata": {},
     "output_type": "execute_result"
    }
   ],
   "source": [
    "# Making the Confusion Matrix\n",
    "from sklearn.metrics import confusion_matrix,accuracy_score\n",
    "cm_2 = confusion_matrix(y_test, y_pred)\n",
    "cm_2"
   ]
  },
  {
   "cell_type": "code",
   "execution_count": 137,
   "metadata": {},
   "outputs": [
    {
     "data": {
      "text/plain": [
       "0.8666666666666667"
      ]
     },
     "execution_count": 137,
     "metadata": {},
     "output_type": "execute_result"
    }
   ],
   "source": [
    "accuracy_score(y_test,y_pred)"
   ]
  },
  {
   "cell_type": "markdown",
   "metadata": {},
   "source": [
    "## By changing the optimizer to Stochastic Gradient Descent and changing the learning rate we were able to achieve an a better accuracy score of 86.67%"
   ]
  },
  {
   "cell_type": "code",
   "execution_count": 139,
   "metadata": {},
   "outputs": [],
   "source": [
    "from keras import optimizers\n",
    "\n",
    "\n",
    "Adadelta=keras.optimizers.Adadelta(lr=1.0, rho=0.95, epsilon=None, decay=0.0)\n"
   ]
  },
  {
   "cell_type": "code",
   "execution_count": 140,
   "metadata": {
    "scrolled": false
   },
   "outputs": [
    {
     "name": "stdout",
     "output_type": "stream",
     "text": [
      "Epoch 1/150\n",
      "7000/7000 [==============================] - 2s 260us/step - loss: 0.4592 - acc: 0.7921\n",
      "Epoch 2/150\n",
      "7000/7000 [==============================] - 1s 144us/step - loss: 0.4234 - acc: 0.8161\n",
      "Epoch 3/150\n",
      "7000/7000 [==============================] - 1s 144us/step - loss: 0.4173 - acc: 0.8297\n",
      "Epoch 4/150\n",
      "7000/7000 [==============================] - 1s 143us/step - loss: 0.4133 - acc: 0.8303\n",
      "Epoch 5/150\n",
      "7000/7000 [==============================] - 1s 145us/step - loss: 0.4104 - acc: 0.8316\n",
      "Epoch 6/150\n",
      "7000/7000 [==============================] - 1s 145us/step - loss: 0.4085 - acc: 0.8331\n",
      "Epoch 7/150\n",
      "7000/7000 [==============================] - 1s 143us/step - loss: 0.4064 - acc: 0.8309\n",
      "Epoch 8/150\n",
      "7000/7000 [==============================] - 1s 144us/step - loss: 0.4055 - acc: 0.8320\n",
      "Epoch 9/150\n",
      "7000/7000 [==============================] - 1s 144us/step - loss: 0.4049 - acc: 0.8317\n",
      "Epoch 10/150\n",
      "7000/7000 [==============================] - 1s 143us/step - loss: 0.4041 - acc: 0.8317\n",
      "Epoch 11/150\n",
      "7000/7000 [==============================] - 1s 144us/step - loss: 0.4036 - acc: 0.8324\n",
      "Epoch 12/150\n",
      "7000/7000 [==============================] - 1s 144us/step - loss: 0.4030 - acc: 0.8316\n",
      "Epoch 13/150\n",
      "7000/7000 [==============================] - 1s 157us/step - loss: 0.4024 - acc: 0.8321\n",
      "Epoch 14/150\n",
      "7000/7000 [==============================] - 1s 149us/step - loss: 0.4020 - acc: 0.8327\n",
      "Epoch 15/150\n",
      "7000/7000 [==============================] - 1s 143us/step - loss: 0.4017 - acc: 0.8329\n",
      "Epoch 16/150\n",
      "7000/7000 [==============================] - 1s 144us/step - loss: 0.4011 - acc: 0.8317\n",
      "Epoch 17/150\n",
      "7000/7000 [==============================] - 1s 144us/step - loss: 0.4005 - acc: 0.8326\n",
      "Epoch 18/150\n",
      "7000/7000 [==============================] - 1s 144us/step - loss: 0.4008 - acc: 0.8320\n",
      "Epoch 19/150\n",
      "7000/7000 [==============================] - 1s 141us/step - loss: 0.4004 - acc: 0.8347\n",
      "Epoch 20/150\n",
      "7000/7000 [==============================] - 1s 142us/step - loss: 0.3998 - acc: 0.8326\n",
      "Epoch 21/150\n",
      "7000/7000 [==============================] - 1s 142us/step - loss: 0.3995 - acc: 0.8326\n",
      "Epoch 22/150\n",
      "7000/7000 [==============================] - 1s 141us/step - loss: 0.3995 - acc: 0.8327\n",
      "Epoch 23/150\n",
      "7000/7000 [==============================] - 1s 141us/step - loss: 0.3986 - acc: 0.8327\n",
      "Epoch 24/150\n",
      "7000/7000 [==============================] - 1s 141us/step - loss: 0.3984 - acc: 0.8337\n",
      "Epoch 25/150\n",
      "7000/7000 [==============================] - 1s 142us/step - loss: 0.3988 - acc: 0.8359\n",
      "Epoch 26/150\n",
      "7000/7000 [==============================] - 1s 143us/step - loss: 0.3976 - acc: 0.8331\n",
      "Epoch 27/150\n",
      "7000/7000 [==============================] - 1s 142us/step - loss: 0.3977 - acc: 0.8331\n",
      "Epoch 28/150\n",
      "7000/7000 [==============================] - 1s 142us/step - loss: 0.3977 - acc: 0.8354\n",
      "Epoch 29/150\n",
      "7000/7000 [==============================] - 1s 157us/step - loss: 0.3969 - acc: 0.8350\n",
      "Epoch 30/150\n",
      "7000/7000 [==============================] - 1s 147us/step - loss: 0.3973 - acc: 0.8344\n",
      "Epoch 31/150\n",
      "7000/7000 [==============================] - 1s 141us/step - loss: 0.3962 - acc: 0.8356\n",
      "Epoch 32/150\n",
      "7000/7000 [==============================] - 1s 140us/step - loss: 0.3969 - acc: 0.8334\n",
      "Epoch 33/150\n",
      "7000/7000 [==============================] - 1s 138us/step - loss: 0.3965 - acc: 0.8349\n",
      "Epoch 34/150\n",
      "7000/7000 [==============================] - 1s 140us/step - loss: 0.3962 - acc: 0.8354\n",
      "Epoch 35/150\n",
      "7000/7000 [==============================] - 1s 140us/step - loss: 0.3956 - acc: 0.8361\n",
      "Epoch 36/150\n",
      "7000/7000 [==============================] - 1s 140us/step - loss: 0.3955 - acc: 0.8344\n",
      "Epoch 37/150\n",
      "7000/7000 [==============================] - 1s 140us/step - loss: 0.3955 - acc: 0.8357\n",
      "Epoch 38/150\n",
      "7000/7000 [==============================] - 1s 139us/step - loss: 0.3955 - acc: 0.8356\n",
      "Epoch 39/150\n",
      "7000/7000 [==============================] - 1s 139us/step - loss: 0.3948 - acc: 0.8350\n",
      "Epoch 40/150\n",
      "7000/7000 [==============================] - 1s 140us/step - loss: 0.3950 - acc: 0.8360\n",
      "Epoch 41/150\n",
      "7000/7000 [==============================] - 1s 139us/step - loss: 0.3946 - acc: 0.8360\n",
      "Epoch 42/150\n",
      "7000/7000 [==============================] - 1s 140us/step - loss: 0.3945 - acc: 0.8377\n",
      "Epoch 43/150\n",
      "7000/7000 [==============================] - 1s 140us/step - loss: 0.3936 - acc: 0.8359\n",
      "Epoch 44/150\n",
      "7000/7000 [==============================] - 1s 137us/step - loss: 0.3943 - acc: 0.8363\n",
      "Epoch 45/150\n",
      "7000/7000 [==============================] - 1s 149us/step - loss: 0.3928 - acc: 0.8360\n",
      "Epoch 46/150\n",
      "7000/7000 [==============================] - 1s 148us/step - loss: 0.3932 - acc: 0.8379\n",
      "Epoch 47/150\n",
      "7000/7000 [==============================] - 1s 141us/step - loss: 0.3925 - acc: 0.8367\n",
      "Epoch 48/150\n",
      "7000/7000 [==============================] - 1s 142us/step - loss: 0.3912 - acc: 0.8380\n",
      "Epoch 49/150\n",
      "7000/7000 [==============================] - 1s 142us/step - loss: 0.3894 - acc: 0.8380\n",
      "Epoch 50/150\n",
      "7000/7000 [==============================] - 1s 136us/step - loss: 0.3873 - acc: 0.8393\n",
      "Epoch 51/150\n",
      "7000/7000 [==============================] - 1s 140us/step - loss: 0.3835 - acc: 0.8429\n",
      "Epoch 52/150\n",
      "7000/7000 [==============================] - 1s 137us/step - loss: 0.3781 - acc: 0.8474\n",
      "Epoch 53/150\n",
      "7000/7000 [==============================] - 1s 138us/step - loss: 0.3713 - acc: 0.8483\n",
      "Epoch 54/150\n",
      "7000/7000 [==============================] - 1s 138us/step - loss: 0.3627 - acc: 0.8524\n",
      "Epoch 55/150\n",
      "7000/7000 [==============================] - 1s 136us/step - loss: 0.3555 - acc: 0.8543\n",
      "Epoch 56/150\n",
      "7000/7000 [==============================] - 1s 138us/step - loss: 0.3510 - acc: 0.8579\n",
      "Epoch 57/150\n",
      "7000/7000 [==============================] - 1s 134us/step - loss: 0.3490 - acc: 0.8577\n",
      "Epoch 58/150\n",
      "7000/7000 [==============================] - 1s 137us/step - loss: 0.3476 - acc: 0.8576\n",
      "Epoch 59/150\n",
      "7000/7000 [==============================] - 1s 138us/step - loss: 0.3464 - acc: 0.8553\n",
      "Epoch 60/150\n",
      "7000/7000 [==============================] - 1s 137us/step - loss: 0.3467 - acc: 0.8571\n",
      "Epoch 61/150\n",
      "7000/7000 [==============================] - 1s 142us/step - loss: 0.3459 - acc: 0.8586\n",
      "Epoch 62/150\n",
      "7000/7000 [==============================] - 1s 152us/step - loss: 0.3460 - acc: 0.8577\n",
      "Epoch 63/150\n",
      "7000/7000 [==============================] - 1s 128us/step - loss: 0.3451 - acc: 0.8599\n",
      "Epoch 64/150\n",
      "7000/7000 [==============================] - 1s 126us/step - loss: 0.3453 - acc: 0.8589\n",
      "Epoch 65/150\n",
      "7000/7000 [==============================] - 1s 139us/step - loss: 0.3440 - acc: 0.8596\n",
      "Epoch 66/150\n",
      "7000/7000 [==============================] - 1s 135us/step - loss: 0.3441 - acc: 0.8606\n",
      "Epoch 67/150\n",
      "7000/7000 [==============================] - 1s 137us/step - loss: 0.3437 - acc: 0.8600\n",
      "Epoch 68/150\n",
      "7000/7000 [==============================] - 1s 132us/step - loss: 0.3437 - acc: 0.8599\n",
      "Epoch 69/150\n",
      "7000/7000 [==============================] - 1s 136us/step - loss: 0.3432 - acc: 0.8583\n",
      "Epoch 70/150\n",
      "7000/7000 [==============================] - 1s 135us/step - loss: 0.3429 - acc: 0.8576\n",
      "Epoch 71/150\n",
      "7000/7000 [==============================] - 1s 135us/step - loss: 0.3423 - acc: 0.8574\n",
      "Epoch 72/150\n",
      "7000/7000 [==============================] - 1s 137us/step - loss: 0.3419 - acc: 0.8583\n",
      "Epoch 73/150\n",
      "7000/7000 [==============================] - 1s 136us/step - loss: 0.3422 - acc: 0.8596\n",
      "Epoch 74/150\n",
      "7000/7000 [==============================] - 1s 136us/step - loss: 0.3423 - acc: 0.8573\n",
      "Epoch 75/150\n",
      "7000/7000 [==============================] - 1s 136us/step - loss: 0.3418 - acc: 0.8576\n",
      "Epoch 76/150\n",
      "7000/7000 [==============================] - 1s 138us/step - loss: 0.3412 - acc: 0.8594\n",
      "Epoch 77/150\n",
      "7000/7000 [==============================] - 1s 134us/step - loss: 0.3406 - acc: 0.8597\n",
      "Epoch 78/150\n",
      "7000/7000 [==============================] - 1s 144us/step - loss: 0.3412 - acc: 0.8586\n",
      "Epoch 79/150\n",
      "7000/7000 [==============================] - 1s 144us/step - loss: 0.3405 - acc: 0.8599\n",
      "Epoch 80/150\n",
      "7000/7000 [==============================] - 1s 135us/step - loss: 0.3407 - acc: 0.8579\n",
      "Epoch 81/150\n",
      "7000/7000 [==============================] - 1s 135us/step - loss: 0.3403 - acc: 0.8601\n",
      "Epoch 82/150\n"
     ]
    },
    {
     "name": "stdout",
     "output_type": "stream",
     "text": [
      "7000/7000 [==============================] - 1s 144us/step - loss: 0.3411 - acc: 0.8586\n",
      "Epoch 83/150\n",
      "7000/7000 [==============================] - 1s 144us/step - loss: 0.3401 - acc: 0.8586\n",
      "Epoch 84/150\n",
      "7000/7000 [==============================] - 1s 146us/step - loss: 0.3411 - acc: 0.8587\n",
      "Epoch 85/150\n",
      "7000/7000 [==============================] - 1s 145us/step - loss: 0.3402 - acc: 0.8619\n",
      "Epoch 86/150\n",
      "7000/7000 [==============================] - 1s 144us/step - loss: 0.3407 - acc: 0.8591\n",
      "Epoch 87/150\n",
      "7000/7000 [==============================] - 1s 143us/step - loss: 0.3403 - acc: 0.8613\n",
      "Epoch 88/150\n",
      "7000/7000 [==============================] - 1s 145us/step - loss: 0.3403 - acc: 0.8601\n",
      "Epoch 89/150\n",
      "7000/7000 [==============================] - 1s 142us/step - loss: 0.3405 - acc: 0.8603\n",
      "Epoch 90/150\n",
      "7000/7000 [==============================] - 1s 146us/step - loss: 0.3402 - acc: 0.8607\n",
      "Epoch 91/150\n",
      "7000/7000 [==============================] - 1s 147us/step - loss: 0.3399 - acc: 0.8591\n",
      "Epoch 92/150\n",
      "7000/7000 [==============================] - 1s 145us/step - loss: 0.3398 - acc: 0.8573\n",
      "Epoch 93/150\n",
      "7000/7000 [==============================] - 1s 145us/step - loss: 0.3402 - acc: 0.8577\n",
      "Epoch 94/150\n",
      "7000/7000 [==============================] - 1s 154us/step - loss: 0.3391 - acc: 0.8609\n",
      "Epoch 95/150\n",
      "7000/7000 [==============================] - 1s 154us/step - loss: 0.3397 - acc: 0.8586\n",
      "Epoch 96/150\n",
      "7000/7000 [==============================] - 1s 144us/step - loss: 0.3398 - acc: 0.8601\n",
      "Epoch 97/150\n",
      "7000/7000 [==============================] - 1s 146us/step - loss: 0.3406 - acc: 0.8599\n",
      "Epoch 98/150\n",
      "7000/7000 [==============================] - ETA: 0s - loss: 0.3379 - acc: 0.862 - 1s 144us/step - loss: 0.3388 - acc: 0.8630\n",
      "Epoch 99/150\n",
      "7000/7000 [==============================] - 1s 143us/step - loss: 0.3404 - acc: 0.8611\n",
      "Epoch 100/150\n",
      "7000/7000 [==============================] - 1s 145us/step - loss: 0.3401 - acc: 0.8610\n",
      "Epoch 101/150\n",
      "7000/7000 [==============================] - 1s 143us/step - loss: 0.3396 - acc: 0.8604\n",
      "Epoch 102/150\n",
      "7000/7000 [==============================] - 1s 148us/step - loss: 0.3396 - acc: 0.8570\n",
      "Epoch 103/150\n",
      "7000/7000 [==============================] - 1s 140us/step - loss: 0.3398 - acc: 0.8609\n",
      "Epoch 104/150\n",
      "7000/7000 [==============================] - 1s 139us/step - loss: 0.3399 - acc: 0.8603\n",
      "Epoch 105/150\n",
      "7000/7000 [==============================] - 1s 136us/step - loss: 0.3396 - acc: 0.8594\n",
      "Epoch 106/150\n",
      "7000/7000 [==============================] - 1s 135us/step - loss: 0.3397 - acc: 0.8603\n",
      "Epoch 107/150\n",
      "7000/7000 [==============================] - 1s 138us/step - loss: 0.3394 - acc: 0.8619\n",
      "Epoch 108/150\n",
      "7000/7000 [==============================] - 1s 135us/step - loss: 0.3401 - acc: 0.8583\n",
      "Epoch 109/150\n",
      "7000/7000 [==============================] - 1s 136us/step - loss: 0.3398 - acc: 0.8603\n",
      "Epoch 110/150\n",
      "7000/7000 [==============================] - 1s 148us/step - loss: 0.3401 - acc: 0.8591\n",
      "Epoch 111/150\n",
      "7000/7000 [==============================] - 1s 152us/step - loss: 0.3393 - acc: 0.8604\n",
      "Epoch 112/150\n",
      "7000/7000 [==============================] - 1s 142us/step - loss: 0.3396 - acc: 0.8613\n",
      "Epoch 113/150\n",
      "7000/7000 [==============================] - 1s 141us/step - loss: 0.3401 - acc: 0.8596\n",
      "Epoch 114/150\n",
      "7000/7000 [==============================] - 1s 139us/step - loss: 0.3393 - acc: 0.8611\n",
      "Epoch 115/150\n",
      "7000/7000 [==============================] - 1s 141us/step - loss: 0.3392 - acc: 0.8606\n",
      "Epoch 116/150\n",
      "7000/7000 [==============================] - 1s 140us/step - loss: 0.3397 - acc: 0.8603\n",
      "Epoch 117/150\n",
      "7000/7000 [==============================] - 1s 139us/step - loss: 0.3397 - acc: 0.8607\n",
      "Epoch 118/150\n",
      "7000/7000 [==============================] - 1s 137us/step - loss: 0.3394 - acc: 0.8601\n",
      "Epoch 119/150\n",
      "7000/7000 [==============================] - 1s 132us/step - loss: 0.3393 - acc: 0.8627\n",
      "Epoch 120/150\n",
      "7000/7000 [==============================] - 1s 134us/step - loss: 0.3393 - acc: 0.8617\n",
      "Epoch 121/150\n",
      "7000/7000 [==============================] - 1s 142us/step - loss: 0.3394 - acc: 0.8609\n",
      "Epoch 122/150\n",
      "7000/7000 [==============================] - 1s 145us/step - loss: 0.3395 - acc: 0.8611\n",
      "Epoch 123/150\n",
      "7000/7000 [==============================] - 1s 145us/step - loss: 0.3401 - acc: 0.8614\n",
      "Epoch 124/150\n",
      "7000/7000 [==============================] - 1s 144us/step - loss: 0.3395 - acc: 0.8613\n",
      "Epoch 125/150\n",
      "7000/7000 [==============================] - 1s 141us/step - loss: 0.3392 - acc: 0.8623\n",
      "Epoch 126/150\n",
      "7000/7000 [==============================] - 1s 147us/step - loss: 0.3393 - acc: 0.8616\n",
      "Epoch 127/150\n",
      "7000/7000 [==============================] - 1s 144us/step - loss: 0.3394 - acc: 0.8616\n",
      "Epoch 128/150\n",
      "7000/7000 [==============================] - 1s 129us/step - loss: 0.3397 - acc: 0.8603\n",
      "Epoch 129/150\n",
      "7000/7000 [==============================] - 1s 131us/step - loss: 0.3392 - acc: 0.8591\n",
      "Epoch 130/150\n",
      "7000/7000 [==============================] - 1s 137us/step - loss: 0.3394 - acc: 0.8599\n",
      "Epoch 131/150\n",
      "7000/7000 [==============================] - 1s 139us/step - loss: 0.3394 - acc: 0.8600\n",
      "Epoch 132/150\n",
      "7000/7000 [==============================] - 1s 136us/step - loss: 0.3395 - acc: 0.8619\n",
      "Epoch 133/150\n",
      "7000/7000 [==============================] - 1s 139us/step - loss: 0.3389 - acc: 0.8610\n",
      "Epoch 134/150\n",
      "7000/7000 [==============================] - 1s 135us/step - loss: 0.3396 - acc: 0.8621\n",
      "Epoch 135/150\n",
      "7000/7000 [==============================] - 1s 137us/step - loss: 0.3395 - acc: 0.8596\n",
      "Epoch 136/150\n",
      "7000/7000 [==============================] - 1s 132us/step - loss: 0.3394 - acc: 0.8609\n",
      "Epoch 137/150\n",
      "7000/7000 [==============================] - 1s 137us/step - loss: 0.3393 - acc: 0.8611\n",
      "Epoch 138/150\n",
      "7000/7000 [==============================] - 1s 133us/step - loss: 0.3393 - acc: 0.8606\n",
      "Epoch 139/150\n",
      "7000/7000 [==============================] - 1s 137us/step - loss: 0.3393 - acc: 0.8603\n",
      "Epoch 140/150\n",
      "7000/7000 [==============================] - 1s 135us/step - loss: 0.3395 - acc: 0.8610\n",
      "Epoch 141/150\n",
      "7000/7000 [==============================] - 1s 144us/step - loss: 0.3390 - acc: 0.8584\n",
      "Epoch 142/150\n",
      "7000/7000 [==============================] - 1s 144us/step - loss: 0.3397 - acc: 0.8594\n",
      "Epoch 143/150\n",
      "7000/7000 [==============================] - 1s 167us/step - loss: 0.3394 - acc: 0.8603\n",
      "Epoch 144/150\n",
      "7000/7000 [==============================] - 1s 152us/step - loss: 0.3385 - acc: 0.8606\n",
      "Epoch 145/150\n",
      "7000/7000 [==============================] - 1s 135us/step - loss: 0.3385 - acc: 0.8609\n",
      "Epoch 146/150\n",
      "7000/7000 [==============================] - 1s 137us/step - loss: 0.3390 - acc: 0.8606\n",
      "Epoch 147/150\n",
      "7000/7000 [==============================] - 1s 138us/step - loss: 0.3393 - acc: 0.8594\n",
      "Epoch 148/150\n",
      "7000/7000 [==============================] - 1s 136us/step - loss: 0.3390 - acc: 0.8599\n",
      "Epoch 149/150\n",
      "7000/7000 [==============================] - 1s 140us/step - loss: 0.3390 - acc: 0.8611\n",
      "Epoch 150/150\n",
      "7000/7000 [==============================] - 1s 136us/step - loss: 0.3392 - acc: 0.8584\n"
     ]
    },
    {
     "data": {
      "text/plain": [
       "<keras.callbacks.History at 0x1eb20e02860>"
      ]
     },
     "execution_count": 140,
     "metadata": {},
     "output_type": "execute_result"
    }
   ],
   "source": [
    "# Initialising the ANN\n",
    "classifier3 = Sequential()\n",
    "\n",
    "# Adding the input layer and the first hidden layer\n",
    "classifier3.add(Dense(output_dim = 6, init = 'uniform', activation = 'relu', input_dim = 11))\n",
    "\n",
    "# Adding the second hidden layer\n",
    "classifier3.add(Dense(output_dim = 6, init = 'uniform', activation = 'relu'))\n",
    "\n",
    "# Adding the output layer\n",
    "classifier3.add(Dense(output_dim = 1, init = 'uniform', activation = 'sigmoid'))\n",
    "\n",
    "# Compiling the ANN\n",
    "classifier3.compile(optimizer = 'Adadelta', loss = 'binary_crossentropy', metrics = ['accuracy'])\n",
    "\n",
    "# Fitting the ANN to the Training set\n",
    "classifier3.fit(X_train_scaled, y_train, batch_size = 10, nb_epoch = 150)\n"
   ]
  },
  {
   "cell_type": "markdown",
   "metadata": {},
   "source": [
    "## Even after changing the optimizer to Adadelta we were able to achieve a similar accuracy score of 86% hence  we will now proceed to test the predictions"
   ]
  },
  {
   "cell_type": "markdown",
   "metadata": {},
   "source": [
    "## Step 7--> Predict the results using 0.5 as a threshold"
   ]
  },
  {
   "cell_type": "code",
   "execution_count": 141,
   "metadata": {},
   "outputs": [],
   "source": [
    "# Part 3 - Making the predictions and evaluating the model\n",
    "\n",
    "# Predicting the Test set results\n",
    "y_pred = classifier3.predict(X_test_scaled)\n",
    "y_pred = (y_pred > 0.5)\n"
   ]
  },
  {
   "cell_type": "code",
   "execution_count": 142,
   "metadata": {},
   "outputs": [
    {
     "data": {
      "text/plain": [
       "array([[False],\n",
       "       [False],\n",
       "       [False],\n",
       "       ...,\n",
       "       [False],\n",
       "       [False],\n",
       "       [False]])"
      ]
     },
     "execution_count": 142,
     "metadata": {},
     "output_type": "execute_result"
    }
   ],
   "source": [
    "y_pred"
   ]
  },
  {
   "cell_type": "markdown",
   "metadata": {},
   "source": [
    "## Step 8-->Print the Accuracy score and confusion matrix"
   ]
  },
  {
   "cell_type": "code",
   "execution_count": 143,
   "metadata": {},
   "outputs": [],
   "source": [
    "# Making the Confusion Matrix\n",
    "from sklearn.metrics import confusion_matrix,accuracy_score\n",
    "cm = confusion_matrix(y_test, y_pred)"
   ]
  },
  {
   "cell_type": "code",
   "execution_count": 144,
   "metadata": {
    "scrolled": true
   },
   "outputs": [
    {
     "data": {
      "text/plain": [
       "array([[2327,   89],\n",
       "       [ 312,  272]], dtype=int64)"
      ]
     },
     "execution_count": 144,
     "metadata": {},
     "output_type": "execute_result"
    }
   ],
   "source": [
    "cm"
   ]
  },
  {
   "cell_type": "markdown",
   "metadata": {},
   "source": [
    "## Confusion Matrix Using Adadelta Optimizer"
   ]
  },
  {
   "cell_type": "code",
   "execution_count": 148,
   "metadata": {},
   "outputs": [
    {
     "data": {
      "text/plain": [
       "array([[2315,  101],\n",
       "       [ 302,  282]], dtype=int64)"
      ]
     },
     "execution_count": 148,
     "metadata": {},
     "output_type": "execute_result"
    }
   ],
   "source": [
    "cm_1"
   ]
  },
  {
   "cell_type": "markdown",
   "metadata": {},
   "source": [
    "##  Confusion Matrix using Adam Optimizer"
   ]
  },
  {
   "cell_type": "code",
   "execution_count": 150,
   "metadata": {
    "scrolled": true
   },
   "outputs": [
    {
     "data": {
      "text/plain": [
       "array([[2323,   93],\n",
       "       [ 307,  277]], dtype=int64)"
      ]
     },
     "execution_count": 150,
     "metadata": {},
     "output_type": "execute_result"
    }
   ],
   "source": [
    "cm_2"
   ]
  },
  {
   "cell_type": "markdown",
   "metadata": {},
   "source": [
    "## Confusion Matrix Using Stochastic Gradient Optimizer"
   ]
  },
  {
   "cell_type": "code",
   "execution_count": 145,
   "metadata": {},
   "outputs": [
    {
     "data": {
      "text/plain": [
       "85.25"
      ]
     },
     "execution_count": 145,
     "metadata": {},
     "output_type": "execute_result"
    }
   ],
   "source": [
    "(1470+235)/2000*100"
   ]
  },
  {
   "cell_type": "code",
   "execution_count": 146,
   "metadata": {},
   "outputs": [
    {
     "data": {
      "text/plain": [
       "0.8663333333333333"
      ]
     },
     "execution_count": 146,
     "metadata": {},
     "output_type": "execute_result"
    }
   ],
   "source": [
    "accuracy_score(y_test,y_pred)"
   ]
  },
  {
   "cell_type": "markdown",
   "metadata": {},
   "source": [
    "# We have the following accuracy scores\n",
    "## 1) 86.55% using Adam Optimizer\n",
    "## 2) 86.67% Using Stochastic Gradient Optimizer\n",
    "## 3) 86.33% using Adadelta Optimizer"
   ]
  },
  {
   "cell_type": "markdown",
   "metadata": {},
   "source": [
    "# Overall we get the best results using Stochastic Gradient Optimizer for this example"
   ]
  },
  {
   "cell_type": "code",
   "execution_count": null,
   "metadata": {},
   "outputs": [],
   "source": []
  }
 ],
 "metadata": {
  "kernelspec": {
   "display_name": "Python 3",
   "language": "python",
   "name": "python3"
  },
  "language_info": {
   "codemirror_mode": {
    "name": "ipython",
    "version": 3
   },
   "file_extension": ".py",
   "mimetype": "text/x-python",
   "name": "python",
   "nbconvert_exporter": "python",
   "pygments_lexer": "ipython3",
   "version": "3.6.5"
  }
 },
 "nbformat": 4,
 "nbformat_minor": 2
}
