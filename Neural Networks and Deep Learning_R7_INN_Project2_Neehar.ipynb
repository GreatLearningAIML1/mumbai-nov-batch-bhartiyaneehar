{
 "cells": [
  {
   "cell_type": "markdown",
   "metadata": {},
   "source": [
    "## Importing Libraries"
   ]
  },
  {
   "cell_type": "code",
   "execution_count": 1,
   "metadata": {},
   "outputs": [
    {
     "name": "stderr",
     "output_type": "stream",
     "text": [
      "C:\\Users\\neeha\\Anaconda3\\lib\\site-packages\\h5py\\__init__.py:36: FutureWarning: Conversion of the second argument of issubdtype from `float` to `np.floating` is deprecated. In future, it will be treated as `np.float64 == np.dtype(float).type`.\n",
      "  from ._conv import register_converters as _register_converters\n"
     ]
    }
   ],
   "source": [
    "import pandas as pd\n",
    "import h5py as hp\n",
    "import numpy as np"
   ]
  },
  {
   "cell_type": "markdown",
   "metadata": {},
   "source": [
    "## Importing the h5 file and obtaning the Dataframes using keys "
   ]
  },
  {
   "cell_type": "code",
   "execution_count": 2,
   "metadata": {},
   "outputs": [],
   "source": [
    "file=hp.File('SVHN_single_grey1.h5',mode='r')"
   ]
  },
  {
   "cell_type": "code",
   "execution_count": 3,
   "metadata": {},
   "outputs": [
    {
     "data": {
      "text/plain": [
       "['X_test', 'X_train', 'X_val', 'y_test', 'y_train', 'y_val']"
      ]
     },
     "execution_count": 3,
     "metadata": {},
     "output_type": "execute_result"
    }
   ],
   "source": [
    "list(file.keys())\n"
   ]
  },
  {
   "cell_type": "markdown",
   "metadata": {},
   "source": [
    "## Splitting the Data into Train, Validation and Test"
   ]
  },
  {
   "cell_type": "code",
   "execution_count": 4,
   "metadata": {},
   "outputs": [],
   "source": [
    "X_test = file['X_test']\n",
    "X_train = file['X_train']\n",
    "X_val = file['X_val']\n",
    "y_test = file['y_test']\n",
    "y_train = file['y_train']\n",
    "y_val = file['y_val']"
   ]
  },
  {
   "cell_type": "markdown",
   "metadata": {},
   "source": [
    "## As the Data is as HDF5 Dataset converting it into a numpy array for Future Use"
   ]
  },
  {
   "cell_type": "code",
   "execution_count": 5,
   "metadata": {
    "scrolled": true
   },
   "outputs": [
    {
     "data": {
      "text/plain": [
       "<HDF5 dataset \"X_test\": shape (18000, 32, 32), type \"<f4\">"
      ]
     },
     "execution_count": 5,
     "metadata": {},
     "output_type": "execute_result"
    }
   ],
   "source": [
    "X_test"
   ]
  },
  {
   "cell_type": "code",
   "execution_count": 6,
   "metadata": {},
   "outputs": [],
   "source": [
    "X_test_new=np.array(X_test).astype(np.float32)"
   ]
  },
  {
   "cell_type": "code",
   "execution_count": 7,
   "metadata": {},
   "outputs": [
    {
     "data": {
      "text/plain": [
       "(18000, 32, 32)"
      ]
     },
     "execution_count": 7,
     "metadata": {},
     "output_type": "execute_result"
    }
   ],
   "source": [
    "X_test_new.shape"
   ]
  },
  {
   "cell_type": "code",
   "execution_count": 8,
   "metadata": {},
   "outputs": [],
   "source": [
    "X_train_new=np.array(X_train).astype(np.float32)\n",
    "X_val_new=np.array(X_val).astype(np.float32)\n",
    "y_test_new=np.array(y_test).astype(np.float32)\n",
    "y_train_new=np.array(y_train).astype(np.float32)\n",
    "y_val_new=np.array(y_val).astype(np.float32)\n"
   ]
  },
  {
   "cell_type": "code",
   "execution_count": 9,
   "metadata": {},
   "outputs": [
    {
     "data": {
      "text/plain": [
       "(42000, 32, 32)"
      ]
     },
     "execution_count": 9,
     "metadata": {},
     "output_type": "execute_result"
    }
   ],
   "source": [
    "X_train_new.shape"
   ]
  },
  {
   "cell_type": "code",
   "execution_count": 10,
   "metadata": {
    "scrolled": true
   },
   "outputs": [
    {
     "data": {
      "text/plain": [
       "(42000,)"
      ]
     },
     "execution_count": 10,
     "metadata": {},
     "output_type": "execute_result"
    }
   ],
   "source": [
    "y_train_new.shape"
   ]
  },
  {
   "cell_type": "markdown",
   "metadata": {},
   "source": [
    "## Checking of all the Data has data distributon for all classes"
   ]
  },
  {
   "cell_type": "code",
   "execution_count": 11,
   "metadata": {},
   "outputs": [
    {
     "data": {
      "text/plain": [
       "6.0    1832\n",
       "1.0    1828\n",
       "0.0    1814\n",
       "4.0    1812\n",
       "8.0    1812\n",
       "7.0    1808\n",
       "9.0    1804\n",
       "2.0    1803\n",
       "5.0    1768\n",
       "3.0    1719\n",
       "dtype: int64"
      ]
     },
     "execution_count": 11,
     "metadata": {},
     "output_type": "execute_result"
    }
   ],
   "source": [
    "pd.Series(y_test_new).value_counts()"
   ]
  },
  {
   "cell_type": "code",
   "execution_count": 12,
   "metadata": {},
   "outputs": [
    {
     "data": {
      "text/plain": [
       "3.0    4281\n",
       "5.0    4232\n",
       "2.0    4197\n",
       "9.0    4196\n",
       "7.0    4192\n",
       "8.0    4188\n",
       "4.0    4188\n",
       "0.0    4186\n",
       "1.0    4172\n",
       "6.0    4168\n",
       "dtype: int64"
      ]
     },
     "execution_count": 12,
     "metadata": {},
     "output_type": "execute_result"
    }
   ],
   "source": [
    "pd.Series(y_train_new).value_counts()"
   ]
  },
  {
   "cell_type": "code",
   "execution_count": 13,
   "metadata": {
    "scrolled": true
   },
   "outputs": [
    {
     "data": {
      "text/plain": [
       "7.0    6000\n",
       "6.0    6000\n",
       "3.0    6000\n",
       "5.0    6000\n",
       "9.0    6000\n",
       "8.0    6000\n",
       "4.0    6000\n",
       "2.0    6000\n",
       "1.0    6000\n",
       "0.0    6000\n",
       "dtype: int64"
      ]
     },
     "execution_count": 13,
     "metadata": {},
     "output_type": "execute_result"
    }
   ],
   "source": [
    "pd.Series(y_val_new).value_counts()"
   ]
  },
  {
   "cell_type": "markdown",
   "metadata": {},
   "source": [
    "## Converting all the available classes to Categorical"
   ]
  },
  {
   "cell_type": "code",
   "execution_count": 14,
   "metadata": {},
   "outputs": [
    {
     "name": "stderr",
     "output_type": "stream",
     "text": [
      "Using TensorFlow backend.\n"
     ]
    }
   ],
   "source": [
    "from keras.utils import np_utils"
   ]
  },
  {
   "cell_type": "code",
   "execution_count": 15,
   "metadata": {},
   "outputs": [],
   "source": [
    "y_train = np_utils.to_categorical(y_train_new, 10)\n",
    "y_test = np_utils.to_categorical(y_test_new, 10)\n",
    "y_val = np_utils.to_categorical(y_val_new, 10)"
   ]
  },
  {
   "cell_type": "code",
   "execution_count": 16,
   "metadata": {},
   "outputs": [
    {
     "data": {
      "text/plain": [
       "(42000, 10)"
      ]
     },
     "execution_count": 16,
     "metadata": {},
     "output_type": "execute_result"
    }
   ],
   "source": [
    "y_train.shape"
   ]
  },
  {
   "cell_type": "code",
   "execution_count": 17,
   "metadata": {},
   "outputs": [
    {
     "data": {
      "text/plain": [
       "(18000, 10)"
      ]
     },
     "execution_count": 17,
     "metadata": {},
     "output_type": "execute_result"
    }
   ],
   "source": [
    "y_test.shape"
   ]
  },
  {
   "cell_type": "code",
   "execution_count": 18,
   "metadata": {
    "scrolled": true
   },
   "outputs": [
    {
     "data": {
      "text/plain": [
       "(60000, 10)"
      ]
     },
     "execution_count": 18,
     "metadata": {},
     "output_type": "execute_result"
    }
   ],
   "source": [
    "y_val.shape"
   ]
  },
  {
   "cell_type": "code",
   "execution_count": 19,
   "metadata": {},
   "outputs": [
    {
     "data": {
      "text/plain": [
       "(42000, 32, 32)"
      ]
     },
     "execution_count": 19,
     "metadata": {},
     "output_type": "execute_result"
    }
   ],
   "source": [
    "X_train_new.shape"
   ]
  },
  {
   "cell_type": "code",
   "execution_count": 20,
   "metadata": {},
   "outputs": [
    {
     "data": {
      "text/plain": [
       "(60000, 32, 32)"
      ]
     },
     "execution_count": 20,
     "metadata": {},
     "output_type": "execute_result"
    }
   ],
   "source": [
    "X_val_new.shape"
   ]
  },
  {
   "cell_type": "code",
   "execution_count": 26,
   "metadata": {},
   "outputs": [
    {
     "data": {
      "text/plain": [
       "(18000, 32, 32)"
      ]
     },
     "execution_count": 26,
     "metadata": {},
     "output_type": "execute_result"
    }
   ],
   "source": [
    "X_test_new.shape"
   ]
  },
  {
   "cell_type": "markdown",
   "metadata": {},
   "source": [
    "## Changing the Shape of the Features so can pass a 2 Dimentional vector for KNN"
   ]
  },
  {
   "cell_type": "code",
   "execution_count": 27,
   "metadata": {},
   "outputs": [],
   "source": [
    "X_train = X_train_new.reshape(42000, 1024)    # 1024 = 32 X 32 the size of each image. There are 42000 images for training\n",
    "X_test = X_test_new.reshape(18000, 1024)      # Images are flattended out into a vector of 1024 elements\n",
    "X_val = X_val_new.reshape(60000, 1024)\n",
    "X_train = X_train.astype('float32')      # Change the data type to float from integer (0 - 255)\n",
    "X_test = X_test.astype('float32')\n",
    "X_val = X_val.astype('float32')\n"
   ]
  },
  {
   "cell_type": "code",
   "execution_count": 28,
   "metadata": {},
   "outputs": [],
   "source": [
    "X_train /= 255 #Done for normalization of data, # Scale the data between 0 and 1\n",
    "X_val /= 255\n",
    "X_test /= 255\n"
   ]
  },
  {
   "cell_type": "code",
   "execution_count": 29,
   "metadata": {
    "scrolled": false
   },
   "outputs": [
    {
     "data": {
      "text/plain": [
       "(42000, 1024)"
      ]
     },
     "execution_count": 29,
     "metadata": {},
     "output_type": "execute_result"
    }
   ],
   "source": [
    "X_train.shape"
   ]
  },
  {
   "cell_type": "markdown",
   "metadata": {},
   "source": [
    "## Applying K Nearest Neighbours Model"
   ]
  },
  {
   "cell_type": "code",
   "execution_count": 126,
   "metadata": {},
   "outputs": [
    {
     "data": {
      "text/plain": [
       "KNeighborsClassifier(algorithm='auto', leaf_size=30, metric='euclidean',\n",
       "           metric_params=None, n_jobs=None, n_neighbors=2, p=2,\n",
       "           weights='uniform')"
      ]
     },
     "execution_count": 126,
     "metadata": {},
     "output_type": "execute_result"
    }
   ],
   "source": [
    "from sklearn.neighbors import KNeighborsClassifier\n",
    "\n",
    "NNH = KNeighborsClassifier(n_neighbors = 2, weights = 'uniform', \n",
    "                          metric = 'euclidean')\n",
    "NNH"
   ]
  },
  {
   "cell_type": "code",
   "execution_count": 127,
   "metadata": {
    "scrolled": true
   },
   "outputs": [
    {
     "data": {
      "text/plain": [
       "KNeighborsClassifier(algorithm='auto', leaf_size=30, metric='euclidean',\n",
       "           metric_params=None, n_jobs=None, n_neighbors=2, p=2,\n",
       "           weights='uniform')"
      ]
     },
     "execution_count": 127,
     "metadata": {},
     "output_type": "execute_result"
    }
   ],
   "source": [
    "NNH.fit(X_train, y_train)"
   ]
  },
  {
   "cell_type": "markdown",
   "metadata": {},
   "source": [
    "## Due to the Size of the data and the Data being more than 1 dimentional Grid Search CV was not able to compute an output so I have kept the code as commented below"
   ]
  },
  {
   "cell_type": "code",
   "execution_count": 222,
   "metadata": {},
   "outputs": [],
   "source": [
    "from sklearn.model_selection import GridSearchCV\n"
   ]
  },
  {
   "cell_type": "markdown",
   "metadata": {},
   "source": [
    "from sklearn.model_selection import GridSearchCV\n",
    "\n",
    "k =np.arange(1,50,5)\n",
    "\n",
    "knn = KNeighborsClassifier(algorithm = 'kd_tree')\n",
    "\n",
    "parameters = {'n_neighbors' : k}\n",
    "\n",
    "GS = GridSearchCV(knn, parameters, scoring = 'roc_auc', cv=10)\n"
   ]
  },
  {
   "cell_type": "markdown",
   "metadata": {},
   "source": [
    "X_train = X_train_new.reshape(42000, 1024)"
   ]
  },
  {
   "cell_type": "markdown",
   "metadata": {},
   "source": [
    "GS.fit(X_train, y_train)"
   ]
  },
  {
   "cell_type": "markdown",
   "metadata": {},
   "source": [
    "GS.best_params_"
   ]
  },
  {
   "cell_type": "markdown",
   "metadata": {},
   "source": [
    "best_score_"
   ]
  },
  {
   "cell_type": "markdown",
   "metadata": {},
   "source": [
    "## Inorder to run the K Nearest Neighbours i had to reduce the size of the dataset to 5000 and compute the program"
   ]
  },
  {
   "cell_type": "code",
   "execution_count": 128,
   "metadata": {},
   "outputs": [],
   "source": [
    "X_val_test=X_val[:5000]\n",
    "y_val_test=y_val[:5000]"
   ]
  },
  {
   "cell_type": "code",
   "execution_count": 129,
   "metadata": {},
   "outputs": [
    {
     "data": {
      "text/plain": [
       "0.0    9\n",
       "1.0    1\n",
       "dtype: int64"
      ]
     },
     "execution_count": 129,
     "metadata": {},
     "output_type": "execute_result"
    }
   ],
   "source": [
    "pd.Series(y_val_test[1]).value_counts()"
   ]
  },
  {
   "cell_type": "code",
   "execution_count": 130,
   "metadata": {},
   "outputs": [
    {
     "data": {
      "text/plain": [
       "(5000, 10)"
      ]
     },
     "execution_count": 130,
     "metadata": {},
     "output_type": "execute_result"
    }
   ],
   "source": [
    "y_val_test.shape"
   ]
  },
  {
   "cell_type": "code",
   "execution_count": 131,
   "metadata": {},
   "outputs": [],
   "source": [
    "y_pred_val=NNH.predict(X_val_test)"
   ]
  },
  {
   "cell_type": "code",
   "execution_count": 132,
   "metadata": {},
   "outputs": [
    {
     "data": {
      "text/plain": [
       "0.4196"
      ]
     },
     "execution_count": 132,
     "metadata": {},
     "output_type": "execute_result"
    }
   ],
   "source": [
    "from sklearn.metrics import accuracy_score\n",
    "accuracy_score(y_val_test, y_pred_val)"
   ]
  },
  {
   "cell_type": "code",
   "execution_count": 133,
   "metadata": {
    "scrolled": false
   },
   "outputs": [
    {
     "name": "stdout",
     "output_type": "stream",
     "text": [
      "              precision    recall  f1-score   support\n",
      "\n",
      "           0       1.00      0.41      0.58      4000\n",
      "           1       0.99      0.47      0.64      1000\n",
      "           2       0.00      0.00      0.00         0\n",
      "           3       0.00      0.00      0.00         0\n",
      "           4       0.00      0.00      0.00         0\n",
      "           5       0.00      0.00      0.00         0\n",
      "           6       0.00      0.00      0.00         0\n",
      "           7       0.00      0.00      0.00         0\n",
      "           8       0.00      0.00      0.00         0\n",
      "           9       0.00      0.00      0.00         0\n",
      "\n",
      "   micro avg       0.95      0.42      0.58      5000\n",
      "   macro avg       0.20      0.09      0.12      5000\n",
      "weighted avg       1.00      0.42      0.59      5000\n",
      " samples avg       0.42      0.42      0.42      5000\n",
      "\n"
     ]
    },
    {
     "name": "stderr",
     "output_type": "stream",
     "text": [
      "C:\\Users\\neeha\\Anaconda3\\lib\\site-packages\\sklearn\\metrics\\classification.py:1145: UndefinedMetricWarning: Recall and F-score are ill-defined and being set to 0.0 in labels with no true samples.\n",
      "  'recall', 'true', average, warn_for)\n",
      "C:\\Users\\neeha\\Anaconda3\\lib\\site-packages\\sklearn\\metrics\\classification.py:1143: UndefinedMetricWarning: Precision and F-score are ill-defined and being set to 0.0 in samples with no predicted labels.\n",
      "  'precision', 'predicted', average, warn_for)\n"
     ]
    }
   ],
   "source": [
    "from sklearn.metrics import classification_report\n",
    "print(classification_report(y_val_test, y_pred_val))"
   ]
  },
  {
   "cell_type": "markdown",
   "metadata": {},
   "source": [
    "## Validation Test gives a 45% Accuracy"
   ]
  },
  {
   "cell_type": "code",
   "execution_count": 134,
   "metadata": {},
   "outputs": [],
   "source": [
    "X_test_test=X_test[:5000]\n",
    "y_test_test=y_test[:5000]\n",
    "y_pred_test=NNH.predict(X_test_test)"
   ]
  },
  {
   "cell_type": "code",
   "execution_count": 135,
   "metadata": {},
   "outputs": [
    {
     "data": {
      "text/plain": [
       "0.2526"
      ]
     },
     "execution_count": 135,
     "metadata": {},
     "output_type": "execute_result"
    }
   ],
   "source": [
    "from sklearn.metrics import accuracy_score\n",
    "accuracy_score(y_test_test, y_pred_test)"
   ]
  },
  {
   "cell_type": "code",
   "execution_count": 136,
   "metadata": {
    "scrolled": false
   },
   "outputs": [
    {
     "name": "stdout",
     "output_type": "stream",
     "text": [
      "              precision    recall  f1-score   support\n",
      "\n",
      "           0       0.75      0.31      0.43       503\n",
      "           1       0.76      0.38      0.50       503\n",
      "           2       0.81      0.27      0.40       487\n",
      "           3       0.70      0.14      0.23       461\n",
      "           4       0.88      0.36      0.51       512\n",
      "           5       0.74      0.16      0.26       522\n",
      "           6       0.64      0.15      0.25       516\n",
      "           7       0.86      0.42      0.57       476\n",
      "           8       0.59      0.14      0.22       521\n",
      "           9       0.77      0.21      0.33       499\n",
      "\n",
      "   micro avg       0.77      0.25      0.38      5000\n",
      "   macro avg       0.75      0.25      0.37      5000\n",
      "weighted avg       0.75      0.25      0.37      5000\n",
      " samples avg       0.25      0.25      0.25      5000\n",
      "\n"
     ]
    },
    {
     "name": "stderr",
     "output_type": "stream",
     "text": [
      "C:\\Users\\neeha\\Anaconda3\\lib\\site-packages\\sklearn\\metrics\\classification.py:1143: UndefinedMetricWarning: Precision and F-score are ill-defined and being set to 0.0 in samples with no predicted labels.\n",
      "  'precision', 'predicted', average, warn_for)\n"
     ]
    }
   ],
   "source": [
    "from sklearn.metrics import classification_report\n",
    "print(classification_report(y_test_test, y_pred_test))"
   ]
  },
  {
   "cell_type": "markdown",
   "metadata": {},
   "source": [
    "## Validation Test gives a 25% Accuracy"
   ]
  },
  {
   "cell_type": "markdown",
   "metadata": {},
   "source": [
    "# Using K Nearest Neighbours i was only able to get 25% accuracy"
   ]
  },
  {
   "cell_type": "markdown",
   "metadata": {},
   "source": [
    "# Now Lets Use Deep Learning to Build this Model and check the difference in the Accuracy"
   ]
  },
  {
   "cell_type": "code",
   "execution_count": 30,
   "metadata": {
    "scrolled": true
   },
   "outputs": [
    {
     "data": {
      "text/plain": [
       "(18000, 1024)"
      ]
     },
     "execution_count": 30,
     "metadata": {},
     "output_type": "execute_result"
    }
   ],
   "source": [
    "X_test.shape"
   ]
  },
  {
   "cell_type": "code",
   "execution_count": 31,
   "metadata": {},
   "outputs": [
    {
     "data": {
      "text/plain": [
       "(60000, 1024)"
      ]
     },
     "execution_count": 31,
     "metadata": {},
     "output_type": "execute_result"
    }
   ],
   "source": [
    "X_val.shape"
   ]
  },
  {
   "cell_type": "code",
   "execution_count": 32,
   "metadata": {},
   "outputs": [],
   "source": [
    "X_train=X_train.reshape(42000, 32, 32,1)"
   ]
  },
  {
   "cell_type": "code",
   "execution_count": 33,
   "metadata": {},
   "outputs": [],
   "source": [
    "X_test=X_test.reshape(18000,32, 32,1)"
   ]
  },
  {
   "cell_type": "code",
   "execution_count": 34,
   "metadata": {},
   "outputs": [],
   "source": [
    "X_val=X_val.reshape(60000,32, 32,1)"
   ]
  },
  {
   "cell_type": "code",
   "execution_count": 35,
   "metadata": {},
   "outputs": [],
   "source": [
    "import keras\n",
    "from keras.models import Sequential # Sequential(flow from layer 1-->n) and Functional model(used when we want to use someone elses model)\n",
    "from keras.layers import Dense, Activation, Dropout, Flatten, Reshape #(dense--fully connected), (flatten-- convert matrix to vector)\n",
    "TRAIN = False\n",
    "BATCH_SIZE = 32 #how many numbers in a batch so 60000/32 = total number of batches\n",
    "EPOCHS = 10"
   ]
  },
  {
   "cell_type": "markdown",
   "metadata": {},
   "source": [
    "## ● Implementing a deep neural network classifier including (feedforward neural network, RELU activations, Batch Normalization and flattening to convert it into a Vector)"
   ]
  },
  {
   "cell_type": "code",
   "execution_count": 36,
   "metadata": {},
   "outputs": [],
   "source": [
    "# Define Model\n",
    "from keras.layers.normalization import BatchNormalization\n",
    "\n",
    "model = Sequential()\n",
    "\n",
    "# Step 1 - Flattening for converting into a Vector\n",
    "model.add(Flatten())\n",
    "\n",
    "model.add(BatchNormalization())\n",
    "\n",
    "model.add(Dense(units = 200, activation = 'relu'))    \n",
    "    \n"
   ]
  },
  {
   "cell_type": "markdown",
   "metadata": {},
   "source": [
    "# ● Implementing cost/loss function with  SGD , cross entropy loss\n"
   ]
  },
  {
   "cell_type": "code",
   "execution_count": 40,
   "metadata": {},
   "outputs": [],
   "source": [
    "    # Prediction Layer\n",
    "    model.add(Dense(10, kernel_initializer='uniform'))\n",
    "\n",
    "  \n",
    "    model.add(Activation('softmax'))\n",
    "\n",
    "    # Loss and Optimizer\n",
    "    model.compile(loss='categorical_crossentropy', optimizer='sgd', metrics=['accuracy'])\n",
    "    \n",
    "    # Store Training Results\n",
    "    early_stopping = keras.callbacks.EarlyStopping(monitor='val_acc', patience=7, verbose=1, mode='auto')\n",
    "    callback_list = [early_stopping]\n",
    "\n",
    "   \n",
    "    "
   ]
  },
  {
   "cell_type": "code",
   "execution_count": 38,
   "metadata": {},
   "outputs": [],
   "source": [
    "import matplotlib.pyplot as plt"
   ]
  },
  {
   "cell_type": "code",
   "execution_count": 39,
   "metadata": {
    "scrolled": false
   },
   "outputs": [
    {
     "name": "stdout",
     "output_type": "stream",
     "text": [
      "WARNING:tensorflow:From C:\\Users\\neeha\\Anaconda3\\lib\\site-packages\\tensorflow\\python\\ops\\math_ops.py:3066: to_int32 (from tensorflow.python.ops.math_ops) is deprecated and will be removed in a future version.\n",
      "Instructions for updating:\n",
      "Use tf.cast instead.\n",
      "Train on 42000 samples, validate on 42000 samples\n",
      "Epoch 1/10\n",
      "42000/42000 [==============================] - 5s 115us/step - loss: 1.8740 - acc: 0.3942 - val_loss: 1.3737 - val_acc: 0.6166\n",
      "Epoch 2/10\n",
      "42000/42000 [==============================] - 5s 108us/step - loss: 1.2558 - acc: 0.6275 - val_loss: 1.0443 - val_acc: 0.6967\n",
      "Epoch 3/10\n",
      "42000/42000 [==============================] - 4s 104us/step - loss: 1.0523 - acc: 0.6847 - val_loss: 0.8844 - val_acc: 0.7476\n",
      "Epoch 4/10\n",
      "42000/42000 [==============================] - 4s 95us/step - loss: 0.9427 - acc: 0.7155 - val_loss: 0.8146 - val_acc: 0.7627\n",
      "Epoch 5/10\n",
      "42000/42000 [==============================] - 4s 95us/step - loss: 0.8644 - acc: 0.7390 - val_loss: 0.7461 - val_acc: 0.7828\n",
      "Epoch 6/10\n",
      "42000/42000 [==============================] - 4s 97us/step - loss: 0.8047 - acc: 0.7578 - val_loss: 0.6791 - val_acc: 0.8017\n",
      "Epoch 7/10\n",
      "42000/42000 [==============================] - 4s 98us/step - loss: 0.7609 - acc: 0.7720 - val_loss: 0.6389 - val_acc: 0.8149\n",
      "Epoch 8/10\n",
      "42000/42000 [==============================] - 4s 99us/step - loss: 0.7258 - acc: 0.7803 - val_loss: 0.6371 - val_acc: 0.8147\n",
      "Epoch 9/10\n",
      "42000/42000 [==============================] - 4s 98us/step - loss: 0.6933 - acc: 0.7928 - val_loss: 0.5609 - val_acc: 0.8424\n",
      "Epoch 10/10\n",
      "42000/42000 [==============================] - 4s 100us/step - loss: 0.6683 - acc: 0.7969 - val_loss: 0.5344 - val_acc: 0.8500\n",
      "\n",
      "Test loss: 0.534\n",
      "Test accuracy: 0.85\n"
     ]
    },
    {
     "data": {
      "text/plain": [
       "<matplotlib.legend.Legend at 0x2131af8d278>"
      ]
     },
     "execution_count": 39,
     "metadata": {},
     "output_type": "execute_result"
    },
    {
     "data": {
      "image/png": "[encoded data removed]",
      "text/plain": [
       "<Figure size 432x288 with 1 Axes>"
      ]
     },
     "metadata": {
      "needs_background": "light"
     },
     "output_type": "display_data"
    }
   ],
   "source": [
    "history = model.fit(X_train, y_train,\n",
    "                    batch_size=BATCH_SIZE,\n",
    "                    epochs=EPOCHS,\n",
    "                    verbose=1,\n",
    "                    validation_data=(X_train, y_train))\n",
    "    \n",
    "loss, accuracy  = model.evaluate(X_train, y_train, verbose=False)\n",
    "print()\n",
    "print(f'Test loss: {loss:.3}')\n",
    "print(f'Test accuracy: {accuracy:.3}')\n",
    "    \n",
    "plt.plot(history.history['val_acc'])\n",
    "\n",
    "    \n",
    "plt.title('model accuracy')\n",
    "plt.ylabel('Accuracy')\n",
    "plt.xlabel('epoch')\n",
    "plt.legend(['relu'], loc='upper left')"
   ]
  },
  {
   "cell_type": "code",
   "execution_count": null,
   "metadata": {},
   "outputs": [],
   "source": []
  },
  {
   "cell_type": "code",
   "execution_count": 197,
   "metadata": {},
   "outputs": [
    {
     "name": "stdout",
     "output_type": "stream",
     "text": [
      "Train on 60000 samples, validate on 60000 samples\n",
      "Epoch 1/10\n",
      "60000/60000 [==============================] - 8s 132us/step - loss: 1.6301 - acc: 0.8616 - val_loss: 1.5912 - val_acc: 0.8993\n",
      "Epoch 2/10\n",
      "60000/60000 [==============================] - 7s 120us/step - loss: 1.6267 - acc: 0.8637 - val_loss: 1.5900 - val_acc: 0.8985\n",
      "Epoch 3/10\n",
      "60000/60000 [==============================] - 7s 124us/step - loss: 1.6265 - acc: 0.8627 - val_loss: 1.5879 - val_acc: 0.9002\n",
      "Epoch 4/10\n",
      "60000/60000 [==============================] - 7s 122us/step - loss: 1.6241 - acc: 0.8625 - val_loss: 1.5845 - val_acc: 0.9021\n",
      "Epoch 5/10\n",
      "60000/60000 [==============================] - 7s 119us/step - loss: 1.6228 - acc: 0.8643 - val_loss: 1.5840 - val_acc: 0.9021\n",
      "Epoch 6/10\n",
      "60000/60000 [==============================] - 8s 126us/step - loss: 1.6205 - acc: 0.8654 - val_loss: 1.5817 - val_acc: 0.9029\n",
      "Epoch 7/10\n",
      "60000/60000 [==============================] - 9s 148us/step - loss: 1.6189 - acc: 0.8669 - val_loss: 1.5803 - val_acc: 0.9031\n",
      "Epoch 8/10\n",
      "60000/60000 [==============================] - 8s 127us/step - loss: 1.6180 - acc: 0.8663 - val_loss: 1.5798 - val_acc: 0.9042\n",
      "Epoch 9/10\n",
      "60000/60000 [==============================] - 7s 124us/step - loss: 1.6169 - acc: 0.8673 - val_loss: 1.5793 - val_acc: 0.9035\n",
      "Epoch 10/10\n",
      "60000/60000 [==============================] - 8s 128us/step - loss: 1.6157 - acc: 0.8680 - val_loss: 1.5787 - val_acc: 0.9034\n",
      "\n",
      "Test loss: 1.58\n",
      "Test accuracy: 0.903\n"
     ]
    },
    {
     "data": {
      "text/plain": [
       "<matplotlib.legend.Legend at 0x24d68927f60>"
      ]
     },
     "execution_count": 197,
     "metadata": {},
     "output_type": "execute_result"
    },
    {
     "data": {
      "image/png": "[encoded data removed]",
      "text/plain": [
       "<Figure size 432x288 with 1 Axes>"
      ]
     },
     "metadata": {
      "needs_background": "light"
     },
     "output_type": "display_data"
    }
   ],
   "source": [
    "history = model.fit(X_val, y_val,\n",
    "                    batch_size=BATCH_SIZE,\n",
    "                    epochs=EPOCHS,\n",
    "                    verbose=1,\n",
    "                    validation_data=(X_val, y_val))\n",
    "    \n",
    "loss, accuracy  = model.evaluate(X_val, y_val, verbose=False)\n",
    "print()\n",
    "print(f'Test loss: {loss:.3}')\n",
    "print(f'Test accuracy: {accuracy:.3}')\n",
    "    \n",
    "plt.plot(history.history['val_acc'])\n",
    "\n",
    "    \n",
    "plt.title('model accuracy')\n",
    "plt.ylabel('Accuracy')\n",
    "plt.xlabel('epoch')\n",
    "plt.legend(['relu'], loc='upper left')"
   ]
  },
  {
   "cell_type": "code",
   "execution_count": 193,
   "metadata": {},
   "outputs": [
    {
     "name": "stdout",
     "output_type": "stream",
     "text": [
      "\n",
      "Test loss: 0.391\n",
      "Test accuracy: 0.889\n"
     ]
    },
    {
     "data": {
      "text/plain": [
       "<matplotlib.legend.Legend at 0x24d53b2e6a0>"
      ]
     },
     "execution_count": 193,
     "metadata": {},
     "output_type": "execute_result"
    },
    {
     "data": {
      "image/png": "[encoded data removed]",
      "text/plain": [
       "<Figure size 432x288 with 1 Axes>"
      ]
     },
     "metadata": {
      "needs_background": "light"
     },
     "output_type": "display_data"
    }
   ],
   "source": [
    "loss, accuracy  = model.evaluate(X_test, y_test, verbose=False)\n",
    "print()\n",
    "print(f'Test loss: {loss:.3}')\n",
    "print(f'Test accuracy: {accuracy:.3}')\n",
    "    \n",
    "plt.plot(history.history['val_acc'])\n",
    "\n",
    "    \n",
    "plt.title('model accuracy')\n",
    "plt.ylabel('Accuracy')\n",
    "plt.xlabel('epoch')\n",
    "plt.legend(['relu'], loc='upper left')"
   ]
  },
  {
   "cell_type": "code",
   "execution_count": 215,
   "metadata": {},
   "outputs": [],
   "source": [
    "y_pred_class=model.predict_classes(x=X_test)"
   ]
  },
  {
   "cell_type": "code",
   "execution_count": 216,
   "metadata": {},
   "outputs": [
    {
     "data": {
      "text/plain": [
       "array([1, 7, 2, ..., 7, 9, 2], dtype=int64)"
      ]
     },
     "execution_count": 216,
     "metadata": {},
     "output_type": "execute_result"
    }
   ],
   "source": [
    "y_test.argmax(axis=1)"
   ]
  },
  {
   "cell_type": "code",
   "execution_count": 217,
   "metadata": {},
   "outputs": [],
   "source": [
    "y_test_val=y_test.argmax(axis=1)"
   ]
  },
  {
   "cell_type": "code",
   "execution_count": 218,
   "metadata": {},
   "outputs": [
    {
     "data": {
      "text/plain": [
       "array([0, 7, 2, ..., 7, 9, 2], dtype=int64)"
      ]
     },
     "execution_count": 218,
     "metadata": {},
     "output_type": "execute_result"
    }
   ],
   "source": [
    "y_pred_class"
   ]
  },
  {
   "cell_type": "code",
   "execution_count": 219,
   "metadata": {},
   "outputs": [
    {
     "name": "stdout",
     "output_type": "stream",
     "text": [
      "0.8957777777777778\n"
     ]
    }
   ],
   "source": [
    "from sklearn import metrics\n",
    "from sklearn.metrics import accuracy_score\n",
    "print(metrics.accuracy_score(y_test_val,y_pred_class))"
   ]
  },
  {
   "cell_type": "code",
   "execution_count": 221,
   "metadata": {
    "scrolled": true
   },
   "outputs": [
    {
     "name": "stdout",
     "output_type": "stream",
     "text": [
      "              precision    recall  f1-score   support\n",
      "\n",
      "           0       0.88      0.94      0.91      1814\n",
      "           1       0.86      0.91      0.88      1828\n",
      "           2       0.91      0.91      0.91      1803\n",
      "           3       0.88      0.85      0.86      1719\n",
      "           4       0.92      0.91      0.92      1812\n",
      "           5       0.89      0.89      0.89      1768\n",
      "           6       0.90      0.88      0.89      1832\n",
      "           7       0.92      0.92      0.92      1808\n",
      "           8       0.91      0.86      0.88      1812\n",
      "           9       0.90      0.88      0.89      1804\n",
      "\n",
      "   micro avg       0.90      0.90      0.90     18000\n",
      "   macro avg       0.90      0.90      0.90     18000\n",
      "weighted avg       0.90      0.90      0.90     18000\n",
      "\n"
     ]
    }
   ],
   "source": [
    "from sklearn.metrics import classification_report\n",
    "print(classification_report(y_test_val,y_pred_class))"
   ]
  },
  {
   "cell_type": "markdown",
   "metadata": {},
   "source": [
    "# Using Deep Learning Techniques we are able to obtain approximately 90% accuracy \n",
    "\n",
    "# where as using Just K-Nearest Neighbours the time required for each computation is higher \n",
    "\n",
    "# Best Value for K could not be found due to computational restrictions and so i was only able to achieve an accuracy Score of 25%"
   ]
  },
  {
   "cell_type": "code",
   "execution_count": null,
   "metadata": {},
   "outputs": [],
   "source": []
  }
 ],
 "metadata": {
  "kernelspec": {
   "display_name": "Python 3",
   "language": "python",
   "name": "python3"
  },
  "language_info": {
   "codemirror_mode": {
    "name": "ipython",
    "version": 3
   },
   "file_extension": ".py",
   "mimetype": "text/x-python",
   "name": "python",
   "nbconvert_exporter": "python",
   "pygments_lexer": "ipython3",
   "version": "3.6.5"
  }
 },
 "nbformat": 4,
 "nbformat_minor": 2
}
