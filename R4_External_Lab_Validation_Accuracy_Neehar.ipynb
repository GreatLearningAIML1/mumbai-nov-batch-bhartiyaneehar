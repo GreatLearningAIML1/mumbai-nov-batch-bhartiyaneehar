{
 "cells": [
  {
   "cell_type": "code",
   "execution_count": 1,
   "metadata": {
    "colab": {},
    "colab_type": "code",
    "id": "Y3vvEXP1_0og"
   },
   "outputs": [],
   "source": [
    "# Import important library\n",
    "import numpy as np\n",
    "import pandas as pd\n",
    "import matplotlib.pyplot as plt\n",
    "import seaborn as sns\n",
    "%matplotlib inline\n",
    "import warnings\n",
    "warnings.filterwarnings('ignore')"
   ]
  },
  {
   "cell_type": "markdown",
   "metadata": {
    "colab_type": "text",
    "id": "7O83uMqA_0ol"
   },
   "source": [
    "### Read the input file and check the data dimension"
   ]
  },
  {
   "cell_type": "code",
   "execution_count": 2,
   "metadata": {
    "colab": {},
    "colab_type": "code",
    "id": "1brbOfG_Enzy",
    "scrolled": true
   },
   "outputs": [
    {
     "data": {
      "text/html": [
       "<div>\n",
       "<style scoped>\n",
       "    .dataframe tbody tr th:only-of-type {\n",
       "        vertical-align: middle;\n",
       "    }\n",
       "\n",
       "    .dataframe tbody tr th {\n",
       "        vertical-align: top;\n",
       "    }\n",
       "\n",
       "    .dataframe thead th {\n",
       "        text-align: right;\n",
       "    }\n",
       "</style>\n",
       "<table border=\"1\" class=\"dataframe\">\n",
       "  <thead>\n",
       "    <tr style=\"text-align: right;\">\n",
       "      <th></th>\n",
       "      <th>default</th>\n",
       "      <th>account_check_status</th>\n",
       "      <th>duration_in_month</th>\n",
       "      <th>credit_history</th>\n",
       "      <th>purpose</th>\n",
       "      <th>credit_amount</th>\n",
       "      <th>savings</th>\n",
       "      <th>present_emp_since</th>\n",
       "      <th>installment_as_income_perc</th>\n",
       "      <th>personal_status_sex</th>\n",
       "      <th>...</th>\n",
       "      <th>present_res_since</th>\n",
       "      <th>property</th>\n",
       "      <th>age</th>\n",
       "      <th>other_installment_plans</th>\n",
       "      <th>housing</th>\n",
       "      <th>credits_this_bank</th>\n",
       "      <th>job</th>\n",
       "      <th>people_under_maintenance</th>\n",
       "      <th>telephone</th>\n",
       "      <th>foreign_worker</th>\n",
       "    </tr>\n",
       "  </thead>\n",
       "  <tbody>\n",
       "    <tr>\n",
       "      <th>0</th>\n",
       "      <td>0</td>\n",
       "      <td>&lt; 0 DM</td>\n",
       "      <td>6</td>\n",
       "      <td>critical account/ other credits existing (not ...</td>\n",
       "      <td>domestic appliances</td>\n",
       "      <td>1169</td>\n",
       "      <td>unknown/ no savings account</td>\n",
       "      <td>.. &gt;= 7 years</td>\n",
       "      <td>4</td>\n",
       "      <td>male : single</td>\n",
       "      <td>...</td>\n",
       "      <td>4</td>\n",
       "      <td>real estate</td>\n",
       "      <td>67</td>\n",
       "      <td>none</td>\n",
       "      <td>own</td>\n",
       "      <td>2</td>\n",
       "      <td>skilled employee / official</td>\n",
       "      <td>1</td>\n",
       "      <td>yes, registered under the customers name</td>\n",
       "      <td>yes</td>\n",
       "    </tr>\n",
       "    <tr>\n",
       "      <th>1</th>\n",
       "      <td>1</td>\n",
       "      <td>0 &lt;= ... &lt; 200 DM</td>\n",
       "      <td>48</td>\n",
       "      <td>existing credits paid back duly till now</td>\n",
       "      <td>domestic appliances</td>\n",
       "      <td>5951</td>\n",
       "      <td>... &lt; 100 DM</td>\n",
       "      <td>1 &lt;= ... &lt; 4 years</td>\n",
       "      <td>2</td>\n",
       "      <td>female : divorced/separated/married</td>\n",
       "      <td>...</td>\n",
       "      <td>2</td>\n",
       "      <td>real estate</td>\n",
       "      <td>22</td>\n",
       "      <td>none</td>\n",
       "      <td>own</td>\n",
       "      <td>1</td>\n",
       "      <td>skilled employee / official</td>\n",
       "      <td>1</td>\n",
       "      <td>none</td>\n",
       "      <td>yes</td>\n",
       "    </tr>\n",
       "    <tr>\n",
       "      <th>2</th>\n",
       "      <td>0</td>\n",
       "      <td>no checking account</td>\n",
       "      <td>12</td>\n",
       "      <td>critical account/ other credits existing (not ...</td>\n",
       "      <td>(vacation - does not exist?)</td>\n",
       "      <td>2096</td>\n",
       "      <td>... &lt; 100 DM</td>\n",
       "      <td>4 &lt;= ... &lt; 7 years</td>\n",
       "      <td>2</td>\n",
       "      <td>male : single</td>\n",
       "      <td>...</td>\n",
       "      <td>3</td>\n",
       "      <td>real estate</td>\n",
       "      <td>49</td>\n",
       "      <td>none</td>\n",
       "      <td>own</td>\n",
       "      <td>1</td>\n",
       "      <td>unskilled - resident</td>\n",
       "      <td>2</td>\n",
       "      <td>none</td>\n",
       "      <td>yes</td>\n",
       "    </tr>\n",
       "    <tr>\n",
       "      <th>3</th>\n",
       "      <td>0</td>\n",
       "      <td>&lt; 0 DM</td>\n",
       "      <td>42</td>\n",
       "      <td>existing credits paid back duly till now</td>\n",
       "      <td>radio/television</td>\n",
       "      <td>7882</td>\n",
       "      <td>... &lt; 100 DM</td>\n",
       "      <td>4 &lt;= ... &lt; 7 years</td>\n",
       "      <td>2</td>\n",
       "      <td>male : single</td>\n",
       "      <td>...</td>\n",
       "      <td>4</td>\n",
       "      <td>if not A121 : building society savings agreeme...</td>\n",
       "      <td>45</td>\n",
       "      <td>none</td>\n",
       "      <td>for free</td>\n",
       "      <td>1</td>\n",
       "      <td>skilled employee / official</td>\n",
       "      <td>2</td>\n",
       "      <td>none</td>\n",
       "      <td>yes</td>\n",
       "    </tr>\n",
       "    <tr>\n",
       "      <th>4</th>\n",
       "      <td>1</td>\n",
       "      <td>&lt; 0 DM</td>\n",
       "      <td>24</td>\n",
       "      <td>delay in paying off in the past</td>\n",
       "      <td>car (new)</td>\n",
       "      <td>4870</td>\n",
       "      <td>... &lt; 100 DM</td>\n",
       "      <td>1 &lt;= ... &lt; 4 years</td>\n",
       "      <td>3</td>\n",
       "      <td>male : single</td>\n",
       "      <td>...</td>\n",
       "      <td>4</td>\n",
       "      <td>unknown / no property</td>\n",
       "      <td>53</td>\n",
       "      <td>none</td>\n",
       "      <td>for free</td>\n",
       "      <td>2</td>\n",
       "      <td>skilled employee / official</td>\n",
       "      <td>2</td>\n",
       "      <td>none</td>\n",
       "      <td>yes</td>\n",
       "    </tr>\n",
       "  </tbody>\n",
       "</table>\n",
       "<p>5 rows × 21 columns</p>\n",
       "</div>"
      ],
      "text/plain": [
       "   default account_check_status  duration_in_month  \\\n",
       "0        0               < 0 DM                  6   \n",
       "1        1    0 <= ... < 200 DM                 48   \n",
       "2        0  no checking account                 12   \n",
       "3        0               < 0 DM                 42   \n",
       "4        1               < 0 DM                 24   \n",
       "\n",
       "                                      credit_history  \\\n",
       "0  critical account/ other credits existing (not ...   \n",
       "1           existing credits paid back duly till now   \n",
       "2  critical account/ other credits existing (not ...   \n",
       "3           existing credits paid back duly till now   \n",
       "4                    delay in paying off in the past   \n",
       "\n",
       "                        purpose  credit_amount                      savings  \\\n",
       "0           domestic appliances           1169  unknown/ no savings account   \n",
       "1           domestic appliances           5951                 ... < 100 DM   \n",
       "2  (vacation - does not exist?)           2096                 ... < 100 DM   \n",
       "3              radio/television           7882                 ... < 100 DM   \n",
       "4                     car (new)           4870                 ... < 100 DM   \n",
       "\n",
       "    present_emp_since  installment_as_income_perc  \\\n",
       "0       .. >= 7 years                           4   \n",
       "1  1 <= ... < 4 years                           2   \n",
       "2  4 <= ... < 7 years                           2   \n",
       "3  4 <= ... < 7 years                           2   \n",
       "4  1 <= ... < 4 years                           3   \n",
       "\n",
       "                   personal_status_sex      ...       present_res_since  \\\n",
       "0                        male : single      ...                       4   \n",
       "1  female : divorced/separated/married      ...                       2   \n",
       "2                        male : single      ...                       3   \n",
       "3                        male : single      ...                       4   \n",
       "4                        male : single      ...                       4   \n",
       "\n",
       "                                            property age  \\\n",
       "0                                        real estate  67   \n",
       "1                                        real estate  22   \n",
       "2                                        real estate  49   \n",
       "3  if not A121 : building society savings agreeme...  45   \n",
       "4                              unknown / no property  53   \n",
       "\n",
       "   other_installment_plans   housing credits_this_bank  \\\n",
       "0                     none       own                 2   \n",
       "1                     none       own                 1   \n",
       "2                     none       own                 1   \n",
       "3                     none  for free                 1   \n",
       "4                     none  for free                 2   \n",
       "\n",
       "                           job people_under_maintenance  \\\n",
       "0  skilled employee / official                        1   \n",
       "1  skilled employee / official                        1   \n",
       "2         unskilled - resident                        2   \n",
       "3  skilled employee / official                        2   \n",
       "4  skilled employee / official                        2   \n",
       "\n",
       "                                   telephone foreign_worker  \n",
       "0  yes, registered under the customers name             yes  \n",
       "1                                       none            yes  \n",
       "2                                       none            yes  \n",
       "3                                       none            yes  \n",
       "4                                       none            yes  \n",
       "\n",
       "[5 rows x 21 columns]"
      ]
     },
     "execution_count": 2,
     "metadata": {},
     "output_type": "execute_result"
    }
   ],
   "source": [
    "new_credit_df=pd.read_csv(\"german_credit.csv\")\n",
    "new_credit_df.head(5)"
   ]
  },
  {
   "cell_type": "code",
   "execution_count": 3,
   "metadata": {},
   "outputs": [
    {
     "data": {
      "text/html": [
       "<div>\n",
       "<style scoped>\n",
       "    .dataframe tbody tr th:only-of-type {\n",
       "        vertical-align: middle;\n",
       "    }\n",
       "\n",
       "    .dataframe tbody tr th {\n",
       "        vertical-align: top;\n",
       "    }\n",
       "\n",
       "    .dataframe thead th {\n",
       "        text-align: right;\n",
       "    }\n",
       "</style>\n",
       "<table border=\"1\" class=\"dataframe\">\n",
       "  <thead>\n",
       "    <tr style=\"text-align: right;\">\n",
       "      <th></th>\n",
       "      <th>count</th>\n",
       "      <th>mean</th>\n",
       "      <th>std</th>\n",
       "      <th>min</th>\n",
       "      <th>25%</th>\n",
       "      <th>50%</th>\n",
       "      <th>75%</th>\n",
       "      <th>max</th>\n",
       "    </tr>\n",
       "  </thead>\n",
       "  <tbody>\n",
       "    <tr>\n",
       "      <th>default</th>\n",
       "      <td>1000.0</td>\n",
       "      <td>0.300</td>\n",
       "      <td>0.458487</td>\n",
       "      <td>0.0</td>\n",
       "      <td>0.0</td>\n",
       "      <td>0.0</td>\n",
       "      <td>1.00</td>\n",
       "      <td>1.0</td>\n",
       "    </tr>\n",
       "    <tr>\n",
       "      <th>duration_in_month</th>\n",
       "      <td>1000.0</td>\n",
       "      <td>20.903</td>\n",
       "      <td>12.058814</td>\n",
       "      <td>4.0</td>\n",
       "      <td>12.0</td>\n",
       "      <td>18.0</td>\n",
       "      <td>24.00</td>\n",
       "      <td>72.0</td>\n",
       "    </tr>\n",
       "    <tr>\n",
       "      <th>credit_amount</th>\n",
       "      <td>1000.0</td>\n",
       "      <td>3271.258</td>\n",
       "      <td>2822.736876</td>\n",
       "      <td>250.0</td>\n",
       "      <td>1365.5</td>\n",
       "      <td>2319.5</td>\n",
       "      <td>3972.25</td>\n",
       "      <td>18424.0</td>\n",
       "    </tr>\n",
       "    <tr>\n",
       "      <th>installment_as_income_perc</th>\n",
       "      <td>1000.0</td>\n",
       "      <td>2.973</td>\n",
       "      <td>1.118715</td>\n",
       "      <td>1.0</td>\n",
       "      <td>2.0</td>\n",
       "      <td>3.0</td>\n",
       "      <td>4.00</td>\n",
       "      <td>4.0</td>\n",
       "    </tr>\n",
       "    <tr>\n",
       "      <th>present_res_since</th>\n",
       "      <td>1000.0</td>\n",
       "      <td>2.845</td>\n",
       "      <td>1.103718</td>\n",
       "      <td>1.0</td>\n",
       "      <td>2.0</td>\n",
       "      <td>3.0</td>\n",
       "      <td>4.00</td>\n",
       "      <td>4.0</td>\n",
       "    </tr>\n",
       "    <tr>\n",
       "      <th>age</th>\n",
       "      <td>1000.0</td>\n",
       "      <td>35.546</td>\n",
       "      <td>11.375469</td>\n",
       "      <td>19.0</td>\n",
       "      <td>27.0</td>\n",
       "      <td>33.0</td>\n",
       "      <td>42.00</td>\n",
       "      <td>75.0</td>\n",
       "    </tr>\n",
       "    <tr>\n",
       "      <th>credits_this_bank</th>\n",
       "      <td>1000.0</td>\n",
       "      <td>1.407</td>\n",
       "      <td>0.577654</td>\n",
       "      <td>1.0</td>\n",
       "      <td>1.0</td>\n",
       "      <td>1.0</td>\n",
       "      <td>2.00</td>\n",
       "      <td>4.0</td>\n",
       "    </tr>\n",
       "    <tr>\n",
       "      <th>people_under_maintenance</th>\n",
       "      <td>1000.0</td>\n",
       "      <td>1.155</td>\n",
       "      <td>0.362086</td>\n",
       "      <td>1.0</td>\n",
       "      <td>1.0</td>\n",
       "      <td>1.0</td>\n",
       "      <td>1.00</td>\n",
       "      <td>2.0</td>\n",
       "    </tr>\n",
       "  </tbody>\n",
       "</table>\n",
       "</div>"
      ],
      "text/plain": [
       "                             count      mean          std    min     25%  \\\n",
       "default                     1000.0     0.300     0.458487    0.0     0.0   \n",
       "duration_in_month           1000.0    20.903    12.058814    4.0    12.0   \n",
       "credit_amount               1000.0  3271.258  2822.736876  250.0  1365.5   \n",
       "installment_as_income_perc  1000.0     2.973     1.118715    1.0     2.0   \n",
       "present_res_since           1000.0     2.845     1.103718    1.0     2.0   \n",
       "age                         1000.0    35.546    11.375469   19.0    27.0   \n",
       "credits_this_bank           1000.0     1.407     0.577654    1.0     1.0   \n",
       "people_under_maintenance    1000.0     1.155     0.362086    1.0     1.0   \n",
       "\n",
       "                               50%      75%      max  \n",
       "default                        0.0     1.00      1.0  \n",
       "duration_in_month             18.0    24.00     72.0  \n",
       "credit_amount               2319.5  3972.25  18424.0  \n",
       "installment_as_income_perc     3.0     4.00      4.0  \n",
       "present_res_since              3.0     4.00      4.0  \n",
       "age                           33.0    42.00     75.0  \n",
       "credits_this_bank              1.0     2.00      4.0  \n",
       "people_under_maintenance       1.0     1.00      2.0  "
      ]
     },
     "execution_count": 3,
     "metadata": {},
     "output_type": "execute_result"
    }
   ],
   "source": [
    "new_credit_df.describe().transpose()"
   ]
  },
  {
   "cell_type": "code",
   "execution_count": 4,
   "metadata": {},
   "outputs": [
    {
     "data": {
      "text/plain": [
       "(1000, 21)"
      ]
     },
     "execution_count": 4,
     "metadata": {},
     "output_type": "execute_result"
    }
   ],
   "source": [
    "new_credit_df.shape"
   ]
  },
  {
   "cell_type": "code",
   "execution_count": 5,
   "metadata": {},
   "outputs": [
    {
     "data": {
      "text/html": [
       "<div>\n",
       "<style scoped>\n",
       "    .dataframe tbody tr th:only-of-type {\n",
       "        vertical-align: middle;\n",
       "    }\n",
       "\n",
       "    .dataframe tbody tr th {\n",
       "        vertical-align: top;\n",
       "    }\n",
       "\n",
       "    .dataframe thead th {\n",
       "        text-align: right;\n",
       "    }\n",
       "</style>\n",
       "<table border=\"1\" class=\"dataframe\">\n",
       "  <thead>\n",
       "    <tr style=\"text-align: right;\">\n",
       "      <th></th>\n",
       "      <th>default</th>\n",
       "      <th>duration_in_month</th>\n",
       "      <th>credit_amount</th>\n",
       "      <th>installment_as_income_perc</th>\n",
       "      <th>present_res_since</th>\n",
       "      <th>age</th>\n",
       "      <th>credits_this_bank</th>\n",
       "      <th>people_under_maintenance</th>\n",
       "    </tr>\n",
       "  </thead>\n",
       "  <tbody>\n",
       "    <tr>\n",
       "      <th>count</th>\n",
       "      <td>1000.000000</td>\n",
       "      <td>1000.000000</td>\n",
       "      <td>1000.000000</td>\n",
       "      <td>1000.000000</td>\n",
       "      <td>1000.000000</td>\n",
       "      <td>1000.000000</td>\n",
       "      <td>1000.000000</td>\n",
       "      <td>1000.000000</td>\n",
       "    </tr>\n",
       "    <tr>\n",
       "      <th>mean</th>\n",
       "      <td>0.300000</td>\n",
       "      <td>20.903000</td>\n",
       "      <td>3271.258000</td>\n",
       "      <td>2.973000</td>\n",
       "      <td>2.845000</td>\n",
       "      <td>35.546000</td>\n",
       "      <td>1.407000</td>\n",
       "      <td>1.155000</td>\n",
       "    </tr>\n",
       "    <tr>\n",
       "      <th>std</th>\n",
       "      <td>0.458487</td>\n",
       "      <td>12.058814</td>\n",
       "      <td>2822.736876</td>\n",
       "      <td>1.118715</td>\n",
       "      <td>1.103718</td>\n",
       "      <td>11.375469</td>\n",
       "      <td>0.577654</td>\n",
       "      <td>0.362086</td>\n",
       "    </tr>\n",
       "    <tr>\n",
       "      <th>min</th>\n",
       "      <td>0.000000</td>\n",
       "      <td>4.000000</td>\n",
       "      <td>250.000000</td>\n",
       "      <td>1.000000</td>\n",
       "      <td>1.000000</td>\n",
       "      <td>19.000000</td>\n",
       "      <td>1.000000</td>\n",
       "      <td>1.000000</td>\n",
       "    </tr>\n",
       "    <tr>\n",
       "      <th>25%</th>\n",
       "      <td>0.000000</td>\n",
       "      <td>12.000000</td>\n",
       "      <td>1365.500000</td>\n",
       "      <td>2.000000</td>\n",
       "      <td>2.000000</td>\n",
       "      <td>27.000000</td>\n",
       "      <td>1.000000</td>\n",
       "      <td>1.000000</td>\n",
       "    </tr>\n",
       "    <tr>\n",
       "      <th>50%</th>\n",
       "      <td>0.000000</td>\n",
       "      <td>18.000000</td>\n",
       "      <td>2319.500000</td>\n",
       "      <td>3.000000</td>\n",
       "      <td>3.000000</td>\n",
       "      <td>33.000000</td>\n",
       "      <td>1.000000</td>\n",
       "      <td>1.000000</td>\n",
       "    </tr>\n",
       "    <tr>\n",
       "      <th>75%</th>\n",
       "      <td>1.000000</td>\n",
       "      <td>24.000000</td>\n",
       "      <td>3972.250000</td>\n",
       "      <td>4.000000</td>\n",
       "      <td>4.000000</td>\n",
       "      <td>42.000000</td>\n",
       "      <td>2.000000</td>\n",
       "      <td>1.000000</td>\n",
       "    </tr>\n",
       "    <tr>\n",
       "      <th>max</th>\n",
       "      <td>1.000000</td>\n",
       "      <td>72.000000</td>\n",
       "      <td>18424.000000</td>\n",
       "      <td>4.000000</td>\n",
       "      <td>4.000000</td>\n",
       "      <td>75.000000</td>\n",
       "      <td>4.000000</td>\n",
       "      <td>2.000000</td>\n",
       "    </tr>\n",
       "  </tbody>\n",
       "</table>\n",
       "</div>"
      ],
      "text/plain": [
       "           default  duration_in_month  credit_amount  \\\n",
       "count  1000.000000        1000.000000    1000.000000   \n",
       "mean      0.300000          20.903000    3271.258000   \n",
       "std       0.458487          12.058814    2822.736876   \n",
       "min       0.000000           4.000000     250.000000   \n",
       "25%       0.000000          12.000000    1365.500000   \n",
       "50%       0.000000          18.000000    2319.500000   \n",
       "75%       1.000000          24.000000    3972.250000   \n",
       "max       1.000000          72.000000   18424.000000   \n",
       "\n",
       "       installment_as_income_perc  present_res_since          age  \\\n",
       "count                 1000.000000        1000.000000  1000.000000   \n",
       "mean                     2.973000           2.845000    35.546000   \n",
       "std                      1.118715           1.103718    11.375469   \n",
       "min                      1.000000           1.000000    19.000000   \n",
       "25%                      2.000000           2.000000    27.000000   \n",
       "50%                      3.000000           3.000000    33.000000   \n",
       "75%                      4.000000           4.000000    42.000000   \n",
       "max                      4.000000           4.000000    75.000000   \n",
       "\n",
       "       credits_this_bank  people_under_maintenance  \n",
       "count        1000.000000               1000.000000  \n",
       "mean            1.407000                  1.155000  \n",
       "std             0.577654                  0.362086  \n",
       "min             1.000000                  1.000000  \n",
       "25%             1.000000                  1.000000  \n",
       "50%             1.000000                  1.000000  \n",
       "75%             2.000000                  1.000000  \n",
       "max             4.000000                  2.000000  "
      ]
     },
     "execution_count": 5,
     "metadata": {},
     "output_type": "execute_result"
    }
   ],
   "source": [
    "new_credit_df.describe(include=[np.number])\n"
   ]
  },
  {
   "cell_type": "code",
   "execution_count": 6,
   "metadata": {
    "scrolled": true
   },
   "outputs": [
    {
     "name": "stdout",
     "output_type": "stream",
     "text": [
      "<class 'pandas.core.frame.DataFrame'>\n",
      "RangeIndex: 1000 entries, 0 to 999\n",
      "Data columns (total 21 columns):\n",
      "default                       1000 non-null int64\n",
      "account_check_status          1000 non-null object\n",
      "duration_in_month             1000 non-null int64\n",
      "credit_history                1000 non-null object\n",
      "purpose                       1000 non-null object\n",
      "credit_amount                 1000 non-null int64\n",
      "savings                       1000 non-null object\n",
      "present_emp_since             1000 non-null object\n",
      "installment_as_income_perc    1000 non-null int64\n",
      "personal_status_sex           1000 non-null object\n",
      "other_debtors                 1000 non-null object\n",
      "present_res_since             1000 non-null int64\n",
      "property                      1000 non-null object\n",
      "age                           1000 non-null int64\n",
      "other_installment_plans       1000 non-null object\n",
      "housing                       1000 non-null object\n",
      "credits_this_bank             1000 non-null int64\n",
      "job                           1000 non-null object\n",
      "people_under_maintenance      1000 non-null int64\n",
      "telephone                     1000 non-null object\n",
      "foreign_worker                1000 non-null object\n",
      "dtypes: int64(8), object(13)\n",
      "memory usage: 164.1+ KB\n"
     ]
    }
   ],
   "source": [
    "new_credit_df.info()  # many columns are of type object i.e. strings. These need to be converted to ordinal type"
   ]
  },
  {
   "cell_type": "code",
   "execution_count": null,
   "metadata": {},
   "outputs": [],
   "source": []
  },
  {
   "cell_type": "code",
   "execution_count": 7,
   "metadata": {
    "colab": {},
    "colab_type": "code",
    "id": "EC9Oup3w_0on",
    "outputId": "08aa9a88-57df-4c19-ee40-7335b11c8b0d"
   },
   "outputs": [],
   "source": [
    "# You can access from https://www.kaggle.com/uciml/german-credit\n",
    "#Read input file and understand the data\n",
    "# \"default\" is my dependent variable"
   ]
  },
  {
   "cell_type": "markdown",
   "metadata": {
    "colab_type": "text",
    "id": "ASgoNlMB_0ov"
   },
   "source": [
    "### Q1 Randomly select 50% data for this use case( 1 Marks)\n",
    "###### Hint: Use train_test_split"
   ]
  },
  {
   "cell_type": "code",
   "execution_count": 8,
   "metadata": {},
   "outputs": [],
   "source": [
    "from sklearn.model_selection import train_test_split\n",
    "train_data, test_data = train_test_split(new_credit_df,test_size=0.5,random_state=42)"
   ]
  },
  {
   "cell_type": "code",
   "execution_count": 9,
   "metadata": {},
   "outputs": [
    {
     "name": "stdout",
     "output_type": "stream",
     "text": [
      "(500, 21)\n",
      "(500, 21)\n"
     ]
    }
   ],
   "source": [
    "print(test_data.shape)\n",
    "print(train_data.shape)"
   ]
  },
  {
   "cell_type": "markdown",
   "metadata": {},
   "source": [
    "# Or we can randomly select the data as shown below"
   ]
  },
  {
   "cell_type": "code",
   "execution_count": 10,
   "metadata": {
    "scrolled": true
   },
   "outputs": [],
   "source": [
    "credit_df=new_credit_df.sample(frac=.5,random_state=1)\n"
   ]
  },
  {
   "cell_type": "code",
   "execution_count": 11,
   "metadata": {
    "scrolled": true
   },
   "outputs": [
    {
     "data": {
      "text/plain": [
       "(500, 21)"
      ]
     },
     "execution_count": 11,
     "metadata": {},
     "output_type": "execute_result"
    }
   ],
   "source": [
    "credit_df.shape"
   ]
  },
  {
   "cell_type": "markdown",
   "metadata": {},
   "source": [
    "# Here we can see the original Dataset has been split into 50% with random data from the dataset credit_df"
   ]
  },
  {
   "cell_type": "code",
   "execution_count": 12,
   "metadata": {},
   "outputs": [
    {
     "data": {
      "text/plain": [
       "(500, 21)"
      ]
     },
     "execution_count": 12,
     "metadata": {},
     "output_type": "execute_result"
    }
   ],
   "source": [
    "credit_df.shape"
   ]
  },
  {
   "cell_type": "code",
   "execution_count": 13,
   "metadata": {},
   "outputs": [
    {
     "data": {
      "text/html": [
       "<div>\n",
       "<style scoped>\n",
       "    .dataframe tbody tr th:only-of-type {\n",
       "        vertical-align: middle;\n",
       "    }\n",
       "\n",
       "    .dataframe tbody tr th {\n",
       "        vertical-align: top;\n",
       "    }\n",
       "\n",
       "    .dataframe thead th {\n",
       "        text-align: right;\n",
       "    }\n",
       "</style>\n",
       "<table border=\"1\" class=\"dataframe\">\n",
       "  <thead>\n",
       "    <tr style=\"text-align: right;\">\n",
       "      <th></th>\n",
       "      <th>default</th>\n",
       "      <th>account_check_status</th>\n",
       "      <th>duration_in_month</th>\n",
       "      <th>credit_history</th>\n",
       "      <th>purpose</th>\n",
       "      <th>credit_amount</th>\n",
       "      <th>savings</th>\n",
       "      <th>present_emp_since</th>\n",
       "      <th>installment_as_income_perc</th>\n",
       "      <th>personal_status_sex</th>\n",
       "      <th>...</th>\n",
       "      <th>present_res_since</th>\n",
       "      <th>property</th>\n",
       "      <th>age</th>\n",
       "      <th>other_installment_plans</th>\n",
       "      <th>housing</th>\n",
       "      <th>credits_this_bank</th>\n",
       "      <th>job</th>\n",
       "      <th>people_under_maintenance</th>\n",
       "      <th>telephone</th>\n",
       "      <th>foreign_worker</th>\n",
       "    </tr>\n",
       "  </thead>\n",
       "  <tbody>\n",
       "    <tr>\n",
       "      <th>507</th>\n",
       "      <td>1</td>\n",
       "      <td>0 &lt;= ... &lt; 200 DM</td>\n",
       "      <td>15</td>\n",
       "      <td>all credits at this bank paid back duly</td>\n",
       "      <td>car (new)</td>\n",
       "      <td>6850</td>\n",
       "      <td>100 &lt;= ... &lt; 500 DM</td>\n",
       "      <td>unemployed</td>\n",
       "      <td>1</td>\n",
       "      <td>male : single</td>\n",
       "      <td>...</td>\n",
       "      <td>2</td>\n",
       "      <td>if not A121 : building society savings agreeme...</td>\n",
       "      <td>34</td>\n",
       "      <td>none</td>\n",
       "      <td>own</td>\n",
       "      <td>1</td>\n",
       "      <td>management/ self-employed/ highly qualified em...</td>\n",
       "      <td>2</td>\n",
       "      <td>yes, registered under the customers name</td>\n",
       "      <td>yes</td>\n",
       "    </tr>\n",
       "    <tr>\n",
       "      <th>818</th>\n",
       "      <td>0</td>\n",
       "      <td>&lt; 0 DM</td>\n",
       "      <td>36</td>\n",
       "      <td>existing credits paid back duly till now</td>\n",
       "      <td>furniture/equipment</td>\n",
       "      <td>15857</td>\n",
       "      <td>... &lt; 100 DM</td>\n",
       "      <td>unemployed</td>\n",
       "      <td>2</td>\n",
       "      <td>male : divorced/separated</td>\n",
       "      <td>...</td>\n",
       "      <td>3</td>\n",
       "      <td>if not A121/A122 : car or other, not in attrib...</td>\n",
       "      <td>43</td>\n",
       "      <td>none</td>\n",
       "      <td>own</td>\n",
       "      <td>1</td>\n",
       "      <td>management/ self-employed/ highly qualified em...</td>\n",
       "      <td>1</td>\n",
       "      <td>none</td>\n",
       "      <td>yes</td>\n",
       "    </tr>\n",
       "    <tr>\n",
       "      <th>452</th>\n",
       "      <td>0</td>\n",
       "      <td>no checking account</td>\n",
       "      <td>12</td>\n",
       "      <td>no credits taken/ all credits paid back duly</td>\n",
       "      <td>radio/television</td>\n",
       "      <td>2759</td>\n",
       "      <td>... &lt; 100 DM</td>\n",
       "      <td>.. &gt;= 7 years</td>\n",
       "      <td>2</td>\n",
       "      <td>male : single</td>\n",
       "      <td>...</td>\n",
       "      <td>4</td>\n",
       "      <td>if not A121 : building society savings agreeme...</td>\n",
       "      <td>34</td>\n",
       "      <td>none</td>\n",
       "      <td>own</td>\n",
       "      <td>2</td>\n",
       "      <td>skilled employee / official</td>\n",
       "      <td>1</td>\n",
       "      <td>none</td>\n",
       "      <td>yes</td>\n",
       "    </tr>\n",
       "    <tr>\n",
       "      <th>368</th>\n",
       "      <td>1</td>\n",
       "      <td>&lt; 0 DM</td>\n",
       "      <td>36</td>\n",
       "      <td>existing credits paid back duly till now</td>\n",
       "      <td>radio/television</td>\n",
       "      <td>3446</td>\n",
       "      <td>... &lt; 100 DM</td>\n",
       "      <td>.. &gt;= 7 years</td>\n",
       "      <td>4</td>\n",
       "      <td>male : single</td>\n",
       "      <td>...</td>\n",
       "      <td>2</td>\n",
       "      <td>if not A121/A122 : car or other, not in attrib...</td>\n",
       "      <td>42</td>\n",
       "      <td>none</td>\n",
       "      <td>own</td>\n",
       "      <td>1</td>\n",
       "      <td>skilled employee / official</td>\n",
       "      <td>2</td>\n",
       "      <td>none</td>\n",
       "      <td>yes</td>\n",
       "    </tr>\n",
       "    <tr>\n",
       "      <th>242</th>\n",
       "      <td>1</td>\n",
       "      <td>&lt; 0 DM</td>\n",
       "      <td>48</td>\n",
       "      <td>no credits taken/ all credits paid back duly</td>\n",
       "      <td>car (used)</td>\n",
       "      <td>4605</td>\n",
       "      <td>... &lt; 100 DM</td>\n",
       "      <td>.. &gt;= 7 years</td>\n",
       "      <td>3</td>\n",
       "      <td>male : single</td>\n",
       "      <td>...</td>\n",
       "      <td>4</td>\n",
       "      <td>unknown / no property</td>\n",
       "      <td>24</td>\n",
       "      <td>none</td>\n",
       "      <td>for free</td>\n",
       "      <td>2</td>\n",
       "      <td>skilled employee / official</td>\n",
       "      <td>2</td>\n",
       "      <td>none</td>\n",
       "      <td>yes</td>\n",
       "    </tr>\n",
       "  </tbody>\n",
       "</table>\n",
       "<p>5 rows × 21 columns</p>\n",
       "</div>"
      ],
      "text/plain": [
       "     default account_check_status  duration_in_month  \\\n",
       "507        1    0 <= ... < 200 DM                 15   \n",
       "818        0               < 0 DM                 36   \n",
       "452        0  no checking account                 12   \n",
       "368        1               < 0 DM                 36   \n",
       "242        1               < 0 DM                 48   \n",
       "\n",
       "                                   credit_history              purpose  \\\n",
       "507       all credits at this bank paid back duly            car (new)   \n",
       "818      existing credits paid back duly till now  furniture/equipment   \n",
       "452  no credits taken/ all credits paid back duly     radio/television   \n",
       "368      existing credits paid back duly till now     radio/television   \n",
       "242  no credits taken/ all credits paid back duly           car (used)   \n",
       "\n",
       "     credit_amount              savings present_emp_since  \\\n",
       "507           6850  100 <= ... < 500 DM        unemployed   \n",
       "818          15857         ... < 100 DM        unemployed   \n",
       "452           2759         ... < 100 DM     .. >= 7 years   \n",
       "368           3446         ... < 100 DM     .. >= 7 years   \n",
       "242           4605         ... < 100 DM     .. >= 7 years   \n",
       "\n",
       "     installment_as_income_perc        personal_status_sex      ...        \\\n",
       "507                           1              male : single      ...         \n",
       "818                           2  male : divorced/separated      ...         \n",
       "452                           2              male : single      ...         \n",
       "368                           4              male : single      ...         \n",
       "242                           3              male : single      ...         \n",
       "\n",
       "    present_res_since                                           property age  \\\n",
       "507                 2  if not A121 : building society savings agreeme...  34   \n",
       "818                 3  if not A121/A122 : car or other, not in attrib...  43   \n",
       "452                 4  if not A121 : building society savings agreeme...  34   \n",
       "368                 2  if not A121/A122 : car or other, not in attrib...  42   \n",
       "242                 4                              unknown / no property  24   \n",
       "\n",
       "     other_installment_plans   housing credits_this_bank  \\\n",
       "507                     none       own                 1   \n",
       "818                     none       own                 1   \n",
       "452                     none       own                 2   \n",
       "368                     none       own                 1   \n",
       "242                     none  for free                 2   \n",
       "\n",
       "                                                   job  \\\n",
       "507  management/ self-employed/ highly qualified em...   \n",
       "818  management/ self-employed/ highly qualified em...   \n",
       "452                        skilled employee / official   \n",
       "368                        skilled employee / official   \n",
       "242                        skilled employee / official   \n",
       "\n",
       "    people_under_maintenance                                  telephone  \\\n",
       "507                        2  yes, registered under the customers name    \n",
       "818                        1                                       none   \n",
       "452                        1                                       none   \n",
       "368                        2                                       none   \n",
       "242                        2                                       none   \n",
       "\n",
       "    foreign_worker  \n",
       "507            yes  \n",
       "818            yes  \n",
       "452            yes  \n",
       "368            yes  \n",
       "242            yes  \n",
       "\n",
       "[5 rows x 21 columns]"
      ]
     },
     "execution_count": 13,
     "metadata": {},
     "output_type": "execute_result"
    }
   ],
   "source": [
    "credit_df.head(5)"
   ]
  },
  {
   "cell_type": "code",
   "execution_count": 14,
   "metadata": {
    "colab": {},
    "colab_type": "code",
    "id": "gKaiZis__0o0"
   },
   "outputs": [],
   "source": [
    "# Lets build a Ensemble model but need to modify the dataset first\n"
   ]
  },
  {
   "cell_type": "markdown",
   "metadata": {
    "colab_type": "text",
    "id": "utYEGBER_0o4"
   },
   "source": [
    "### Q2.Prepare the model data by converting non-numeric to dummy ( 1 Marks)\n",
    "##### Hint: Use get_dummies"
   ]
  },
  {
   "cell_type": "code",
   "execution_count": 15,
   "metadata": {},
   "outputs": [],
   "source": [
    "dummy_data = pd.get_dummies(train_data)"
   ]
  },
  {
   "cell_type": "code",
   "execution_count": 16,
   "metadata": {},
   "outputs": [
    {
     "data": {
      "text/plain": [
       "(500, 62)"
      ]
     },
     "execution_count": 16,
     "metadata": {},
     "output_type": "execute_result"
    }
   ],
   "source": [
    "dummy_data.shape"
   ]
  },
  {
   "cell_type": "markdown",
   "metadata": {},
   "source": [
    "# As we using dummy have 62 columns , this makes understanding the data very complex, instead we will code the Independent variables into integers as shown below and retain 21 columns as the original dataset"
   ]
  },
  {
   "cell_type": "code",
   "execution_count": 17,
   "metadata": {
    "colab": {},
    "colab_type": "code",
    "id": "wjyTJcA6_0o6",
    "outputId": "e6bf7e9d-5732-4836-c0bb-fe03ba34683e"
   },
   "outputs": [],
   "source": [
    "for feature in credit_df.columns: # Loop through all columns in the dataframe\n",
    "    if credit_df[feature].dtype == 'object': # Only apply for columns with categorical strings\n",
    "        credit_df[feature] = pd.Categorical(credit_df[feature]).codes # Replace strings with an integer"
   ]
  },
  {
   "cell_type": "code",
   "execution_count": 18,
   "metadata": {},
   "outputs": [
    {
     "data": {
      "text/plain": [
       "(500, 21)"
      ]
     },
     "execution_count": 18,
     "metadata": {},
     "output_type": "execute_result"
    }
   ],
   "source": [
    "# Print Shape of model data\n",
    "credit_df.shape"
   ]
  },
  {
   "cell_type": "markdown",
   "metadata": {
    "colab_type": "text",
    "id": "ytl4nlUW_0pA"
   },
   "source": [
    "### Check for highly correlated variables but don't required any treatment for this use case"
   ]
  },
  {
   "cell_type": "code",
   "execution_count": 19,
   "metadata": {
    "colab": {},
    "colab_type": "code",
    "id": "0W02DKRx_0pA"
   },
   "outputs": [
    {
     "data": {
      "text/html": [
       "<div>\n",
       "<style scoped>\n",
       "    .dataframe tbody tr th:only-of-type {\n",
       "        vertical-align: middle;\n",
       "    }\n",
       "\n",
       "    .dataframe tbody tr th {\n",
       "        vertical-align: top;\n",
       "    }\n",
       "\n",
       "    .dataframe thead th {\n",
       "        text-align: right;\n",
       "    }\n",
       "</style>\n",
       "<table border=\"1\" class=\"dataframe\">\n",
       "  <thead>\n",
       "    <tr style=\"text-align: right;\">\n",
       "      <th></th>\n",
       "      <th>default</th>\n",
       "      <th>account_check_status</th>\n",
       "      <th>duration_in_month</th>\n",
       "      <th>credit_history</th>\n",
       "      <th>purpose</th>\n",
       "      <th>credit_amount</th>\n",
       "      <th>savings</th>\n",
       "      <th>present_emp_since</th>\n",
       "      <th>installment_as_income_perc</th>\n",
       "      <th>personal_status_sex</th>\n",
       "      <th>...</th>\n",
       "      <th>present_res_since</th>\n",
       "      <th>property</th>\n",
       "      <th>age</th>\n",
       "      <th>other_installment_plans</th>\n",
       "      <th>housing</th>\n",
       "      <th>credits_this_bank</th>\n",
       "      <th>job</th>\n",
       "      <th>people_under_maintenance</th>\n",
       "      <th>telephone</th>\n",
       "      <th>foreign_worker</th>\n",
       "    </tr>\n",
       "  </thead>\n",
       "  <tbody>\n",
       "    <tr>\n",
       "      <th>default</th>\n",
       "      <td>1.000000</td>\n",
       "      <td>-0.294487</td>\n",
       "      <td>0.274729</td>\n",
       "      <td>0.060430</td>\n",
       "      <td>-0.086909</td>\n",
       "      <td>0.209066</td>\n",
       "      <td>-0.134534</td>\n",
       "      <td>0.067787</td>\n",
       "      <td>0.014660</td>\n",
       "      <td>-0.076176</td>\n",
       "      <td>...</td>\n",
       "      <td>0.009692</td>\n",
       "      <td>0.081690</td>\n",
       "      <td>-0.044395</td>\n",
       "      <td>-0.054159</td>\n",
       "      <td>-0.030872</td>\n",
       "      <td>-0.042880</td>\n",
       "      <td>-0.078347</td>\n",
       "      <td>-0.008988</td>\n",
       "      <td>-0.004295</td>\n",
       "      <td>0.094948</td>\n",
       "    </tr>\n",
       "    <tr>\n",
       "      <th>account_check_status</th>\n",
       "      <td>-0.294487</td>\n",
       "      <td>1.000000</td>\n",
       "      <td>-0.081245</td>\n",
       "      <td>-0.076958</td>\n",
       "      <td>0.039658</td>\n",
       "      <td>-0.116052</td>\n",
       "      <td>0.110159</td>\n",
       "      <td>-0.078524</td>\n",
       "      <td>0.056164</td>\n",
       "      <td>-0.034408</td>\n",
       "      <td>...</td>\n",
       "      <td>-0.026435</td>\n",
       "      <td>-0.028463</td>\n",
       "      <td>0.090204</td>\n",
       "      <td>0.043740</td>\n",
       "      <td>-0.012952</td>\n",
       "      <td>0.031075</td>\n",
       "      <td>-0.066639</td>\n",
       "      <td>0.034786</td>\n",
       "      <td>0.021235</td>\n",
       "      <td>0.024687</td>\n",
       "    </tr>\n",
       "    <tr>\n",
       "      <th>duration_in_month</th>\n",
       "      <td>0.274729</td>\n",
       "      <td>-0.081245</td>\n",
       "      <td>1.000000</td>\n",
       "      <td>0.075008</td>\n",
       "      <td>-0.094375</td>\n",
       "      <td>0.628854</td>\n",
       "      <td>0.084194</td>\n",
       "      <td>0.043053</td>\n",
       "      <td>0.029655</td>\n",
       "      <td>0.088890</td>\n",
       "      <td>...</td>\n",
       "      <td>0.073515</td>\n",
       "      <td>0.044287</td>\n",
       "      <td>-0.017726</td>\n",
       "      <td>-0.013887</td>\n",
       "      <td>-0.112747</td>\n",
       "      <td>0.053460</td>\n",
       "      <td>-0.194697</td>\n",
       "      <td>0.006393</td>\n",
       "      <td>0.145770</td>\n",
       "      <td>0.150361</td>\n",
       "    </tr>\n",
       "    <tr>\n",
       "      <th>credit_history</th>\n",
       "      <td>0.060430</td>\n",
       "      <td>-0.076958</td>\n",
       "      <td>0.075008</td>\n",
       "      <td>1.000000</td>\n",
       "      <td>-0.010207</td>\n",
       "      <td>0.070686</td>\n",
       "      <td>0.047746</td>\n",
       "      <td>0.024029</td>\n",
       "      <td>-0.069303</td>\n",
       "      <td>-0.022803</td>\n",
       "      <td>...</td>\n",
       "      <td>-0.052423</td>\n",
       "      <td>-0.035143</td>\n",
       "      <td>-0.146290</td>\n",
       "      <td>0.036964</td>\n",
       "      <td>0.081153</td>\n",
       "      <td>-0.375984</td>\n",
       "      <td>0.012110</td>\n",
       "      <td>-0.072115</td>\n",
       "      <td>-0.048680</td>\n",
       "      <td>0.025482</td>\n",
       "    </tr>\n",
       "    <tr>\n",
       "      <th>purpose</th>\n",
       "      <td>-0.086909</td>\n",
       "      <td>0.039658</td>\n",
       "      <td>-0.094375</td>\n",
       "      <td>-0.010207</td>\n",
       "      <td>1.000000</td>\n",
       "      <td>-0.045574</td>\n",
       "      <td>0.020486</td>\n",
       "      <td>0.011191</td>\n",
       "      <td>0.000645</td>\n",
       "      <td>-0.060161</td>\n",
       "      <td>...</td>\n",
       "      <td>-0.006833</td>\n",
       "      <td>-0.108613</td>\n",
       "      <td>-0.107610</td>\n",
       "      <td>0.104983</td>\n",
       "      <td>0.102131</td>\n",
       "      <td>-0.084721</td>\n",
       "      <td>0.018752</td>\n",
       "      <td>-0.124252</td>\n",
       "      <td>-0.098631</td>\n",
       "      <td>0.042083</td>\n",
       "    </tr>\n",
       "    <tr>\n",
       "      <th>credit_amount</th>\n",
       "      <td>0.209066</td>\n",
       "      <td>-0.116052</td>\n",
       "      <td>0.628854</td>\n",
       "      <td>0.070686</td>\n",
       "      <td>-0.045574</td>\n",
       "      <td>1.000000</td>\n",
       "      <td>0.062178</td>\n",
       "      <td>0.119330</td>\n",
       "      <td>-0.329122</td>\n",
       "      <td>0.091325</td>\n",
       "      <td>...</td>\n",
       "      <td>0.019531</td>\n",
       "      <td>0.065655</td>\n",
       "      <td>0.002779</td>\n",
       "      <td>-0.033546</td>\n",
       "      <td>-0.069050</td>\n",
       "      <td>0.064565</td>\n",
       "      <td>-0.220311</td>\n",
       "      <td>0.017159</td>\n",
       "      <td>0.235923</td>\n",
       "      <td>0.036255</td>\n",
       "    </tr>\n",
       "    <tr>\n",
       "      <th>savings</th>\n",
       "      <td>-0.134534</td>\n",
       "      <td>0.110159</td>\n",
       "      <td>0.084194</td>\n",
       "      <td>0.047746</td>\n",
       "      <td>0.020486</td>\n",
       "      <td>0.062178</td>\n",
       "      <td>1.000000</td>\n",
       "      <td>-0.050506</td>\n",
       "      <td>0.008843</td>\n",
       "      <td>0.047798</td>\n",
       "      <td>...</td>\n",
       "      <td>0.055079</td>\n",
       "      <td>-0.078925</td>\n",
       "      <td>0.032222</td>\n",
       "      <td>-0.007646</td>\n",
       "      <td>-0.007373</td>\n",
       "      <td>-0.091568</td>\n",
       "      <td>-0.073711</td>\n",
       "      <td>0.021784</td>\n",
       "      <td>0.070216</td>\n",
       "      <td>-0.022969</td>\n",
       "    </tr>\n",
       "    <tr>\n",
       "      <th>present_emp_since</th>\n",
       "      <td>0.067787</td>\n",
       "      <td>-0.078524</td>\n",
       "      <td>0.043053</td>\n",
       "      <td>0.024029</td>\n",
       "      <td>0.011191</td>\n",
       "      <td>0.119330</td>\n",
       "      <td>-0.050506</td>\n",
       "      <td>1.000000</td>\n",
       "      <td>-0.127663</td>\n",
       "      <td>-0.090662</td>\n",
       "      <td>...</td>\n",
       "      <td>-0.234572</td>\n",
       "      <td>-0.053563</td>\n",
       "      <td>-0.285289</td>\n",
       "      <td>0.097790</td>\n",
       "      <td>0.094255</td>\n",
       "      <td>-0.039602</td>\n",
       "      <td>0.041964</td>\n",
       "      <td>-0.068641</td>\n",
       "      <td>-0.038376</td>\n",
       "      <td>0.016855</td>\n",
       "    </tr>\n",
       "    <tr>\n",
       "      <th>installment_as_income_perc</th>\n",
       "      <td>0.014660</td>\n",
       "      <td>0.056164</td>\n",
       "      <td>0.029655</td>\n",
       "      <td>-0.069303</td>\n",
       "      <td>0.000645</td>\n",
       "      <td>-0.329122</td>\n",
       "      <td>0.008843</td>\n",
       "      <td>-0.127663</td>\n",
       "      <td>1.000000</td>\n",
       "      <td>0.116774</td>\n",
       "      <td>...</td>\n",
       "      <td>0.071117</td>\n",
       "      <td>-0.010399</td>\n",
       "      <td>0.080264</td>\n",
       "      <td>0.060629</td>\n",
       "      <td>-0.140426</td>\n",
       "      <td>0.024295</td>\n",
       "      <td>-0.103368</td>\n",
       "      <td>-0.060136</td>\n",
       "      <td>0.035454</td>\n",
       "      <td>0.144436</td>\n",
       "    </tr>\n",
       "    <tr>\n",
       "      <th>personal_status_sex</th>\n",
       "      <td>-0.076176</td>\n",
       "      <td>-0.034408</td>\n",
       "      <td>0.088890</td>\n",
       "      <td>-0.022803</td>\n",
       "      <td>-0.060161</td>\n",
       "      <td>0.091325</td>\n",
       "      <td>0.047798</td>\n",
       "      <td>-0.090662</td>\n",
       "      <td>0.116774</td>\n",
       "      <td>1.000000</td>\n",
       "      <td>...</td>\n",
       "      <td>0.040173</td>\n",
       "      <td>0.006105</td>\n",
       "      <td>0.190109</td>\n",
       "      <td>0.066587</td>\n",
       "      <td>-0.251691</td>\n",
       "      <td>0.117670</td>\n",
       "      <td>0.020841</td>\n",
       "      <td>0.251439</td>\n",
       "      <td>0.030319</td>\n",
       "      <td>-0.058457</td>\n",
       "    </tr>\n",
       "    <tr>\n",
       "      <th>other_debtors</th>\n",
       "      <td>-0.014026</td>\n",
       "      <td>0.075741</td>\n",
       "      <td>-0.020373</td>\n",
       "      <td>-0.055793</td>\n",
       "      <td>-0.128581</td>\n",
       "      <td>-0.079492</td>\n",
       "      <td>0.061679</td>\n",
       "      <td>-0.030851</td>\n",
       "      <td>0.060738</td>\n",
       "      <td>-0.011658</td>\n",
       "      <td>...</td>\n",
       "      <td>0.069993</td>\n",
       "      <td>-0.046758</td>\n",
       "      <td>0.029139</td>\n",
       "      <td>0.025973</td>\n",
       "      <td>-0.071626</td>\n",
       "      <td>0.084824</td>\n",
       "      <td>-0.025185</td>\n",
       "      <td>-0.013298</td>\n",
       "      <td>0.073081</td>\n",
       "      <td>0.163009</td>\n",
       "    </tr>\n",
       "    <tr>\n",
       "      <th>present_res_since</th>\n",
       "      <td>0.009692</td>\n",
       "      <td>-0.026435</td>\n",
       "      <td>0.073515</td>\n",
       "      <td>-0.052423</td>\n",
       "      <td>-0.006833</td>\n",
       "      <td>0.019531</td>\n",
       "      <td>0.055079</td>\n",
       "      <td>-0.234572</td>\n",
       "      <td>0.071117</td>\n",
       "      <td>0.040173</td>\n",
       "      <td>...</td>\n",
       "      <td>1.000000</td>\n",
       "      <td>0.080319</td>\n",
       "      <td>0.259530</td>\n",
       "      <td>-0.024953</td>\n",
       "      <td>0.037955</td>\n",
       "      <td>0.113783</td>\n",
       "      <td>-0.024999</td>\n",
       "      <td>0.031045</td>\n",
       "      <td>0.124425</td>\n",
       "      <td>0.020605</td>\n",
       "    </tr>\n",
       "    <tr>\n",
       "      <th>property</th>\n",
       "      <td>0.081690</td>\n",
       "      <td>-0.028463</td>\n",
       "      <td>0.044287</td>\n",
       "      <td>-0.035143</td>\n",
       "      <td>-0.108613</td>\n",
       "      <td>0.065655</td>\n",
       "      <td>-0.078925</td>\n",
       "      <td>-0.053563</td>\n",
       "      <td>-0.010399</td>\n",
       "      <td>0.006105</td>\n",
       "      <td>...</td>\n",
       "      <td>0.080319</td>\n",
       "      <td>1.000000</td>\n",
       "      <td>0.150980</td>\n",
       "      <td>-0.011954</td>\n",
       "      <td>-0.357292</td>\n",
       "      <td>0.023739</td>\n",
       "      <td>0.024344</td>\n",
       "      <td>0.020134</td>\n",
       "      <td>0.086667</td>\n",
       "      <td>-0.065983</td>\n",
       "    </tr>\n",
       "    <tr>\n",
       "      <th>age</th>\n",
       "      <td>-0.044395</td>\n",
       "      <td>0.090204</td>\n",
       "      <td>-0.017726</td>\n",
       "      <td>-0.146290</td>\n",
       "      <td>-0.107610</td>\n",
       "      <td>0.002779</td>\n",
       "      <td>0.032222</td>\n",
       "      <td>-0.285289</td>\n",
       "      <td>0.080264</td>\n",
       "      <td>0.190109</td>\n",
       "      <td>...</td>\n",
       "      <td>0.259530</td>\n",
       "      <td>0.150980</td>\n",
       "      <td>1.000000</td>\n",
       "      <td>-0.071878</td>\n",
       "      <td>-0.322773</td>\n",
       "      <td>0.158247</td>\n",
       "      <td>-0.032927</td>\n",
       "      <td>0.143692</td>\n",
       "      <td>0.149404</td>\n",
       "      <td>-0.017018</td>\n",
       "    </tr>\n",
       "    <tr>\n",
       "      <th>other_installment_plans</th>\n",
       "      <td>-0.054159</td>\n",
       "      <td>0.043740</td>\n",
       "      <td>-0.013887</td>\n",
       "      <td>0.036964</td>\n",
       "      <td>0.104983</td>\n",
       "      <td>-0.033546</td>\n",
       "      <td>-0.007646</td>\n",
       "      <td>0.097790</td>\n",
       "      <td>0.060629</td>\n",
       "      <td>0.066587</td>\n",
       "      <td>...</td>\n",
       "      <td>-0.024953</td>\n",
       "      <td>-0.011954</td>\n",
       "      <td>-0.071878</td>\n",
       "      <td>1.000000</td>\n",
       "      <td>-0.006753</td>\n",
       "      <td>0.007954</td>\n",
       "      <td>-0.045578</td>\n",
       "      <td>-0.086966</td>\n",
       "      <td>0.030817</td>\n",
       "      <td>0.041859</td>\n",
       "    </tr>\n",
       "    <tr>\n",
       "      <th>housing</th>\n",
       "      <td>-0.030872</td>\n",
       "      <td>-0.012952</td>\n",
       "      <td>-0.112747</td>\n",
       "      <td>0.081153</td>\n",
       "      <td>0.102131</td>\n",
       "      <td>-0.069050</td>\n",
       "      <td>-0.007373</td>\n",
       "      <td>0.094255</td>\n",
       "      <td>-0.140426</td>\n",
       "      <td>-0.251691</td>\n",
       "      <td>...</td>\n",
       "      <td>0.037955</td>\n",
       "      <td>-0.357292</td>\n",
       "      <td>-0.322773</td>\n",
       "      <td>-0.006753</td>\n",
       "      <td>1.000000</td>\n",
       "      <td>-0.127429</td>\n",
       "      <td>0.081238</td>\n",
       "      <td>-0.135548</td>\n",
       "      <td>-0.062764</td>\n",
       "      <td>-0.079768</td>\n",
       "    </tr>\n",
       "    <tr>\n",
       "      <th>credits_this_bank</th>\n",
       "      <td>-0.042880</td>\n",
       "      <td>0.031075</td>\n",
       "      <td>0.053460</td>\n",
       "      <td>-0.375984</td>\n",
       "      <td>-0.084721</td>\n",
       "      <td>0.064565</td>\n",
       "      <td>-0.091568</td>\n",
       "      <td>-0.039602</td>\n",
       "      <td>0.024295</td>\n",
       "      <td>0.117670</td>\n",
       "      <td>...</td>\n",
       "      <td>0.113783</td>\n",
       "      <td>0.023739</td>\n",
       "      <td>0.158247</td>\n",
       "      <td>0.007954</td>\n",
       "      <td>-0.127429</td>\n",
       "      <td>1.000000</td>\n",
       "      <td>-0.038348</td>\n",
       "      <td>0.104409</td>\n",
       "      <td>0.133521</td>\n",
       "      <td>0.000725</td>\n",
       "    </tr>\n",
       "    <tr>\n",
       "      <th>job</th>\n",
       "      <td>-0.078347</td>\n",
       "      <td>-0.066639</td>\n",
       "      <td>-0.194697</td>\n",
       "      <td>0.012110</td>\n",
       "      <td>0.018752</td>\n",
       "      <td>-0.220311</td>\n",
       "      <td>-0.073711</td>\n",
       "      <td>0.041964</td>\n",
       "      <td>-0.103368</td>\n",
       "      <td>0.020841</td>\n",
       "      <td>...</td>\n",
       "      <td>-0.024999</td>\n",
       "      <td>0.024344</td>\n",
       "      <td>-0.032927</td>\n",
       "      <td>-0.045578</td>\n",
       "      <td>0.081238</td>\n",
       "      <td>-0.038348</td>\n",
       "      <td>1.000000</td>\n",
       "      <td>0.156433</td>\n",
       "      <td>-0.367393</td>\n",
       "      <td>-0.100564</td>\n",
       "    </tr>\n",
       "    <tr>\n",
       "      <th>people_under_maintenance</th>\n",
       "      <td>-0.008988</td>\n",
       "      <td>0.034786</td>\n",
       "      <td>0.006393</td>\n",
       "      <td>-0.072115</td>\n",
       "      <td>-0.124252</td>\n",
       "      <td>0.017159</td>\n",
       "      <td>0.021784</td>\n",
       "      <td>-0.068641</td>\n",
       "      <td>-0.060136</td>\n",
       "      <td>0.251439</td>\n",
       "      <td>...</td>\n",
       "      <td>0.031045</td>\n",
       "      <td>0.020134</td>\n",
       "      <td>0.143692</td>\n",
       "      <td>-0.086966</td>\n",
       "      <td>-0.135548</td>\n",
       "      <td>0.104409</td>\n",
       "      <td>0.156433</td>\n",
       "      <td>1.000000</td>\n",
       "      <td>-0.054977</td>\n",
       "      <td>-0.148438</td>\n",
       "    </tr>\n",
       "    <tr>\n",
       "      <th>telephone</th>\n",
       "      <td>-0.004295</td>\n",
       "      <td>0.021235</td>\n",
       "      <td>0.145770</td>\n",
       "      <td>-0.048680</td>\n",
       "      <td>-0.098631</td>\n",
       "      <td>0.235923</td>\n",
       "      <td>0.070216</td>\n",
       "      <td>-0.038376</td>\n",
       "      <td>0.035454</td>\n",
       "      <td>0.030319</td>\n",
       "      <td>...</td>\n",
       "      <td>0.124425</td>\n",
       "      <td>0.086667</td>\n",
       "      <td>0.149404</td>\n",
       "      <td>0.030817</td>\n",
       "      <td>-0.062764</td>\n",
       "      <td>0.133521</td>\n",
       "      <td>-0.367393</td>\n",
       "      <td>-0.054977</td>\n",
       "      <td>1.000000</td>\n",
       "      <td>0.114928</td>\n",
       "    </tr>\n",
       "    <tr>\n",
       "      <th>foreign_worker</th>\n",
       "      <td>0.094948</td>\n",
       "      <td>0.024687</td>\n",
       "      <td>0.150361</td>\n",
       "      <td>0.025482</td>\n",
       "      <td>0.042083</td>\n",
       "      <td>0.036255</td>\n",
       "      <td>-0.022969</td>\n",
       "      <td>0.016855</td>\n",
       "      <td>0.144436</td>\n",
       "      <td>-0.058457</td>\n",
       "      <td>...</td>\n",
       "      <td>0.020605</td>\n",
       "      <td>-0.065983</td>\n",
       "      <td>-0.017018</td>\n",
       "      <td>0.041859</td>\n",
       "      <td>-0.079768</td>\n",
       "      <td>0.000725</td>\n",
       "      <td>-0.100564</td>\n",
       "      <td>-0.148438</td>\n",
       "      <td>0.114928</td>\n",
       "      <td>1.000000</td>\n",
       "    </tr>\n",
       "  </tbody>\n",
       "</table>\n",
       "<p>21 rows × 21 columns</p>\n",
       "</div>"
      ],
      "text/plain": [
       "                             default  account_check_status  duration_in_month  \\\n",
       "default                     1.000000             -0.294487           0.274729   \n",
       "account_check_status       -0.294487              1.000000          -0.081245   \n",
       "duration_in_month           0.274729             -0.081245           1.000000   \n",
       "credit_history              0.060430             -0.076958           0.075008   \n",
       "purpose                    -0.086909              0.039658          -0.094375   \n",
       "credit_amount               0.209066             -0.116052           0.628854   \n",
       "savings                    -0.134534              0.110159           0.084194   \n",
       "present_emp_since           0.067787             -0.078524           0.043053   \n",
       "installment_as_income_perc  0.014660              0.056164           0.029655   \n",
       "personal_status_sex        -0.076176             -0.034408           0.088890   \n",
       "other_debtors              -0.014026              0.075741          -0.020373   \n",
       "present_res_since           0.009692             -0.026435           0.073515   \n",
       "property                    0.081690             -0.028463           0.044287   \n",
       "age                        -0.044395              0.090204          -0.017726   \n",
       "other_installment_plans    -0.054159              0.043740          -0.013887   \n",
       "housing                    -0.030872             -0.012952          -0.112747   \n",
       "credits_this_bank          -0.042880              0.031075           0.053460   \n",
       "job                        -0.078347             -0.066639          -0.194697   \n",
       "people_under_maintenance   -0.008988              0.034786           0.006393   \n",
       "telephone                  -0.004295              0.021235           0.145770   \n",
       "foreign_worker              0.094948              0.024687           0.150361   \n",
       "\n",
       "                            credit_history   purpose  credit_amount   savings  \\\n",
       "default                           0.060430 -0.086909       0.209066 -0.134534   \n",
       "account_check_status             -0.076958  0.039658      -0.116052  0.110159   \n",
       "duration_in_month                 0.075008 -0.094375       0.628854  0.084194   \n",
       "credit_history                    1.000000 -0.010207       0.070686  0.047746   \n",
       "purpose                          -0.010207  1.000000      -0.045574  0.020486   \n",
       "credit_amount                     0.070686 -0.045574       1.000000  0.062178   \n",
       "savings                           0.047746  0.020486       0.062178  1.000000   \n",
       "present_emp_since                 0.024029  0.011191       0.119330 -0.050506   \n",
       "installment_as_income_perc       -0.069303  0.000645      -0.329122  0.008843   \n",
       "personal_status_sex              -0.022803 -0.060161       0.091325  0.047798   \n",
       "other_debtors                    -0.055793 -0.128581      -0.079492  0.061679   \n",
       "present_res_since                -0.052423 -0.006833       0.019531  0.055079   \n",
       "property                         -0.035143 -0.108613       0.065655 -0.078925   \n",
       "age                              -0.146290 -0.107610       0.002779  0.032222   \n",
       "other_installment_plans           0.036964  0.104983      -0.033546 -0.007646   \n",
       "housing                           0.081153  0.102131      -0.069050 -0.007373   \n",
       "credits_this_bank                -0.375984 -0.084721       0.064565 -0.091568   \n",
       "job                               0.012110  0.018752      -0.220311 -0.073711   \n",
       "people_under_maintenance         -0.072115 -0.124252       0.017159  0.021784   \n",
       "telephone                        -0.048680 -0.098631       0.235923  0.070216   \n",
       "foreign_worker                    0.025482  0.042083       0.036255 -0.022969   \n",
       "\n",
       "                            present_emp_since  installment_as_income_perc  \\\n",
       "default                              0.067787                    0.014660   \n",
       "account_check_status                -0.078524                    0.056164   \n",
       "duration_in_month                    0.043053                    0.029655   \n",
       "credit_history                       0.024029                   -0.069303   \n",
       "purpose                              0.011191                    0.000645   \n",
       "credit_amount                        0.119330                   -0.329122   \n",
       "savings                             -0.050506                    0.008843   \n",
       "present_emp_since                    1.000000                   -0.127663   \n",
       "installment_as_income_perc          -0.127663                    1.000000   \n",
       "personal_status_sex                 -0.090662                    0.116774   \n",
       "other_debtors                       -0.030851                    0.060738   \n",
       "present_res_since                   -0.234572                    0.071117   \n",
       "property                            -0.053563                   -0.010399   \n",
       "age                                 -0.285289                    0.080264   \n",
       "other_installment_plans              0.097790                    0.060629   \n",
       "housing                              0.094255                   -0.140426   \n",
       "credits_this_bank                   -0.039602                    0.024295   \n",
       "job                                  0.041964                   -0.103368   \n",
       "people_under_maintenance            -0.068641                   -0.060136   \n",
       "telephone                           -0.038376                    0.035454   \n",
       "foreign_worker                       0.016855                    0.144436   \n",
       "\n",
       "                            personal_status_sex       ...        \\\n",
       "default                               -0.076176       ...         \n",
       "account_check_status                  -0.034408       ...         \n",
       "duration_in_month                      0.088890       ...         \n",
       "credit_history                        -0.022803       ...         \n",
       "purpose                               -0.060161       ...         \n",
       "credit_amount                          0.091325       ...         \n",
       "savings                                0.047798       ...         \n",
       "present_emp_since                     -0.090662       ...         \n",
       "installment_as_income_perc             0.116774       ...         \n",
       "personal_status_sex                    1.000000       ...         \n",
       "other_debtors                         -0.011658       ...         \n",
       "present_res_since                      0.040173       ...         \n",
       "property                               0.006105       ...         \n",
       "age                                    0.190109       ...         \n",
       "other_installment_plans                0.066587       ...         \n",
       "housing                               -0.251691       ...         \n",
       "credits_this_bank                      0.117670       ...         \n",
       "job                                    0.020841       ...         \n",
       "people_under_maintenance               0.251439       ...         \n",
       "telephone                              0.030319       ...         \n",
       "foreign_worker                        -0.058457       ...         \n",
       "\n",
       "                            present_res_since  property       age  \\\n",
       "default                              0.009692  0.081690 -0.044395   \n",
       "account_check_status                -0.026435 -0.028463  0.090204   \n",
       "duration_in_month                    0.073515  0.044287 -0.017726   \n",
       "credit_history                      -0.052423 -0.035143 -0.146290   \n",
       "purpose                             -0.006833 -0.108613 -0.107610   \n",
       "credit_amount                        0.019531  0.065655  0.002779   \n",
       "savings                              0.055079 -0.078925  0.032222   \n",
       "present_emp_since                   -0.234572 -0.053563 -0.285289   \n",
       "installment_as_income_perc           0.071117 -0.010399  0.080264   \n",
       "personal_status_sex                  0.040173  0.006105  0.190109   \n",
       "other_debtors                        0.069993 -0.046758  0.029139   \n",
       "present_res_since                    1.000000  0.080319  0.259530   \n",
       "property                             0.080319  1.000000  0.150980   \n",
       "age                                  0.259530  0.150980  1.000000   \n",
       "other_installment_plans             -0.024953 -0.011954 -0.071878   \n",
       "housing                              0.037955 -0.357292 -0.322773   \n",
       "credits_this_bank                    0.113783  0.023739  0.158247   \n",
       "job                                 -0.024999  0.024344 -0.032927   \n",
       "people_under_maintenance             0.031045  0.020134  0.143692   \n",
       "telephone                            0.124425  0.086667  0.149404   \n",
       "foreign_worker                       0.020605 -0.065983 -0.017018   \n",
       "\n",
       "                            other_installment_plans   housing  \\\n",
       "default                                   -0.054159 -0.030872   \n",
       "account_check_status                       0.043740 -0.012952   \n",
       "duration_in_month                         -0.013887 -0.112747   \n",
       "credit_history                             0.036964  0.081153   \n",
       "purpose                                    0.104983  0.102131   \n",
       "credit_amount                             -0.033546 -0.069050   \n",
       "savings                                   -0.007646 -0.007373   \n",
       "present_emp_since                          0.097790  0.094255   \n",
       "installment_as_income_perc                 0.060629 -0.140426   \n",
       "personal_status_sex                        0.066587 -0.251691   \n",
       "other_debtors                              0.025973 -0.071626   \n",
       "present_res_since                         -0.024953  0.037955   \n",
       "property                                  -0.011954 -0.357292   \n",
       "age                                       -0.071878 -0.322773   \n",
       "other_installment_plans                    1.000000 -0.006753   \n",
       "housing                                   -0.006753  1.000000   \n",
       "credits_this_bank                          0.007954 -0.127429   \n",
       "job                                       -0.045578  0.081238   \n",
       "people_under_maintenance                  -0.086966 -0.135548   \n",
       "telephone                                  0.030817 -0.062764   \n",
       "foreign_worker                             0.041859 -0.079768   \n",
       "\n",
       "                            credits_this_bank       job  \\\n",
       "default                             -0.042880 -0.078347   \n",
       "account_check_status                 0.031075 -0.066639   \n",
       "duration_in_month                    0.053460 -0.194697   \n",
       "credit_history                      -0.375984  0.012110   \n",
       "purpose                             -0.084721  0.018752   \n",
       "credit_amount                        0.064565 -0.220311   \n",
       "savings                             -0.091568 -0.073711   \n",
       "present_emp_since                   -0.039602  0.041964   \n",
       "installment_as_income_perc           0.024295 -0.103368   \n",
       "personal_status_sex                  0.117670  0.020841   \n",
       "other_debtors                        0.084824 -0.025185   \n",
       "present_res_since                    0.113783 -0.024999   \n",
       "property                             0.023739  0.024344   \n",
       "age                                  0.158247 -0.032927   \n",
       "other_installment_plans              0.007954 -0.045578   \n",
       "housing                             -0.127429  0.081238   \n",
       "credits_this_bank                    1.000000 -0.038348   \n",
       "job                                 -0.038348  1.000000   \n",
       "people_under_maintenance             0.104409  0.156433   \n",
       "telephone                            0.133521 -0.367393   \n",
       "foreign_worker                       0.000725 -0.100564   \n",
       "\n",
       "                            people_under_maintenance  telephone  \\\n",
       "default                                    -0.008988  -0.004295   \n",
       "account_check_status                        0.034786   0.021235   \n",
       "duration_in_month                           0.006393   0.145770   \n",
       "credit_history                             -0.072115  -0.048680   \n",
       "purpose                                    -0.124252  -0.098631   \n",
       "credit_amount                               0.017159   0.235923   \n",
       "savings                                     0.021784   0.070216   \n",
       "present_emp_since                          -0.068641  -0.038376   \n",
       "installment_as_income_perc                 -0.060136   0.035454   \n",
       "personal_status_sex                         0.251439   0.030319   \n",
       "other_debtors                              -0.013298   0.073081   \n",
       "present_res_since                           0.031045   0.124425   \n",
       "property                                    0.020134   0.086667   \n",
       "age                                         0.143692   0.149404   \n",
       "other_installment_plans                    -0.086966   0.030817   \n",
       "housing                                    -0.135548  -0.062764   \n",
       "credits_this_bank                           0.104409   0.133521   \n",
       "job                                         0.156433  -0.367393   \n",
       "people_under_maintenance                    1.000000  -0.054977   \n",
       "telephone                                  -0.054977   1.000000   \n",
       "foreign_worker                             -0.148438   0.114928   \n",
       "\n",
       "                            foreign_worker  \n",
       "default                           0.094948  \n",
       "account_check_status              0.024687  \n",
       "duration_in_month                 0.150361  \n",
       "credit_history                    0.025482  \n",
       "purpose                           0.042083  \n",
       "credit_amount                     0.036255  \n",
       "savings                          -0.022969  \n",
       "present_emp_since                 0.016855  \n",
       "installment_as_income_perc        0.144436  \n",
       "personal_status_sex              -0.058457  \n",
       "other_debtors                     0.163009  \n",
       "present_res_since                 0.020605  \n",
       "property                         -0.065983  \n",
       "age                              -0.017018  \n",
       "other_installment_plans           0.041859  \n",
       "housing                          -0.079768  \n",
       "credits_this_bank                 0.000725  \n",
       "job                              -0.100564  \n",
       "people_under_maintenance         -0.148438  \n",
       "telephone                         0.114928  \n",
       "foreign_worker                    1.000000  \n",
       "\n",
       "[21 rows x 21 columns]"
      ]
     },
     "execution_count": 19,
     "metadata": {},
     "output_type": "execute_result"
    }
   ],
   "source": [
    "credit_df.corr()"
   ]
  },
  {
   "cell_type": "code",
   "execution_count": 20,
   "metadata": {},
   "outputs": [
    {
     "data": {
      "text/plain": [
       "<matplotlib.axes._subplots.AxesSubplot at 0x24a51467860>"
      ]
     },
     "execution_count": 20,
     "metadata": {},
     "output_type": "execute_result"
    },
    {
     "data": {
      "image/png": "[encoded data removed]",
      "text/plain": [
       "<Figure size 1440x1440 with 2 Axes>"
      ]
     },
     "metadata": {
      "needs_background": "light"
     },
     "output_type": "display_data"
    }
   ],
   "source": [
    "import seaborn as sns\n",
    "plt.subplots(figsize=(20,20))\n",
    "sns.heatmap(credit_df.corr(), annot=True, vmin=-1, vmax=1, cmap='seismic')"
   ]
  },
  {
   "cell_type": "markdown",
   "metadata": {
    "colab_type": "text",
    "id": "jeI1_7is_0pG"
   },
   "source": [
    "### Drop the original variables which are converted to dummy"
   ]
  },
  {
   "cell_type": "markdown",
   "metadata": {
    "colab": {},
    "colab_type": "code",
    "id": "LYeShbCO_0pI"
   },
   "source": [
    "# As no dummies were created as a result of codifying we do not need to drop any variables"
   ]
  },
  {
   "cell_type": "markdown",
   "metadata": {
    "colab_type": "text",
    "id": "XLtFcI1m_0pQ"
   },
   "source": [
    "### Q3 Split Train/Test data 70:30 ratio( 1 Marks)\n",
    "##### Hint:from sklearn.model_selection import train_test_split"
   ]
  },
  {
   "cell_type": "code",
   "execution_count": 21,
   "metadata": {
    "colab": {},
    "colab_type": "code",
    "id": "pHxXKL92_0pS"
   },
   "outputs": [],
   "source": [
    "X=credit_df.drop(['default'], axis=1)\n",
    "y=credit_df['default']\n",
    "\n",
    "from sklearn.model_selection import train_test_split \n",
    "X_train, X_test, y_train, y_test = train_test_split(X, y, test_size=.3, random_state=42)"
   ]
  },
  {
   "cell_type": "code",
   "execution_count": 22,
   "metadata": {},
   "outputs": [
    {
     "name": "stdout",
     "output_type": "stream",
     "text": [
      "Test set :  (150, 20)\n",
      "Training set :  (350, 20)\n",
      "We can see the test and the training sent are split in 70:30 ratio\n"
     ]
    }
   ],
   "source": [
    "print(\"Test set : \", X_test.shape)\n",
    "print(\"Training set : \", X_train.shape)\n",
    "print(\"We can see the test and the training sent are split in 70:30 ratio\")"
   ]
  },
  {
   "cell_type": "markdown",
   "metadata": {
    "colab_type": "text",
    "id": "wWTpd4Ng_0pW"
   },
   "source": [
    "### Q4 Build Random Forest Model( 1 Marks)\n",
    "#### Hint:from sklearn.ensemble import RandomForestClassifier using n_jobs=2,n_estimators=500,criterion=\"entropy\",random_state=9999"
   ]
  },
  {
   "cell_type": "code",
   "execution_count": 23,
   "metadata": {
    "colab": {},
    "colab_type": "code",
    "id": "AHX5tgQm_0pY"
   },
   "outputs": [],
   "source": [
    "from sklearn.ensemble import RandomForestClassifier \n",
    "Classifier=RandomForestClassifier(n_jobs=2,n_estimators=500,criterion=\"entropy\",random_state=9999)\n",
    "#using n_jobs=2,n_estimators=500,criterion=\"entropy\",random_state=9999"
   ]
  },
  {
   "cell_type": "code",
   "execution_count": 24,
   "metadata": {},
   "outputs": [
    {
     "data": {
      "text/plain": [
       "RandomForestClassifier(bootstrap=True, class_weight=None, criterion='entropy',\n",
       "            max_depth=None, max_features='auto', max_leaf_nodes=None,\n",
       "            min_impurity_decrease=0.0, min_impurity_split=None,\n",
       "            min_samples_leaf=1, min_samples_split=2,\n",
       "            min_weight_fraction_leaf=0.0, n_estimators=500, n_jobs=2,\n",
       "            oob_score=False, random_state=9999, verbose=0,\n",
       "            warm_start=False)"
      ]
     },
     "execution_count": 24,
     "metadata": {},
     "output_type": "execute_result"
    }
   ],
   "source": [
    "Classifier.fit(X_train,y_train)"
   ]
  },
  {
   "cell_type": "code",
   "execution_count": 25,
   "metadata": {},
   "outputs": [],
   "source": [
    "y_pred=Classifier.predict(X_test)"
   ]
  },
  {
   "cell_type": "markdown",
   "metadata": {
    "colab_type": "text",
    "id": "LuQwgG7T_0pa"
   },
   "source": [
    "### Q5 Calculate Confusion Matrix and Accuracy score (1 Marks)\n",
    "##### Hint: Use confusion_matrix and accuracy_score"
   ]
  },
  {
   "cell_type": "code",
   "execution_count": 26,
   "metadata": {
    "colab": {},
    "colab_type": "code",
    "id": "YgczdMEB_0pc"
   },
   "outputs": [
    {
     "name": "stdout",
     "output_type": "stream",
     "text": [
      "0.7666666666666667\n"
     ]
    }
   ],
   "source": [
    "from sklearn import metrics\n",
    "print(Classifier.score(X_test,y_test))\n"
   ]
  },
  {
   "cell_type": "code",
   "execution_count": 27,
   "metadata": {
    "scrolled": false
   },
   "outputs": [
    {
     "name": "stdout",
     "output_type": "stream",
     "text": [
      "0.7666666666666667\n"
     ]
    }
   ],
   "source": [
    "from sklearn.metrics import accuracy_score\n",
    "print(accuracy_score(y_test,y_pred))"
   ]
  },
  {
   "cell_type": "code",
   "execution_count": 60,
   "metadata": {},
   "outputs": [
    {
     "name": "stdout",
     "output_type": "stream",
     "text": [
      "[[98  8]\n",
      " [27 17]]\n"
     ]
    }
   ],
   "source": [
    "print(metrics.confusion_matrix(y_test, y_pred))"
   ]
  },
  {
   "cell_type": "code",
   "execution_count": 61,
   "metadata": {},
   "outputs": [
    {
     "name": "stdout",
     "output_type": "stream",
     "text": [
      "             precision    recall  f1-score   support\n",
      "\n",
      "          0       0.78      0.92      0.85       106\n",
      "          1       0.68      0.39      0.49        44\n",
      "\n",
      "avg / total       0.75      0.77      0.74       150\n",
      "\n"
     ]
    }
   ],
   "source": [
    "from sklearn.metrics import classification_report\n",
    "print(classification_report(y_test, y_pred))"
   ]
  },
  {
   "cell_type": "markdown",
   "metadata": {
    "colab_type": "text",
    "id": "x2wDGYcC_0pf"
   },
   "source": [
    "### Q6 Show the list of the features importance( 1 Marks)"
   ]
  },
  {
   "cell_type": "code",
   "execution_count": 62,
   "metadata": {
    "colab": {},
    "colab_type": "code",
    "id": "bEWKBXX8_0ph",
    "scrolled": false
   },
   "outputs": [
    {
     "data": {
      "text/plain": [
       "{'account_check_status': 0.10788449594645595,\n",
       " 'duration_in_month': 0.11111845075691279,\n",
       " 'credit_history': 0.04667394311770695,\n",
       " 'purpose': 0.06403495990879685,\n",
       " 'credit_amount': 0.1331807817496371,\n",
       " 'savings': 0.04822865484722865,\n",
       " 'present_emp_since': 0.05392405724227517,\n",
       " 'installment_as_income_perc': 0.03629377290178104,\n",
       " 'personal_status_sex': 0.037676808509760365,\n",
       " 'other_debtors': 0.011908140509369851,\n",
       " 'present_res_since': 0.04049246895118278,\n",
       " 'property': 0.05168231070026837,\n",
       " 'age': 0.10619489328257321,\n",
       " 'other_installment_plans': 0.026339492521305935,\n",
       " 'housing': 0.03193063421475407,\n",
       " 'credits_this_bank': 0.021610204878129664,\n",
       " 'job': 0.03141212789843749,\n",
       " 'people_under_maintenance': 0.013517916154559833,\n",
       " 'telephone': 0.020769471632542714,\n",
       " 'foreign_worker': 0.005126414276321146}"
      ]
     },
     "execution_count": 62,
     "metadata": {},
     "output_type": "execute_result"
    }
   ],
   "source": [
    "importance=dict(zip(X_train.columns,Classifier.feature_importances_))\n",
    "importance"
   ]
  },
  {
   "cell_type": "markdown",
   "metadata": {
    "colab_type": "text",
    "id": "U7VnUE71_0pk"
   },
   "source": [
    "### Q7 K-fold cross-validation( 2 Marks)\n",
    "##### k-fold cross validation( without stratification)\n",
    "##### Usually k is set as 10-20 in practical settings, depends on data set size"
   ]
  },
  {
   "cell_type": "code",
   "execution_count": 63,
   "metadata": {
    "colab": {},
    "colab_type": "code",
    "id": "Pf6rIo-c_0pm"
   },
   "outputs": [],
   "source": [
    "from sklearn.model_selection import KFold\n",
    "from sklearn.model_selection import cross_val_score"
   ]
  },
  {
   "cell_type": "code",
   "execution_count": 64,
   "metadata": {
    "colab": {},
    "colab_type": "code",
    "id": "SLIiX3BP_0pp"
   },
   "outputs": [],
   "source": [
    "# Use below values\n",
    "num_folds = 10\n",
    "seed = 77"
   ]
  },
  {
   "cell_type": "code",
   "execution_count": 65,
   "metadata": {
    "colab": {},
    "colab_type": "code",
    "id": "lDyCh_OG_0pt"
   },
   "outputs": [],
   "source": [
    "#Validate the Random Forest model build above using k fold"
   ]
  },
  {
   "cell_type": "code",
   "execution_count": 66,
   "metadata": {
    "colab": {},
    "colab_type": "code",
    "id": "fvxAgXik_0p0"
   },
   "outputs": [],
   "source": [
    "kfold=KFold(n_splits=num_folds, random_state=seed,shuffle=True)\n",
    "result=cross_val_score(Classifier,X, y, cv=kfold)"
   ]
  },
  {
   "cell_type": "code",
   "execution_count": 67,
   "metadata": {
    "colab": {},
    "colab_type": "code",
    "id": "6r8p73dT_0p6"
   },
   "outputs": [],
   "source": [
    "#Calculate Mean score"
   ]
  },
  {
   "cell_type": "code",
   "execution_count": 68,
   "metadata": {
    "colab": {},
    "colab_type": "code",
    "id": "qtGEiGuu_0qA"
   },
   "outputs": [
    {
     "data": {
      "text/plain": [
       "0.758"
      ]
     },
     "execution_count": 68,
     "metadata": {},
     "output_type": "execute_result"
    }
   ],
   "source": [
    "result.mean()"
   ]
  },
  {
   "cell_type": "code",
   "execution_count": 69,
   "metadata": {
    "colab": {},
    "colab_type": "code",
    "id": "Rr132f7H_0qD"
   },
   "outputs": [],
   "source": [
    "# Calculate score standard deviation using std()"
   ]
  },
  {
   "cell_type": "code",
   "execution_count": 70,
   "metadata": {
    "colab": {},
    "colab_type": "code",
    "id": "44JxPbHG_0qH",
    "scrolled": true
   },
   "outputs": [
    {
     "data": {
      "text/plain": [
       "0.0589576118919347"
      ]
     },
     "execution_count": 70,
     "metadata": {},
     "output_type": "execute_result"
    }
   ],
   "source": [
    "result.std()"
   ]
  },
  {
   "cell_type": "code",
   "execution_count": 71,
   "metadata": {},
   "outputs": [],
   "source": [
    "from sklearn.model_selection import cross_val_predict\n",
    "\n",
    "y_pred_Kfold=cross_val_predict(Classifier,X, y, cv=kfold)"
   ]
  },
  {
   "cell_type": "markdown",
   "metadata": {
    "colab_type": "text",
    "id": "kB0x5yLs_0qM"
   },
   "source": [
    "# Q8 Print the confusion matrix( 1 Marks)"
   ]
  },
  {
   "cell_type": "code",
   "execution_count": 82,
   "metadata": {},
   "outputs": [
    {
     "data": {
      "text/plain": [
       "(500,)"
      ]
     },
     "execution_count": 82,
     "metadata": {},
     "output_type": "execute_result"
    }
   ],
   "source": [
    "y.shape"
   ]
  },
  {
   "cell_type": "code",
   "execution_count": 73,
   "metadata": {},
   "outputs": [
    {
     "data": {
      "text/plain": [
       "(500,)"
      ]
     },
     "execution_count": 73,
     "metadata": {},
     "output_type": "execute_result"
    }
   ],
   "source": [
    "y_pred_Kfold.shape"
   ]
  },
  {
   "cell_type": "code",
   "execution_count": 74,
   "metadata": {
    "colab": {},
    "colab_type": "code",
    "id": "WiS5l8Cn_0qO"
   },
   "outputs": [
    {
     "name": "stdout",
     "output_type": "stream",
     "text": [
      "[[328  28]\n",
      " [ 93  51]]\n"
     ]
    }
   ],
   "source": [
    "print(metrics.confusion_matrix(y, y_pred_Kfold))"
   ]
  },
  {
   "cell_type": "markdown",
   "metadata": {
    "colab_type": "text",
    "id": "uMLxrkNg_0qR"
   },
   "source": [
    "# Q9.Classification accuracy: \n",
    "percentage of correct predictions and Calculate sensitivity (or True Positive Rate or Recall) and Precision.\n",
    "( 1 Marks)"
   ]
  },
  {
   "cell_type": "code",
   "execution_count": 75,
   "metadata": {
    "colab": {},
    "colab_type": "code",
    "id": "QUG5Y_li_0qT"
   },
   "outputs": [
    {
     "name": "stdout",
     "output_type": "stream",
     "text": [
      "             precision    recall  f1-score   support\n",
      "\n",
      "          0       0.78      0.92      0.84       356\n",
      "          1       0.65      0.35      0.46       144\n",
      "\n",
      "avg / total       0.74      0.76      0.73       500\n",
      "\n"
     ]
    }
   ],
   "source": [
    "print(classification_report(y, y_pred_Kfold))"
   ]
  },
  {
   "cell_type": "code",
   "execution_count": 76,
   "metadata": {
    "colab": {},
    "colab_type": "code",
    "id": "IS9CZaZr_0qX"
   },
   "outputs": [
    {
     "name": "stdout",
     "output_type": "stream",
     "text": [
      "Recall Rate for k cross fold 0.3541666666666667\n",
      "Recall Rate for Original 0.38636363636363635\n"
     ]
    }
   ],
   "source": [
    "from sklearn.metrics import recall_score, precision_score\n",
    "print('Recall Rate for k cross fold',recall_score(y,y_pred_Kfold))\n",
    "print('Recall Rate for Original',recall_score(y_test,y_pred))"
   ]
  },
  {
   "cell_type": "code",
   "execution_count": 77,
   "metadata": {},
   "outputs": [
    {
     "name": "stdout",
     "output_type": "stream",
     "text": [
      "Precison Rate k cross fold 0.6455696202531646\n",
      "Precison Rate for original 0.68\n"
     ]
    }
   ],
   "source": [
    "print('Precison Rate k cross fold',precision_score(y,y_pred_Kfold))\n",
    "print(\"Precison Rate for original\",precision_score(y_test, y_pred))"
   ]
  },
  {
   "cell_type": "markdown",
   "metadata": {},
   "source": [
    "# I am getting a Higher Recall and Precision for Random Forest Model and Lower Recall and Precision  when using Kfold Cross Validation"
   ]
  },
  {
   "cell_type": "markdown",
   "metadata": {
    "colab_type": "text",
    "id": "IlPEO3pO_0qa"
   },
   "source": [
    "# Q10.Plot Receiver Operating Characteristic (ROC) Curves( 1 Marks)"
   ]
  },
  {
   "cell_type": "code",
   "execution_count": 78,
   "metadata": {
    "colab": {},
    "colab_type": "code",
    "id": "YGyM8Uh4_0qb"
   },
   "outputs": [],
   "source": [
    "#Hint: Use roc_curve"
   ]
  },
  {
   "cell_type": "code",
   "execution_count": 79,
   "metadata": {
    "colab": {},
    "colab_type": "code",
    "id": "ZCJ-wYLX_0qo"
   },
   "outputs": [],
   "source": [
    "from sklearn.metrics import roc_curve"
   ]
  },
  {
   "cell_type": "code",
   "execution_count": 80,
   "metadata": {},
   "outputs": [],
   "source": [
    "credit_df[\"prob\"] = Classifier.predict(X)"
   ]
  },
  {
   "cell_type": "code",
   "execution_count": 81,
   "metadata": {},
   "outputs": [
    {
     "data": {
      "image/png": "[encoded data removed]",
      "text/plain": [
       "<Figure size 432x288 with 1 Axes>"
      ]
     },
     "metadata": {
      "needs_background": "light"
     },
     "output_type": "display_data"
    },
    {
     "data": {
      "text/plain": [
       "0.7900280898876404"
      ]
     },
     "execution_count": 81,
     "metadata": {},
     "output_type": "execute_result"
    }
   ],
   "source": [
    "from sklearn.metrics import roc_curve\n",
    "fpr, tpr, thresholds = roc_curve(y,credit_df[\"prob\"] )\n",
    "# Plot ROC curve\n",
    "plt.plot([0, 1], [0, 1], 'k--')\n",
    "plt.plot(fpr, tpr)\n",
    "plt.xlabel('False Positive Rate')\n",
    "plt.ylabel('True Positive Rate')\n",
    "plt.title('ROC Curve')\n",
    "plt.show()\n",
    "\n",
    "KS = (tpr - fpr).max()\n",
    "KS"
   ]
  },
  {
   "cell_type": "markdown",
   "metadata": {
    "colab_type": "text",
    "id": "annGF0Bh_0qr"
   },
   "source": [
    "ROC curve can help you to choose a threshold that balances sensitivity and specificity in a way that makes sense for your particular context"
   ]
  },
  {
   "cell_type": "markdown",
   "metadata": {
    "colab_type": "text",
    "id": "rE4Qbbh5_0qt"
   },
   "source": [
    "# Q11. Calculate AUC(the percentage of the ROC plot that is underneath the curve) - optional"
   ]
  },
  {
   "cell_type": "code",
   "execution_count": 50,
   "metadata": {
    "colab": {},
    "colab_type": "code",
    "id": "8nwRSPz4_0qu"
   },
   "outputs": [
    {
     "data": {
      "text/plain": [
       "0.8950140449438202"
      ]
     },
     "execution_count": 50,
     "metadata": {},
     "output_type": "execute_result"
    }
   ],
   "source": [
    "from sklearn.metrics import roc_auc_score\n",
    "auc = roc_auc_score(y,credit_df[\"prob\"])\n",
    "auc"
   ]
  },
  {
   "cell_type": "code",
   "execution_count": null,
   "metadata": {
    "colab": {},
    "colab_type": "code",
    "id": "fsjK0GSg_0qx"
   },
   "outputs": [],
   "source": []
  },
  {
   "cell_type": "code",
   "execution_count": null,
   "metadata": {
    "colab": {},
    "colab_type": "code",
    "id": "dA8Cha75_0qz"
   },
   "outputs": [],
   "source": []
  },
  {
   "cell_type": "code",
   "execution_count": null,
   "metadata": {
    "colab": {},
    "colab_type": "code",
    "id": "NiON-6bu_0q4"
   },
   "outputs": [],
   "source": []
  },
  {
   "cell_type": "markdown",
   "metadata": {
    "colab_type": "text",
    "id": "BZ43LYtQ_0q9"
   },
   "source": [
    "### Bootstrapping ( Bonus)\n",
    "##### Given a dataset of size n, a bootstrap sample is created by sampling n instances uniformly from the data (with/without replacement)\n",
    "##### Create a model with each bootstrap sample and validate it with the test set\n",
    "##### Final result is calculated by averaging the accuracy of models"
   ]
  },
  {
   "cell_type": "code",
   "execution_count": 51,
   "metadata": {
    "colab": {},
    "colab_type": "code",
    "id": "8KwXPTNE_0q9"
   },
   "outputs": [],
   "source": [
    "# Number of iterations for bootstrapping\n",
    "bootstrap_iteration = 10\n",
    "accuracy = []"
   ]
  },
  {
   "cell_type": "code",
   "execution_count": null,
   "metadata": {
    "colab": {},
    "colab_type": "code",
    "id": "rVQTCij9_0rA"
   },
   "outputs": [],
   "source": []
  },
  {
   "cell_type": "code",
   "execution_count": null,
   "metadata": {
    "colab": {},
    "colab_type": "code",
    "id": "lRtfc6p7_0rD",
    "outputId": "6b6e9b14-0652-4550-83e0-7bb2ca3f0481"
   },
   "outputs": [],
   "source": []
  }
 ],
 "metadata": {
  "colab": {
   "name": "R4_External_Lab_Validation_Accuracy.ipynb",
   "provenance": [],
   "version": "0.3.2"
  },
  "kernelspec": {
   "display_name": "Python 3",
   "language": "python",
   "name": "python3"
  },
  "language_info": {
   "codemirror_mode": {
    "name": "ipython",
    "version": 3
   },
   "file_extension": ".py",
   "mimetype": "text/x-python",
   "name": "python",
   "nbconvert_exporter": "python",
   "pygments_lexer": "ipython3",
   "version": "3.6.5"
  }
 },
 "nbformat": 4,
 "nbformat_minor": 1
}
