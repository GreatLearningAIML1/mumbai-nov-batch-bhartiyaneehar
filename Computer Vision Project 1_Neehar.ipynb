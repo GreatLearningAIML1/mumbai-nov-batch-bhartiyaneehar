{
 "cells": [
  {
   "cell_type": "markdown",
   "metadata": {},
   "source": [
    "# Importing the Classes"
   ]
  },
  {
   "cell_type": "code",
   "execution_count": 1,
   "metadata": {},
   "outputs": [],
   "source": [
    "import pandas as pd\n",
    "import numpy as np"
   ]
  },
  {
   "cell_type": "code",
   "execution_count": 2,
   "metadata": {
    "scrolled": false
   },
   "outputs": [
    {
     "name": "stderr",
     "output_type": "stream",
     "text": [
      "C:\\Users\\neeha\\Anaconda3\\lib\\site-packages\\h5py\\__init__.py:36: FutureWarning: Conversion of the second argument of issubdtype from `float` to `np.floating` is deprecated. In future, it will be treated as `np.float64 == np.dtype(float).type`.\n",
      "  from ._conv import register_converters as _register_converters\n",
      "Using TensorFlow backend.\n"
     ]
    }
   ],
   "source": [
    "import os\n",
    "from PIL import Image\n",
    "import matplotlib.pyplot as plt\n",
    "from sklearn.model_selection import train_test_split\n",
    "import keras\n",
    "from keras.models import Sequential,Input,Model\n",
    "from keras.layers import Dense, Dropout, Flatten\n",
    "from keras.layers import Conv2D, MaxPooling2D\n",
    "from keras.layers.normalization import BatchNormalization\n",
    "from keras.layers.advanced_activations import LeakyReLU\n",
    "import scipy.misc\n",
    "from skimage import transform\n",
    "import warnings\n",
    "\n",
    "warnings.filterwarnings(\"ignore\")\n",
    "from skimage.transform import resize as imresize\n",
    "#convertering list of training data paths to df\n",
    "train_dir = \"D:\\\\PGPML\\\\Labs\\\\Projects\\\\2 June 2019\\\\train\\\\\"\n",
    "train_list = os.listdir(train_dir)\n",
    "records = []\n"
   ]
  },
  {
   "cell_type": "markdown",
   "metadata": {},
   "source": [
    "# Adding the X Features and Y Categories for all records"
   ]
  },
  {
   "cell_type": "code",
   "execution_count": 3,
   "metadata": {},
   "outputs": [
    {
     "name": "stdout",
     "output_type": "stream",
     "text": [
      "             image     category\n",
      "0    0050f38b3.png  Black-grass\n",
      "1    0183fdf68.png  Black-grass\n",
      "2    0260cffa8.png  Black-grass\n",
      "3    05eedce4d.png  Black-grass\n",
      "4    075d004bc.png  Black-grass\n",
      "5    078eae073.png  Black-grass\n",
      "6    082314602.png  Black-grass\n",
      "7    0ace21089.png  Black-grass\n",
      "8    0b228a6b8.png  Black-grass\n",
      "9    0b3e7a7a9.png  Black-grass\n",
      "10   0bb75ded8.png  Black-grass\n",
      "11   0be707615.png  Black-grass\n",
      "12   0c67c3fc3.png  Black-grass\n",
      "13   0d1a9985f.png  Black-grass\n",
      "14   0d28c429b.png  Black-grass\n",
      "15   0d4f74f4a.png  Black-grass\n",
      "16   0dad57e7f.png  Black-grass\n",
      "17   0e91f92a1.png  Black-grass\n",
      "18   0fe440ed5.png  Black-grass\n",
      "19   1276dffba.png  Black-grass\n",
      "20   129c51855.png  Black-grass\n",
      "21   13a7f553a.png  Black-grass\n",
      "22   14719a83e.png  Black-grass\n",
      "23   1576ce9fd.png  Black-grass\n",
      "24   163c13912.png  Black-grass\n",
      "25   163e571a6.png  Black-grass\n",
      "26   16c69a6d8.png  Black-grass\n",
      "27   173cec485.png  Black-grass\n",
      "28   1a125880e.png  Black-grass\n",
      "29   1af1eddd3.png  Black-grass\n",
      "..             ...          ...\n",
      "470  8d16914a3.png     Charlock\n",
      "471  8dd1dbca2.png     Charlock\n",
      "472  8de73f114.png     Charlock\n",
      "473  8df0f80e9.png     Charlock\n",
      "474  8f4d248bd.png     Charlock\n",
      "475  903fff84f.png     Charlock\n",
      "476  90981bf00.png     Charlock\n",
      "477  90faa7ccd.png     Charlock\n",
      "478  92184e2d6.png     Charlock\n",
      "479  921ef57b0.png     Charlock\n",
      "480  92209cbd5.png     Charlock\n",
      "481  946b7baea.png     Charlock\n",
      "482  94af3e45a.png     Charlock\n",
      "483  95d959662.png     Charlock\n",
      "484  961517fac.png     Charlock\n",
      "485  97907da1a.png     Charlock\n",
      "486  982f40990.png     Charlock\n",
      "487  99a661104.png     Charlock\n",
      "488  99f80eb00.png     Charlock\n",
      "489  9a3903864.png     Charlock\n",
      "490  9ae330eda.png     Charlock\n",
      "491  9b419387b.png     Charlock\n",
      "492  9c55fa55a.png     Charlock\n",
      "493  9cdf5eb74.png     Charlock\n",
      "494  9d7f4d92c.png     Charlock\n",
      "495  9df7399d3.png     Charlock\n",
      "496  9f24b0c83.png     Charlock\n",
      "497  9ffcb543c.png     Charlock\n",
      "498  a04a7dda2.png     Charlock\n",
      "499  a1f862ba9.png     Charlock\n",
      "\n",
      "[500 rows x 2 columns]\n"
     ]
    }
   ],
   "source": [
    "for category in train_list:\n",
    "    img_list = os.listdir(train_dir + category)\n",
    "    for img in img_list:\n",
    "        records.append((img,category))\n",
    "        #img = imresize(img, (51, 51, 3))\n",
    "df_train = pd.DataFrame.from_records(records,columns=['image','category'])\n",
    "\n",
    "print(df_train.head(500))"
   ]
  },
  {
   "cell_type": "code",
   "execution_count": 87,
   "metadata": {},
   "outputs": [
    {
     "data": {
      "text/plain": [
       "image       object\n",
       "category    object\n",
       "dtype: object"
      ]
     },
     "execution_count": 87,
     "metadata": {},
     "output_type": "execute_result"
    }
   ],
   "source": [
    "df_train.dtypes"
   ]
  },
  {
   "cell_type": "code",
   "execution_count": 88,
   "metadata": {},
   "outputs": [
    {
     "name": "stdout",
     "output_type": "stream",
     "text": [
      "Train Data 4726\n"
     ]
    }
   ],
   "source": [
    "print('Train Data', len(df_train.index))\n"
   ]
  },
  {
   "cell_type": "code",
   "execution_count": 89,
   "metadata": {
    "scrolled": true
   },
   "outputs": [
    {
     "name": "stdout",
     "output_type": "stream",
     "text": [
      "categories ['Black-grass', 'Charlock', 'Cleavers', 'Common Chickweed', 'Common wheat', 'Fat Hen', 'Loose Silky-bent', 'Maize', 'Scentless Mayweed', 'Shepherds Purse', 'Small-flowered Cranesbill', 'Sugar beet']\n"
     ]
    }
   ],
   "source": [
    "print('categories',os.listdir(train_dir))\n"
   ]
  },
  {
   "cell_type": "code",
   "execution_count": 90,
   "metadata": {},
   "outputs": [
    {
     "name": "stdout",
     "output_type": "stream",
     "text": [
      "# of categories 12\n"
     ]
    }
   ],
   "source": [
    "print('# of categories', len(os.listdir(train_dir)))"
   ]
  },
  {
   "cell_type": "code",
   "execution_count": 5,
   "metadata": {
    "scrolled": true
   },
   "outputs": [
    {
     "data": {
      "text/plain": [
       "Index(['image', 'category'], dtype='object')"
      ]
     },
     "execution_count": 5,
     "metadata": {},
     "output_type": "execute_result"
    }
   ],
   "source": [
    "df_train.columns"
   ]
  },
  {
   "cell_type": "markdown",
   "metadata": {},
   "source": [
    "## Resizing images and dropping bad images "
   ]
  },
  {
   "cell_type": "code",
   "execution_count": 15,
   "metadata": {
    "scrolled": false
   },
   "outputs": [
    {
     "name": "stdout",
     "output_type": "stream",
     "text": [
      "smallest image dimension 49\n",
      "bad images [119, 167, 178, 2254, 2275, 2301, 2381, 2390, 2420, 2479, 2541, 2557, 2566, 2596, 2598, 2655, 2685, 2693, 2724, 2780, 2788, 2825, 2834, 2871]\n",
      "Done creating X and y.\n",
      "X Shape (4726, 49, 49, 3)\n"
     ]
    }
   ],
   "source": [
    "dim_image = []\n",
    "for i in (train_dir + df_train['category'] + '/' + df_train['image']):\n",
    "    img = Image.open(i)\n",
    "    data = img.size\n",
    "    dim_image.append(data[0])\n",
    "print('smallest image dimension', min(dim_image))\n",
    "\n",
    "i_height = min(dim_image)\n",
    "i_width = min(dim_image)\n",
    "\n",
    "X = []\n",
    "count = 0\n",
    "bad_images = []\n",
    "#df_train = df_train.drop(df_train.index[bad_images])\n",
    "for i in (train_dir + df_train['category'] + '/' + df_train['image']):\n",
    "    img = Image.open(i)\n",
    "    img.load()\n",
    "    img = np.asarray(img, dtype='float32')\n",
    "    img = img/255\n",
    "    data = transform.resize(img,(49,49))\n",
    "    if data.size != 7203:\n",
    "        bad_images.append(count)\n",
    "#     plt.imshow(data)\n",
    "#     plt.show()\n",
    "#     X.append(data)\n",
    "    count += 1\n",
    "print('bad images',bad_images)\n",
    "\n",
    "df_train = df_train.drop(df_train.index[bad_images])\n",
    "for i in (train_dir + df_train['category'] + '/' + df_train['image']):\n",
    "    img = Image.open(i)\n",
    "    img.load()\n",
    "    img = np.asarray(img, dtype='float32')\n",
    "    img = img/255\n",
    "    data = transform.resize(img,(49,49))\n",
    "    X.append(data)\n",
    "\n",
    "X = np.array(X)\n",
    "\n",
    "y = np.array(df_train['category'].astype('category').cat.codes)\n",
    "\n",
    "print('Done creating X and y.')\n",
    "print('X Shape',X.shape)\n"
   ]
  },
  {
   "cell_type": "markdown",
   "metadata": {},
   "source": [
    "# Splitting the Data into Training and Validation/Test"
   ]
  },
  {
   "cell_type": "code",
   "execution_count": 51,
   "metadata": {},
   "outputs": [],
   "source": [
    "from sklearn.model_selection import train_test_split\n",
    " \n",
    "X_train, X_test, y_train, y_test = train_test_split(X, y, test_size=0.3, random_state=42)"
   ]
  },
  {
   "cell_type": "code",
   "execution_count": 34,
   "metadata": {},
   "outputs": [],
   "source": [
    "from tensorflow.python.keras import utils\n"
   ]
  },
  {
   "cell_type": "code",
   "execution_count": 35,
   "metadata": {},
   "outputs": [],
   "source": [
    "y_train = utils.to_categorical(y_train, 12)\n",
    "y_test = utils.to_categorical(y_test, 12)"
   ]
  },
  {
   "cell_type": "code",
   "execution_count": 57,
   "metadata": {},
   "outputs": [],
   "source": [
    "y = np.array(df_train['category'].astype('category').cat.codes)"
   ]
  },
  {
   "cell_type": "code",
   "execution_count": 58,
   "metadata": {
    "scrolled": true
   },
   "outputs": [
    {
     "data": {
      "text/plain": [
       "array([ 0,  0,  0, ..., 11, 11, 11], dtype=int8)"
      ]
     },
     "execution_count": 58,
     "metadata": {},
     "output_type": "execute_result"
    }
   ],
   "source": [
    "y"
   ]
  },
  {
   "cell_type": "markdown",
   "metadata": {},
   "source": [
    "# Initializing & building the model "
   ]
  },
  {
   "cell_type": "code",
   "execution_count": 59,
   "metadata": {},
   "outputs": [],
   "source": [
    "import keras"
   ]
  },
  {
   "cell_type": "code",
   "execution_count": 60,
   "metadata": {},
   "outputs": [],
   "source": [
    "from keras.models import Sequential\n",
    "from keras.layers import Dense, Activation, Dropout, Flatten, Reshape\n",
    "from keras.layers import Convolution2D, MaxPooling2D"
   ]
  },
  {
   "cell_type": "code",
   "execution_count": 64,
   "metadata": {
    "scrolled": false
   },
   "outputs": [
    {
     "name": "stdout",
     "output_type": "stream",
     "text": [
      "WARNING:tensorflow:From C:\\Users\\neeha\\Anaconda3\\lib\\site-packages\\tensorflow\\python\\ops\\math_ops.py:3066: to_int32 (from tensorflow.python.ops.math_ops) is deprecated and will be removed in a future version.\n",
      "Instructions for updating:\n",
      "Use tf.cast instead.\n",
      "Train on 3780 samples, validate on 946 samples\n",
      "Epoch 1/10\n",
      "3780/3780 [==============================] - 21s 6ms/step - loss: 1.9849 - acc: 0.3082 - val_loss: 1.2074 - val_acc: 0.5592\n",
      "Epoch 2/10\n",
      "3780/3780 [==============================] - 22s 6ms/step - loss: 1.0398 - acc: 0.6458 - val_loss: 1.1896 - val_acc: 0.5930\n",
      "Epoch 3/10\n",
      "3780/3780 [==============================] - 21s 5ms/step - loss: 0.7773 - acc: 0.7426 - val_loss: 0.7798 - val_acc: 0.7093\n",
      "Epoch 4/10\n",
      "3780/3780 [==============================] - 19s 5ms/step - loss: 0.6272 - acc: 0.7878 - val_loss: 0.6970 - val_acc: 0.7600\n",
      "Epoch 5/10\n",
      "3780/3780 [==============================] - 21s 5ms/step - loss: 0.4875 - acc: 0.8405 - val_loss: 0.6759 - val_acc: 0.7833\n",
      "Epoch 6/10\n",
      "3780/3780 [==============================] - 22s 6ms/step - loss: 0.3950 - acc: 0.8669 - val_loss: 0.7232 - val_acc: 0.7590\n",
      "Epoch 7/10\n",
      "3780/3780 [==============================] - 21s 6ms/step - loss: 0.3327 - acc: 0.8881 - val_loss: 0.6934 - val_acc: 0.7706\n",
      "Epoch 8/10\n",
      "3780/3780 [==============================] - 21s 6ms/step - loss: 0.2741 - acc: 0.9024 - val_loss: 0.7881 - val_acc: 0.7928\n",
      "Epoch 9/10\n",
      "3780/3780 [==============================] - 22s 6ms/step - loss: 0.2221 - acc: 0.9209 - val_loss: 0.8828 - val_acc: 0.7431\n",
      "Epoch 10/10\n",
      "3780/3780 [==============================] - 20s 5ms/step - loss: 0.1953 - acc: 0.9312 - val_loss: 0.7544 - val_acc: 0.7939\n"
     ]
    },
    {
     "data": {
      "text/plain": [
       "<keras.callbacks.History at 0x1b858ede390>"
      ]
     },
     "execution_count": 64,
     "metadata": {},
     "output_type": "execute_result"
    }
   ],
   "source": [
    "X_train, X_test, y_train, y_test = train_test_split(X, y, test_size=0.2, random_state=42)\n",
    "\n",
    "im_shape = (49,49,3)\n",
    "batch_size = 10\n",
    "\n",
    "cnn  = Sequential([\n",
    "    Conv2D(32, kernel_size=(3,3), activation='linear', input_shape=im_shape, padding='same'),\n",
    "    LeakyReLU(alpha=0.1),\n",
    "    MaxPooling2D((2,2), padding='same'),\n",
    "    Conv2D(64, kernel_size=(3,3), activation='linear', padding='same'),\n",
    "    LeakyReLU(alpha=0.1),\n",
    "    MaxPooling2D((2,2), padding='same'),\n",
    "    Conv2D(128, kernel_size=(3,3), activation='linear', padding='same'),\n",
    "    LeakyReLU(alpha=0.1),\n",
    "    MaxPooling2D((2,2), padding='same'),\n",
    "    Flatten(),\n",
    "    Dense(50,activation='relu'),\n",
    "    Dense(12, activation='softmax')\n",
    "])\n",
    "\n",
    "cnn.compile(loss='sparse_categorical_crossentropy', optimizer=keras.optimizers.Adam(lr=0.001), metrics=['accuracy'])\n",
    "\n",
    "cnn. fit(X_train, y_train, batch_size=batch_size, epochs=10, verbose=1, validation_data=(X_test,y_test))"
   ]
  },
  {
   "cell_type": "markdown",
   "metadata": {},
   "source": [
    "## Optimizing the Model by using image generator to increase the number of images for increasing accuracy"
   ]
  },
  {
   "cell_type": "code",
   "execution_count": 17,
   "metadata": {},
   "outputs": [],
   "source": [
    "from keras.preprocessing.image import ImageDataGenerator #performs realtime image augmentation "
   ]
  },
  {
   "cell_type": "code",
   "execution_count": 21,
   "metadata": {},
   "outputs": [],
   "source": [
    "# This will do preprocessing and realtime data augmentation:\n",
    "datagen = ImageDataGenerator(\n",
    "    featurewise_center=False,  # set input mean to 0 over the dataset\n",
    "    samplewise_center=False,  # set each sample mean to 0\n",
    "    featurewise_std_normalization=False,  # divide inputs by std of the dataset\n",
    "    samplewise_std_normalization=False,  # divide each input by its std\n",
    "    zca_whitening=False,  # apply ZCA whitening\n",
    "    rotation_range=50,  # randomly rotate images in the range (degrees, 0 to 180)\n",
    "    width_shift_range=0.1,  # randomly shift images horizontally (fraction of total width)\n",
    "    height_shift_range=0.1,  # randomly shift images vertically (fraction of total height)\n",
    "    horizontal_flip=True,  # randomly flip images\n",
    "    vertical_flip=True)  # randomly flip images\n",
    "#helps managing memory, less memory needed...but only use if there is less data..."
   ]
  },
  {
   "cell_type": "code",
   "execution_count": 22,
   "metadata": {},
   "outputs": [],
   "source": [
    "# Prepare the generator\n",
    "datagen.fit(X_train)"
   ]
  },
  {
   "cell_type": "code",
   "execution_count": 23,
   "metadata": {
    "scrolled": true
   },
   "outputs": [
    {
     "data": {
      "image/png": "[encoded data removed]",
      "text/plain": [
       "<Figure size 432x288 with 5 Axes>"
      ]
     },
     "metadata": {
      "needs_background": "light"
     },
     "output_type": "display_data"
    }
   ],
   "source": [
    "from matplotlib import pyplot as plt\n",
    "gen = datagen.flow(X_train[0:1], batch_size=1)\n",
    "for i in range(1, 6):\n",
    "    plt.subplot(1,5,i)\n",
    "    plt.axis(\"off\")\n",
    "    plt.imshow(gen.next().squeeze(), cmap='gray')\n",
    "    plt.plot()\n",
    "plt.show()"
   ]
  },
  {
   "cell_type": "code",
   "execution_count": 67,
   "metadata": {},
   "outputs": [],
   "source": [
    "training_set = datagen.flow(X_train,y_train,batch_size = 32)"
   ]
  },
  {
   "cell_type": "code",
   "execution_count": 68,
   "metadata": {},
   "outputs": [],
   "source": [
    "test_set = datagen.flow(X_test,y_test, batch_size = 32)"
   ]
  },
  {
   "cell_type": "code",
   "execution_count": 69,
   "metadata": {},
   "outputs": [
    {
     "name": "stdout",
     "output_type": "stream",
     "text": [
      "Epoch 1/10\n",
      "250/250 [==============================] - 110s 439ms/step - loss: 0.7923 - acc: 0.7445 - val_loss: 0.7635 - val_acc: 0.7419\n",
      "Epoch 2/10\n",
      "250/250 [==============================] - 115s 461ms/step - loss: 0.6265 - acc: 0.7911 - val_loss: 0.6272 - val_acc: 0.7803\n",
      "Epoch 3/10\n",
      "250/250 [==============================] - 109s 437ms/step - loss: 0.5427 - acc: 0.8160 - val_loss: 0.5963 - val_acc: 0.7938\n",
      "Epoch 4/10\n",
      "250/250 [==============================] - 109s 434ms/step - loss: 0.4821 - acc: 0.8326 - val_loss: 0.5575 - val_acc: 0.8034\n",
      "Epoch 5/10\n",
      "250/250 [==============================] - 117s 467ms/step - loss: 0.4410 - acc: 0.8470 - val_loss: 0.4942 - val_acc: 0.8288\n",
      "Epoch 6/10\n",
      "250/250 [==============================] - 109s 436ms/step - loss: 0.4131 - acc: 0.8581 - val_loss: 0.4575 - val_acc: 0.8369\n",
      "Epoch 7/10\n",
      "250/250 [==============================] - 111s 446ms/step - loss: 0.3834 - acc: 0.8636 - val_loss: 0.5100 - val_acc: 0.8182\n",
      "Epoch 8/10\n",
      "250/250 [==============================] - 113s 450ms/step - loss: 0.3756 - acc: 0.8712 - val_loss: 0.4037 - val_acc: 0.8507\n",
      "Epoch 9/10\n",
      "250/250 [==============================] - 115s 458ms/step - loss: 0.3355 - acc: 0.8815 - val_loss: 0.4170 - val_acc: 0.8534\n",
      "Epoch 10/10\n",
      "250/250 [==============================] - 114s 454ms/step - loss: 0.3159 - acc: 0.8871 - val_loss: 0.4225 - val_acc: 0.8523\n"
     ]
    },
    {
     "data": {
      "text/plain": [
       "<keras.callbacks.History at 0x1b864ebccc0>"
      ]
     },
     "execution_count": 69,
     "metadata": {},
     "output_type": "execute_result"
    }
   ],
   "source": [
    "cnn.fit_generator(training_set,\n",
    "                         samples_per_epoch = 8000,\n",
    "                         nb_epoch = 10,\n",
    "                         validation_data = test_set,\n",
    "                         nb_val_samples = 2000)"
   ]
  },
  {
   "cell_type": "code",
   "execution_count": 71,
   "metadata": {
    "scrolled": true
   },
   "outputs": [
    {
     "name": "stdout",
     "output_type": "stream",
     "text": [
      "946/946 [==============================] - 1s 1ms/step\n",
      "Loss and Accuracy is [0.3696305596173188, 0.8752642701090516]\n"
     ]
    }
   ],
   "source": [
    "Metrics=cnn.evaluate(X_test,y_test)\n",
    "print(\"Loss and Accuracy is\", Metrics)"
   ]
  },
  {
   "cell_type": "code",
   "execution_count": 83,
   "metadata": {},
   "outputs": [],
   "source": [
    "y_pred_train=cnn.predict_classes(x=X_train)"
   ]
  },
  {
   "cell_type": "code",
   "execution_count": null,
   "metadata": {},
   "outputs": [],
   "source": [
    "y_train"
   ]
  },
  {
   "cell_type": "code",
   "execution_count": 84,
   "metadata": {},
   "outputs": [
    {
     "name": "stdout",
     "output_type": "stream",
     "text": [
      "0.9388888888888889\n"
     ]
    }
   ],
   "source": [
    "from sklearn import metrics\n",
    "from sklearn.metrics import accuracy_score\n",
    "print(metrics.accuracy_score(y_train,y_pred_train))"
   ]
  },
  {
   "cell_type": "code",
   "execution_count": 85,
   "metadata": {},
   "outputs": [
    {
     "name": "stdout",
     "output_type": "stream",
     "text": [
      "              precision    recall  f1-score   support\n",
      "\n",
      "           0       0.81      0.48      0.61       196\n",
      "           1       0.95      0.98      0.97       313\n",
      "           2       0.99      0.89      0.93       228\n",
      "           3       0.99      0.98      0.98       487\n",
      "           4       0.93      0.93      0.93       180\n",
      "           5       0.95      0.99      0.97       387\n",
      "           6       0.85      0.93      0.89       497\n",
      "           7       0.94      0.98      0.96       185\n",
      "           8       0.91      0.98      0.94       421\n",
      "           9       0.95      0.96      0.95       192\n",
      "          10       0.99      0.98      0.99       393\n",
      "          11       0.98      0.97      0.97       301\n",
      "\n",
      "   micro avg       0.94      0.94      0.94      3780\n",
      "   macro avg       0.94      0.92      0.92      3780\n",
      "weighted avg       0.94      0.94      0.94      3780\n",
      "\n"
     ]
    }
   ],
   "source": [
    "from sklearn.metrics import classification_report\n",
    "print(classification_report(y_train,y_pred_train))"
   ]
  },
  {
   "cell_type": "code",
   "execution_count": 73,
   "metadata": {},
   "outputs": [],
   "source": [
    "y_pred_class=cnn.predict_classes(x=X_test)"
   ]
  },
  {
   "cell_type": "code",
   "execution_count": 80,
   "metadata": {},
   "outputs": [
    {
     "data": {
      "text/plain": [
       "array([10,  6,  4,  7,  3,  3,  3, 10,  3,  8, 10, 11,  5,  6,  3,  5,  3,\n",
       "       10,  1, 10,  2,  6,  6,  5,  8,  3,  2,  3, 10,  4,  1,  7,  5,  3,\n",
       "        3,  3, 10,  0,  8,  5,  1, 10, 11,  6,  3,  1,  8,  6,  8,  5,  6,\n",
       "        6, 11,  6,  5,  9,  0,  2,  8,  6,  8, 11,  5,  6,  6,  6,  3, 11,\n",
       "       11, 10,  6,  6,  1,  6, 10,  2,  2,  8,  3,  6, 10,  0,  7,  2,  8,\n",
       "        8,  1,  3,  2,  0,  6,  1,  8,  1,  4,  3,  3,  3,  5,  6,  6,  5,\n",
       "        4,  3,  6,  6, 11, 10,  1,  9,  1,  0, 10,  6,  0,  1,  5,  7,  9,\n",
       "        6,  6,  5,  8,  6,  6,  2,  5, 10,  1, 10,  6,  1,  4,  3,  1,  1,\n",
       "        4,  6, 11,  6,  6,  7,  6,  1,  1,  6,  0,  5,  3, 10,  6,  3,  3,\n",
       "        3, 11,  1,  4,  6,  8,  1,  3, 11,  8, 11,  8, 11, 11,  2,  2,  8,\n",
       "        1,  6, 11,  0,  2, 10,  3,  6, 10,  8, 10,  0,  3,  8,  8,  5,  9,\n",
       "        0,  2,  5,  6,  3,  3,  5,  2,  3,  5,  8,  0,  6,  3,  3,  2,  0,\n",
       "        0,  3,  0,  1,  8,  3,  5,  4,  2,  3, 11,  1,  3,  9,  0,  6,  9,\n",
       "       11,  8,  1,  6,  3,  3,  8,  6, 11,  1,  6,  3, 11,  6,  1,  0,  2,\n",
       "        8,  3, 10, 11,  4,  2, 10,  2,  2,  9,  3,  3,  8,  1,  1,  6, 10,\n",
       "       11,  5,  3,  3,  9,  3,  6,  3,  2,  6, 10,  5,  4,  1,  3,  8, 10,\n",
       "        0, 10, 10,  7,  6, 10,  3,  0,  3,  3,  1,  8,  6,  4,  6,  3, 10,\n",
       "        6, 11,  8, 10,  6, 10, 10, 10,  3,  3,  0,  7,  8,  5, 11,  0,  0,\n",
       "        8,  4,  3,  2,  4,  1,  5,  0, 10, 10,  6,  1,  8,  6, 10, 10,  5,\n",
       "        3,  6,  5,  3,  3,  3, 11,  3,  3, 11,  0,  5,  8,  1,  1, 11,  9,\n",
       "        7,  8,  8,  5, 10, 11, 11, 10,  6,  3,  3,  6,  5,  5, 10, 11,  5,\n",
       "        9,  5,  1,  2,  6,  7,  8, 10,  4,  8,  5,  3,  5,  0, 11,  3,  7,\n",
       "        2,  6,  6,  6,  6,  5, 10,  2, 10,  6, 10,  6,  8,  2,  2,  3,  5,\n",
       "       11,  6,  0,  6,  8,  6,  7,  7, 11, 10, 10,  7,  7,  0, 11,  1,  8,\n",
       "        6,  9,  3,  0,  6,  9,  2,  5,  1,  2,  1,  9,  3,  3, 10,  3, 10,\n",
       "        4,  1,  0,  4,  1,  6,  5, 10,  0, 10,  8,  3,  6,  5, 11,  2,  2,\n",
       "        5,  1, 10,  0,  9,  4,  9,  5,  3, 11, 10,  0,  9,  2,  0,  6, 10,\n",
       "        3, 10,  6,  8,  5,  6,  5,  4,  0, 10,  2,  8,  8,  9,  5, 10,  2,\n",
       "        5, 11,  8, 10,  1,  1,  4,  3,  3, 10,  7, 10,  9,  5,  2,  8,  5,\n",
       "        3,  2,  8,  7,  3,  7,  8,  8,  1,  1,  1,  1,  8,  2, 11,  5,  9,\n",
       "        6,  0,  7,  2, 11,  5,  8, 11,  7,  1,  8,  5,  9, 10, 11,  2,  7,\n",
       "        6,  5,  6,  2,  3,  8,  1,  8,  8,  2,  9,  2,  6,  6,  4,  8, 11,\n",
       "        2, 11,  6,  6,  0,  5,  0,  6, 11, 11,  3, 10,  8,  6, 11,  9,  8,\n",
       "        4, 11,  1,  8,  9, 10,  7,  6, 11,  4,  6, 10,  3,  9,  8, 11,  6,\n",
       "        2,  8,  3,  6,  4, 10,  6,  1,  7,  6,  9,  8,  8, 10,  9,  0,  3,\n",
       "       11,  5,  6,  1,  6,  2,  7, 10,  8,  6, 10,  6,  3,  1,  0, 10,  5,\n",
       "        4,  8,  3,  8,  6,  7,  1, 11,  5,  5,  6,  8, 11, 10,  3,  5, 11,\n",
       "        9,  7,  8,  5, 11,  6,  0, 11,  2, 11,  8, 11,  2,  8, 10,  0,  4,\n",
       "       10,  6,  6,  3,  3,  3,  0,  1,  3,  0,  2,  0, 10,  3, 10,  8,  3,\n",
       "       11,  8,  1,  5,  3,  9,  1,  1,  8,  8,  5,  4,  2,  2,  8,  4,  0,\n",
       "       11,  6,  6,  3, 10,  1,  3,  7, 11,  8,  0, 11,  7,  5,  2,  3,  4,\n",
       "       10,  8,  8,  4,  3,  4, 11, 11,  3,  5,  7,  8,  6,  4,  0,  9, 11,\n",
       "        0,  6,  6, 10, 10,  9,  9, 11,  2,  3, 11,  8,  3,  6,  6,  8,  4,\n",
       "       11,  9,  9, 11, 10, 11,  0,  6, 10,  3,  3, 11,  0,  3,  6,  9,  3,\n",
       "        0, 10,  5,  6,  6, 11,  9,  0,  3,  6,  3, 10,  3,  5,  3,  7,  6,\n",
       "        3,  6,  3,  5,  3,  7, 10, 11,  3,  1, 11,  3, 10,  1,  6, 10,  8,\n",
       "        5,  1, 10,  0,  0,  1,  6,  6,  4,  8,  1, 11,  0,  8,  3,  3,  8,\n",
       "        6,  3,  8,  5,  0,  7,  0, 11,  6,  5, 10, 10,  5,  1,  5,  7,  8,\n",
       "        8,  5,  6,  5,  5, 11,  3,  0, 11,  1,  1, 10,  2,  1, 10,  0,  5,\n",
       "       10,  1,  1,  8,  4,  1,  6, 11,  6,  6, 10,  8,  0,  6,  1, 10,  0,\n",
       "        5,  2,  6,  3,  8,  2,  8,  1, 10, 10,  1,  5,  7,  9,  0,  6, 10,\n",
       "        1,  9,  5, 11, 11, 10,  2, 10,  5,  5, 11,  5,  6, 10,  5,  0,  6,\n",
       "        6, 10,  1,  6,  8,  5,  6,  5,  3,  5,  9,  0, 11,  4,  0,  7, 11,\n",
       "        6,  7,  3,  4, 10,  3,  3, 10, 10, 11, 10,  5,  5,  4,  6,  4,  6,\n",
       "        4,  9,  8,  6,  8,  5,  3, 10,  2,  5,  6,  5,  6,  4,  4,  6,  1,\n",
       "        7,  3, 11, 11,  2,  1,  3,  8,  3,  2,  2], dtype=int8)"
      ]
     },
     "execution_count": 80,
     "metadata": {},
     "output_type": "execute_result"
    }
   ],
   "source": [
    "y_test"
   ]
  },
  {
   "cell_type": "code",
   "execution_count": 76,
   "metadata": {},
   "outputs": [
    {
     "data": {
      "text/plain": [
       "array([10,  8,  4,  7,  3,  3,  3, 10,  3,  8, 10, 11,  5,  6,  3,  5,  3,\n",
       "       10,  1, 10,  2,  6,  6,  5,  8,  3,  2,  3, 10,  4,  9,  7,  5,  3,\n",
       "        3,  7, 10,  0,  8,  5,  1, 10, 11,  6,  3,  1,  8,  4,  8,  5,  6,\n",
       "        6, 11,  8,  5,  9,  0,  7,  8,  6,  8, 11,  5,  6,  6,  5,  3, 11,\n",
       "       11, 10,  6,  6,  1,  6, 10,  2,  2,  8,  3,  6, 10,  6, 11,  5,  8,\n",
       "        8,  1,  3,  2,  8,  6,  1,  8,  1,  4,  3,  3,  3,  5,  0,  6,  5,\n",
       "        4,  3,  6,  6, 11, 10,  8,  9,  1,  6, 10,  6,  6,  1,  5,  7,  8,\n",
       "        6,  6,  5,  8,  6,  6,  2,  5, 10,  1, 10,  6,  1,  7,  3,  1,  1,\n",
       "        4,  6, 11,  6,  6,  7,  6,  1,  1,  0,  6,  5,  3, 10,  6,  3,  3,\n",
       "        3, 11,  1,  4,  6,  8,  1,  3, 11,  8, 11,  8, 11, 11,  2,  2,  8,\n",
       "        1,  6,  5,  0,  2, 10,  3,  6, 10,  8, 10,  0,  3,  8,  8,  5,  9,\n",
       "        6,  1,  5,  6,  3,  3,  5,  5,  3,  5,  8,  0,  6,  3,  9,  2,  6,\n",
       "        0,  3,  6,  1,  8,  3,  5,  4,  2,  3, 11,  1,  3,  9,  6,  6,  9,\n",
       "       11,  8,  1,  6,  3,  3,  8,  6, 11,  1,  6,  3, 11,  6,  1,  0,  2,\n",
       "        9,  7, 10, 11,  4,  2, 10,  2,  2,  8,  3,  3,  8,  1,  1,  6, 10,\n",
       "       11,  5,  3,  3,  9,  3,  6,  3,  2,  6, 10,  5, 11,  1,  3,  8,  9,\n",
       "        0, 10, 10,  7,  0, 10,  3, 11,  3,  3,  1,  8,  6,  4,  6,  9, 10,\n",
       "        6, 11,  8, 10,  6, 10, 10,  9,  3,  3,  0,  7,  8,  5, 11,  6,  6,\n",
       "        8,  4,  3,  5, 11,  1,  5,  6, 10, 10,  6,  1,  8,  7, 10, 10,  5,\n",
       "        3,  6,  5,  3,  3,  3, 11,  3,  3, 11,  6,  5,  8,  1,  1, 11,  9,\n",
       "        7,  8,  8,  5, 10, 11, 11, 10,  6,  3,  3,  6,  5,  5, 10, 11,  5,\n",
       "        9,  5,  1,  2,  6,  8,  8, 10,  4,  8,  3,  3,  5,  6, 11,  3,  7,\n",
       "        2,  6,  6,  6,  6,  5, 10,  2, 10,  6, 10,  5,  8,  2,  2,  3,  5,\n",
       "       11,  6,  8,  6,  8,  6,  7,  7, 11, 10, 10,  7,  7,  6, 11,  1,  8,\n",
       "        6,  9,  3,  0,  0,  9,  2,  5,  1,  2,  1,  9,  3,  3, 10,  3, 10,\n",
       "        4,  1,  6,  4,  1,  6,  5, 10,  6, 10,  8,  3,  6,  5, 11,  4,  2,\n",
       "        5,  1,  1,  6,  9,  2,  9,  5,  3, 11, 10,  6,  9,  2,  0,  6, 10,\n",
       "        3, 10,  6,  8,  8,  6,  5,  4,  6, 10,  2,  8,  8,  9,  5, 10,  2,\n",
       "        5, 11,  8, 10,  1,  1,  4,  3,  3, 10,  7, 10,  9,  5,  2,  8,  5,\n",
       "        3,  2,  8, 11,  3,  7,  8,  8,  1,  1,  1,  1,  8,  2, 11,  5,  9,\n",
       "        6,  0,  7,  2, 11,  5,  8, 11,  7,  1,  8,  5,  9, 10, 11,  2,  7,\n",
       "        6,  5,  6,  2,  3,  8,  1,  8,  3,  2,  8,  8,  0,  6,  4,  8, 11,\n",
       "        2,  8,  6,  6,  6,  5,  5,  6, 11, 11,  9, 10,  8,  6, 11,  9,  8,\n",
       "        4, 11,  1,  8,  9, 10,  7,  6, 11,  4,  6, 10,  3,  9,  8, 11,  0,\n",
       "        2,  8,  3,  6,  0, 10,  6,  1,  7,  6,  9,  8,  8, 10,  9,  6,  3,\n",
       "       11,  5,  6,  1,  6,  2,  7, 10,  8,  6, 10,  6,  3,  1,  0, 10,  5,\n",
       "        4,  8,  3,  8,  6,  7,  1, 11,  5,  5,  6,  8,  7, 10,  9,  5,  1,\n",
       "        9,  7,  3,  5, 11,  6,  0,  7,  2, 11,  8,  7,  1,  8, 10,  6,  2,\n",
       "       10,  0,  6,  3,  3,  3,  0,  1,  3,  6,  2,  0, 10,  3, 10,  8,  3,\n",
       "       11,  9,  1,  5,  3,  9,  1,  1,  8,  8,  5,  4,  2,  2,  8,  8,  6,\n",
       "       11,  0,  6,  3, 10,  1,  3,  7, 11,  8,  6, 11,  7,  5,  2,  3,  0,\n",
       "       10,  8,  8, 11,  3,  4, 11, 11,  3,  5,  7,  8,  6,  4,  6,  9, 11,\n",
       "        0,  6,  6, 10, 10,  9,  9, 11,  2,  3, 11,  8,  3,  6, 11,  8,  4,\n",
       "       11,  9,  9, 11, 10, 11,  6,  0, 10,  3,  3, 11,  6,  3,  7,  9,  3,\n",
       "        0, 10,  5,  0,  6, 11,  8,  6,  3,  6,  3, 10,  3,  5,  3,  7,  6,\n",
       "        3,  6,  3,  5,  3,  7, 10, 11,  8,  1, 11,  3, 10,  1,  8, 10,  8,\n",
       "        5,  1, 10,  6,  5,  1,  0,  6,  4,  8,  1, 11,  6,  8,  3,  3,  7,\n",
       "        6,  3,  8,  5,  8,  7,  0, 11,  6,  3, 10, 10,  5,  1,  5,  7,  8,\n",
       "        8,  5,  6,  5,  5, 11,  3,  0,  7,  1,  1, 10,  2,  1, 10,  0,  5,\n",
       "       10,  1,  1,  8,  4,  1,  6, 11,  6,  6, 10,  8,  6,  6,  1, 10,  6,\n",
       "        5,  2,  0,  7,  8,  2,  8,  1, 10, 10,  1,  5,  7,  9,  6,  6, 10,\n",
       "        1,  9,  5, 11, 11, 10,  2, 10,  5,  5, 11,  5,  6,  9,  5,  0,  6,\n",
       "        6, 10,  1,  6,  8,  5,  6,  5,  3,  5,  9,  6, 11,  4,  6,  7, 11,\n",
       "        6,  7, 11,  4, 10,  3,  3, 10, 10, 11, 10,  5,  5,  4,  6,  4,  6,\n",
       "        4,  9,  8,  6,  8,  5,  3, 10,  2,  5,  6,  5,  6,  4,  4,  6,  1,\n",
       "        7,  3, 11, 11,  2,  1,  3,  8,  3,  2,  9], dtype=int64)"
      ]
     },
     "execution_count": 76,
     "metadata": {},
     "output_type": "execute_result"
    }
   ],
   "source": [
    "y_pred_class"
   ]
  },
  {
   "cell_type": "code",
   "execution_count": 81,
   "metadata": {},
   "outputs": [
    {
     "name": "stdout",
     "output_type": "stream",
     "text": [
      "0.8752642706131079\n"
     ]
    }
   ],
   "source": [
    "from sklearn import metrics\n",
    "from sklearn.metrics import accuracy_score\n",
    "print(metrics.accuracy_score(y_test,y_pred_class))"
   ]
  },
  {
   "cell_type": "code",
   "execution_count": 82,
   "metadata": {},
   "outputs": [
    {
     "name": "stdout",
     "output_type": "stream",
     "text": [
      "              precision    recall  f1-score   support\n",
      "\n",
      "           0       0.61      0.34      0.44        64\n",
      "           1       0.95      0.97      0.96        77\n",
      "           2       0.96      0.85      0.90        59\n",
      "           3       0.97      0.93      0.95       124\n",
      "           4       0.94      0.78      0.85        41\n",
      "           5       0.91      0.97      0.94        88\n",
      "           6       0.76      0.85      0.80       136\n",
      "           7       0.73      0.92      0.81        36\n",
      "           8       0.84      0.95      0.89        95\n",
      "           9       0.76      0.90      0.82        39\n",
      "          10       1.00      0.96      0.98       103\n",
      "          11       0.91      0.92      0.91        84\n",
      "\n",
      "   micro avg       0.88      0.88      0.88       946\n",
      "   macro avg       0.86      0.86      0.86       946\n",
      "weighted avg       0.87      0.88      0.87       946\n",
      "\n"
     ]
    }
   ],
   "source": [
    "from sklearn.metrics import classification_report\n",
    "print(classification_report(y_test,y_pred_class))"
   ]
  },
  {
   "cell_type": "markdown",
   "metadata": {},
   "source": [
    "# The Validation/Test Accuracy here is 87% where as the accuracy for Train data is 93% so this seems to be a good overall accuracy"
   ]
  },
  {
   "cell_type": "code",
   "execution_count": null,
   "metadata": {},
   "outputs": [],
   "source": []
  }
 ],
 "metadata": {
  "kernelspec": {
   "display_name": "Python 3",
   "language": "python",
   "name": "python3"
  },
  "language_info": {
   "codemirror_mode": {
    "name": "ipython",
    "version": 3
   },
   "file_extension": ".py",
   "mimetype": "text/x-python",
   "name": "python",
   "nbconvert_exporter": "python",
   "pygments_lexer": "ipython3",
   "version": "3.6.5"
  }
 },
 "nbformat": 4,
 "nbformat_minor": 2
}
